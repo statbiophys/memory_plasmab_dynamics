{
 "cells": [
  {
   "cell_type": "code",
   "execution_count": null,
   "id": "72a7330b-b6a2-48c6-8986-0d787cd36274",
   "metadata": {},
   "outputs": [],
   "source": [
    "import numpy as np\n",
    "import matplotlib.pyplot as plt\n",
    "import pandas as pd\n",
    "\n",
    "import sys\n",
    "sys.path.insert(0, \"../func_py/\")\n",
    "import infer_gbm as gbm\n",
    "import data_utils as dtu"
   ]
  },
  {
   "cell_type": "code",
   "execution_count": 2,
   "id": "743e0405-7153-4d23-99dd-66b477aad099",
   "metadata": {},
   "outputs": [],
   "source": [
    "metadata = pd.read_csv('metadata/metadata.tsv', sep='\\t', index_col=0)\n",
    "\n",
    "# List containing the 3 inference settings. Each element is composed by:\n",
    "# - setting label patinet-ntimepoints\n",
    "# - list of samples used in the inference\n",
    "# - delta times that separate the samples in years\n",
    "# - parameters of the gamma import function\n",
    "pairs_and_dts = [\n",
    "    ('1', ('pat1_t1_mc', 'pat1_t2_mc'), [10], [4,4]),\n",
    "    ('2_2', ('pat2_t1_mc', 'pat2_t2_mc'), [6], [4,4]),\n",
    "    ('2_3', ('pat2_t1_mc', 'pat2_t2_mc', 'pat2_t3_mc'), [6, 1/6], [4,4])\n",
    "]"
   ]
  },
  {
   "cell_type": "code",
   "execution_count": 3,
   "id": "ff98d559-5fe1-4050-9432-dc77c54a4971",
   "metadata": {},
   "outputs": [
    {
     "data": {
      "text/html": [
       "<div>\n",
       "<style scoped>\n",
       "    .dataframe tbody tr th:only-of-type {\n",
       "        vertical-align: middle;\n",
       "    }\n",
       "\n",
       "    .dataframe tbody tr th {\n",
       "        vertical-align: top;\n",
       "    }\n",
       "\n",
       "    .dataframe thead th {\n",
       "        text-align: right;\n",
       "    }\n",
       "</style>\n",
       "<table border=\"1\" class=\"dataframe\">\n",
       "  <thead>\n",
       "    <tr style=\"text-align: right;\">\n",
       "      <th></th>\n",
       "      <th>n1</th>\n",
       "      <th>n2</th>\n",
       "      <th>n3</th>\n",
       "      <th>occ</th>\n",
       "      <th>freq1</th>\n",
       "      <th>freq2</th>\n",
       "      <th>freq3</th>\n",
       "    </tr>\n",
       "    <tr>\n",
       "      <th>index</th>\n",
       "      <th></th>\n",
       "      <th></th>\n",
       "      <th></th>\n",
       "      <th></th>\n",
       "      <th></th>\n",
       "      <th></th>\n",
       "      <th></th>\n",
       "    </tr>\n",
       "  </thead>\n",
       "  <tbody>\n",
       "    <tr>\n",
       "      <th>1_0_0</th>\n",
       "      <td>1</td>\n",
       "      <td>0</td>\n",
       "      <td>0</td>\n",
       "      <td>17989</td>\n",
       "      <td>0.000028</td>\n",
       "      <td>0.000000</td>\n",
       "      <td>0.000000</td>\n",
       "    </tr>\n",
       "    <tr>\n",
       "      <th>0_0_1</th>\n",
       "      <td>0</td>\n",
       "      <td>0</td>\n",
       "      <td>1</td>\n",
       "      <td>16053</td>\n",
       "      <td>0.000000</td>\n",
       "      <td>0.000000</td>\n",
       "      <td>0.000029</td>\n",
       "    </tr>\n",
       "    <tr>\n",
       "      <th>0_1_0</th>\n",
       "      <td>0</td>\n",
       "      <td>1</td>\n",
       "      <td>0</td>\n",
       "      <td>13120</td>\n",
       "      <td>0.000000</td>\n",
       "      <td>0.000036</td>\n",
       "      <td>0.000000</td>\n",
       "    </tr>\n",
       "    <tr>\n",
       "      <th>0_1_1</th>\n",
       "      <td>0</td>\n",
       "      <td>1</td>\n",
       "      <td>1</td>\n",
       "      <td>1389</td>\n",
       "      <td>0.000000</td>\n",
       "      <td>0.000036</td>\n",
       "      <td>0.000029</td>\n",
       "    </tr>\n",
       "    <tr>\n",
       "      <th>1_0_1</th>\n",
       "      <td>1</td>\n",
       "      <td>0</td>\n",
       "      <td>1</td>\n",
       "      <td>1309</td>\n",
       "      <td>0.000028</td>\n",
       "      <td>0.000000</td>\n",
       "      <td>0.000029</td>\n",
       "    </tr>\n",
       "    <tr>\n",
       "      <th>...</th>\n",
       "      <td>...</td>\n",
       "      <td>...</td>\n",
       "      <td>...</td>\n",
       "      <td>...</td>\n",
       "      <td>...</td>\n",
       "      <td>...</td>\n",
       "      <td>...</td>\n",
       "    </tr>\n",
       "    <tr>\n",
       "      <th>14_5_5</th>\n",
       "      <td>14</td>\n",
       "      <td>5</td>\n",
       "      <td>5</td>\n",
       "      <td>1</td>\n",
       "      <td>0.000389</td>\n",
       "      <td>0.000181</td>\n",
       "      <td>0.000143</td>\n",
       "    </tr>\n",
       "    <tr>\n",
       "      <th>14_5_7</th>\n",
       "      <td>14</td>\n",
       "      <td>5</td>\n",
       "      <td>7</td>\n",
       "      <td>1</td>\n",
       "      <td>0.000389</td>\n",
       "      <td>0.000181</td>\n",
       "      <td>0.000201</td>\n",
       "    </tr>\n",
       "    <tr>\n",
       "      <th>14_8_10</th>\n",
       "      <td>14</td>\n",
       "      <td>8</td>\n",
       "      <td>10</td>\n",
       "      <td>1</td>\n",
       "      <td>0.000389</td>\n",
       "      <td>0.000289</td>\n",
       "      <td>0.000287</td>\n",
       "    </tr>\n",
       "    <tr>\n",
       "      <th>4_3_12</th>\n",
       "      <td>4</td>\n",
       "      <td>3</td>\n",
       "      <td>12</td>\n",
       "      <td>1</td>\n",
       "      <td>0.000111</td>\n",
       "      <td>0.000108</td>\n",
       "      <td>0.000344</td>\n",
       "    </tr>\n",
       "    <tr>\n",
       "      <th>9_9_5</th>\n",
       "      <td>9</td>\n",
       "      <td>9</td>\n",
       "      <td>5</td>\n",
       "      <td>1</td>\n",
       "      <td>0.000250</td>\n",
       "      <td>0.000325</td>\n",
       "      <td>0.000143</td>\n",
       "    </tr>\n",
       "  </tbody>\n",
       "</table>\n",
       "<p>690 rows × 7 columns</p>\n",
       "</div>"
      ],
      "text/plain": [
       "         n1  n2  n3    occ     freq1     freq2     freq3\n",
       "index                                                   \n",
       "1_0_0     1   0   0  17989  0.000028  0.000000  0.000000\n",
       "0_0_1     0   0   1  16053  0.000000  0.000000  0.000029\n",
       "0_1_0     0   1   0  13120  0.000000  0.000036  0.000000\n",
       "0_1_1     0   1   1   1389  0.000000  0.000036  0.000029\n",
       "1_0_1     1   0   1   1309  0.000028  0.000000  0.000029\n",
       "...      ..  ..  ..    ...       ...       ...       ...\n",
       "14_5_5   14   5   5      1  0.000389  0.000181  0.000143\n",
       "14_5_7   14   5   7      1  0.000389  0.000181  0.000201\n",
       "14_8_10  14   8  10      1  0.000389  0.000289  0.000287\n",
       "4_3_12    4   3  12      1  0.000111  0.000108  0.000344\n",
       "9_9_5     9   9   5      1  0.000250  0.000325  0.000143\n",
       "\n",
       "[690 rows x 7 columns]"
      ]
     },
     "execution_count": 3,
     "metadata": {},
     "output_type": "execute_result"
    }
   ],
   "source": [
    "# Choosing one setting from the pairs_and_dts\n",
    "label, samples, dtimes, priors = pairs_and_dts[2]\n",
    "\n",
    "# Dataframe of sparse counts \n",
    "sp_counts = dtu.import_and_build_sparse_counts(samples)\n",
    "sp_counts"
   ]
  },
  {
   "cell_type": "markdown",
   "id": "b1180ba8-a8a8-4973-bb03-275abaef02f5",
   "metadata": {},
   "source": [
    "### Studying the prior gamma function\n",
    "We vary the two parameters of the import function of the MC integration, which is chosen as a gamma distribution.\n",
    "We vary the parameter $a$ of the gamma and a factor $c$ that rescales the standard deviation with an estimate of the largest possible value of $x = \\log n$ that can be sampled.\n",
    "More precisely\n",
    "$$\n",
    "\\sigma = \\frac{x_{max}}{c} \n",
    "$$\n",
    "\n",
    "The pair of parameters $a$ and $c$ are then used as the last argument of pairs_and_dts."
   ]
  },
  {
   "cell_type": "code",
   "execution_count": 4,
   "id": "e930e319-74d2-4232-89ed-e198d6150a6c",
   "metadata": {},
   "outputs": [
    {
     "data": {
      "application/vnd.jupyter.widget-view+json": {
       "model_id": "f321bc9d70194ed6ab5a1106077f2aec",
       "version_major": 2,
       "version_minor": 0
      },
      "text/plain": [
       "  0%|          | 0/30 [00:00<?, ?it/s]"
      ]
     },
     "metadata": {},
     "output_type": "display_data"
    }
   ],
   "source": [
    "gamma_as = [3, 5, 7]\n",
    "std_factors = np.logspace(0, 1, 10)\n",
    "tau, theta, M_tot, n0 = 15, 10, 10**7, 20\n",
    "infer_pars = gbm.gbm_infer_pars(dtimes, M_tot, n0, 1, n_eval=20000, prior_pars=[4,4])\n",
    "\n",
    "max_n1 = max(sp_counts.n1.values)\n",
    "M1 = np.sum(sp_counts.n1 * sp_counts.occ)\n",
    "like_f_at_prior = lambda x : gbm.MC_gbm_full_ll(sp_counts, tau, theta, infer_pars, x)\n",
    "\n",
    "avs, stds = gbm.scan_gamma_prior_std(gamma_as, std_factors, max_n1, M1, infer_pars.M_tot, like_f_at_prior, R=40)"
   ]
  },
  {
   "cell_type": "code",
   "execution_count": 5,
   "id": "33b4f66d-10ee-4c0a-aeb3-66c59526a6b0",
   "metadata": {},
   "outputs": [
    {
     "data": {
      "image/png": "[encoded data removed]",
      "text/plain": [
       "<Figure size 576x288 with 2 Axes>"
      ]
     },
     "metadata": {
      "needs_background": "light"
     },
     "output_type": "display_data"
    }
   ],
   "source": [
    "fig, (ax1, ax2) = plt.subplots(1,2, figsize=(8,4))\n",
    "\n",
    "ax1.set_xscale('log')\n",
    "ax2.set_xscale('log')\n",
    "ax1.set_yscale('log')\n",
    "ax1.set_xlabel('gamma std_factor import sampling')\n",
    "ax1.set_ylabel('rel error log-like')\n",
    "ax2.set_ylabel('average log-like')\n",
    "for i, a in enumerate(gamma_as):\n",
    "    ax1.plot(std_factors, np.abs(stds[i]), label='gamma a:%3.2f'%a)\n",
    "    ax2.plot(std_factors, np.abs(avs[i]), label='gamma a:%3.2f'%a)\n",
    "ax1.legend()\n",
    "\n",
    "plt.tight_layout()\n",
    "#plt.savefig('plots/gbm/priors/gamma_prior'+label+'_nmin'+ str(n_min) +'.svg')"
   ]
  },
  {
   "cell_type": "markdown",
   "id": "d54650dc-94b7-4749-a385-2b5122cac529",
   "metadata": {},
   "source": [
    "### We check how the MC varianece of the log-likelihood scales with number of samples at the best importance function"
   ]
  },
  {
   "cell_type": "code",
   "execution_count": null,
   "id": "c27a640d-68ac-498c-9126-f26443431a08",
   "metadata": {},
   "outputs": [],
   "source": [
    "tau, theta, M_tot, n0 = 15, 10, 10**7, 20\n",
    "infer_pars = gbm.gbm_infer_pars(dtimes, M_tot, n0, n_min, n_eval=20000, prior_pars=[4,4])\n",
    "import_f = gbm.get_gamma_prior(max_n1, M1, M_tot, infer_pars.prior_pars[0], infer_pars.prior_pars[1])\n",
    "\n",
    "R = 30\n",
    "n_evals = np.logspace(3.5, 5.3, 10, dtype=int)\n",
    "stds = []\n",
    "progress = tqdm(total=len(n_evals))\n",
    "for n_e in n_evals:\n",
    "    infer_pars.n_eval = n_e\n",
    "    vals = [gbm.MC_gbm_full_ll(sp_counts, tau, theta, infer_pars, import_f) for _ in range(R)]\n",
    "    stds.append(np.std(vals))\n",
    "    progress.update(1)"
   ]
  },
  {
   "cell_type": "code",
   "execution_count": null,
   "id": "17147879-8da6-42c1-85ae-33321ac70397",
   "metadata": {},
   "outputs": [],
   "source": [
    "def std_lin(logx, offset):\n",
    "    return offset - logx / 2.0\n",
    "\n",
    "pars, cov = curve_fit(std_lin, np.log(n_evals), np.log(stds))\n",
    "print(pars)\n",
    "n_eval = 2 * 10**5\n",
    "print('error with ' + str(n_eval) + ' points:', np.exp(std_lin(np.log(n_eval), pars[0])))"
   ]
  },
  {
   "cell_type": "code",
   "execution_count": null,
   "id": "bdb309cc-1e00-4e4e-a364-a50ba6d66760",
   "metadata": {},
   "outputs": [],
   "source": [
    "plt.loglog()\n",
    "plt.xlabel('N points')\n",
    "plt.ylabel('LL standard deviation')\n",
    "plt.title('offset:' + str(pars[0]))\n",
    "plt.plot(n_evals, stds)\n",
    "xs = np.logspace(3.5, 6, 10)\n",
    "plt.plot(xs, np.exp(std_lin(np.log(xs), pars[0])))\n",
    "\n",
    "plt.tight_layout()\n",
    "#plt.savefig('plots/gbm/priors/std_npoints_'+label+'_nmin'+ str(n_min) +'.svg')"
   ]
  },
  {
   "cell_type": "code",
   "execution_count": null,
   "id": "fa7ee874-8829-486c-aba7-4f20f527ff99",
   "metadata": {},
   "outputs": [],
   "source": []
  }
 ],
 "metadata": {
  "kernelspec": {
   "display_name": "Python 3",
   "language": "python",
   "name": "python3"
  },
  "language_info": {
   "codemirror_mode": {
    "name": "ipython",
    "version": 3
   },
   "file_extension": ".py",
   "mimetype": "text/x-python",
   "name": "python",
   "nbconvert_exporter": "python",
   "pygments_lexer": "ipython3",
   "version": "3.8.8"
  }
 },
 "nbformat": 4,
 "nbformat_minor": 5
}
