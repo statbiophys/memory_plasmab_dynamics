{
 "cells": [
  {
   "cell_type": "code",
   "execution_count": 1,
   "id": "3aa6ed68-32db-41e2-a393-f09caf5b33c4",
   "metadata": {},
   "outputs": [],
   "source": [
    "import numpy as np\n",
    "import matplotlib.pyplot as plt\n",
    "import pandas as pd\n",
    "\n",
    "import sys\n",
    "sys.path.insert(0, \"../func_py/\")\n",
    "import infer_memplasm as mp\n",
    "import data_utils as dtu"
   ]
  },
  {
   "cell_type": "code",
   "execution_count": 2,
   "id": "8e0746dc-21f2-47f1-abc9-0493ee09148f",
   "metadata": {},
   "outputs": [],
   "source": [
    "def marginalize(filtered_fr, field, agg_label, norm=True):\n",
    "    aggr = filtered_fr.groupby(field).agg({agg_label : sum})\n",
    "    ns, ps = aggr.index.values, aggr[agg_label].values\n",
    "    if norm: ps = ps / ps.sum()\n",
    "    return ns, ps\n",
    "\n",
    "\n",
    "def fill_tuple(fr, labels, max_n_per_label):\n",
    "    prod_set = []\n",
    "    for max_n in max_n_per_label:\n",
    "        prod_set.append( np.arange(int(max_n)) )\n",
    "\n",
    "    for ns in mp.product(*prod_set):\n",
    "        _id = \"\"\n",
    "        for i, n in enumerate(ns):\n",
    "            _id += str(n) + \"_\"\n",
    "        _id = _id[:-1]\n",
    "\n",
    "        if _id not in fr.index:\n",
    "            for i, si in enumerate(labels):\n",
    "                fr.loc[_id, si] = ns[i]\n",
    "    return fr\n",
    "\n",
    "def make_count_profile(sp_counts, field, agg_label, bins=8, density=True):\n",
    "    \n",
    "    delta_ser = sp_counts.groupby(field).agg({agg_label : sum})\n",
    "    delta_uni, delta_counts = delta_ser.index.values, delta_ser[agg_label].values\n",
    "\n",
    "    if type(bins) == int:\n",
    "        bins_mid = np.linspace(min(delta_uni), max(delta_uni), bins)\n",
    "        dbin = bins_mid[1] - bins_mid[0]\n",
    "        bins = np.append(bins_mid - 0.5*dbin, bins_mid[-1] + 0.5*dbin)\n",
    "    else:\n",
    "        bins_mid = (bins[1:] + bins[:-1]) / 2.0\n",
    "        dbin = bins_mid[1] - bins_mid[0]\n",
    "    \n",
    "    bin_counts = np.zeros(len(bins_mid))\n",
    "    for i in range(len(bins_mid)):\n",
    "        mask = np.logical_and(delta_uni > bins[i], delta_uni <= bins[i+1])\n",
    "        bin_counts[i] = delta_counts[mask].sum()\n",
    "        \n",
    "    if density:\n",
    "        bin_counts = bin_counts / bin_counts.sum() / dbin\n",
    "    \n",
    "    return bins_mid, bin_counts\n",
    "\n",
    "\n",
    "def sample_and_bin(sp_counts, tau_p, theta_p, mp_pars):\n",
    "    \n",
    "    Mms = [np.sum(sp_counts['counts_m'+str(i+1)]*sp_counts['occ']) for i in mp_pars.m_indexes]\n",
    "    Mps = [np.sum(sp_counts['counts_p'+str(i+1)]*sp_counts['occ']) for i in mp_pars.p_indexes]\n",
    "    n_max = max(sp_counts.counts_m1.values)\n",
    "    import_f = mp.get_gamma_prior(n_max, Mms[0], mp_pars.Mm_tot, mp_pars.prior_pars[0], mp_pars.prior_pars[1])\n",
    "    xs, ys = mp.sample(tau_p, theta_p, mp_pars, import_f)\n",
    "    \n",
    "    xs_bins, ys_bins, x_vals, y_vals = mp.discretize_logcounts(xs, ys, 10000)\n",
    "    auxp1 = np.append(0, mp.stat_dist(x_vals, mp_pars) / import_f.pdf(x_vals))\n",
    "    m_vals = np.exp(x_vals)\n",
    "    m_mus, p_mus = [], [] # Averages of the noise model for memory and plasmablasts\n",
    "    for i in range(len(mp_pars.m_indexes)): \n",
    "        m_mus.append( np.append(0, m_vals * Mms[i] / mp_pars.Mm_tot) )\n",
    "    Mp_cells = mp_pars.Mm_tot * mp_pars.p_to_m\n",
    "    p_vals = np.exp(y_vals)\n",
    "    for i in range(len(mp_pars.p_indexes)): \n",
    "        p_mus.append( np.append(0, p_vals * Mps[i] / Mp_cells) ) \n",
    "        \n",
    "    return auxp1, m_mus, p_mus, xs_bins, ys_bins, xs, ys\n",
    "\n",
    "\n",
    "label_to_index = {'m1':0, 'm2':1, 'm3':2, 'p2':3, 'p3':4}\n",
    "\n",
    "\n",
    "def build_pair_frame(sp_counts, labels, max_n):\n",
    "    ids = [label_to_index[l] for l in labels]\n",
    "    ns = sp_counts.index.str.split('_').str[ids[0]]\n",
    "    for i in ids[1:]:\n",
    "        ns += '_' + sp_counts.index.str.split('_').str[i]\n",
    "    uni_ns = np.unique(ns)\n",
    "    probs = pd.DataFrame(index=uni_ns)\n",
    "    for k, l in enumerate(labels):\n",
    "        probs[l] = np.array(probs.index.str.split('_').str[k], dtype=int)\n",
    "    return fill_tuple(probs, labels, np.ones(len(labels))*max_n)"
   ]
  },
  {
   "cell_type": "markdown",
   "id": "a20b067a-2d13-4840-8eba-fd1834190124",
   "metadata": {},
   "source": [
    "### Importing the results and setting the parameters for obtaining the marginals"
   ]
  },
  {
   "cell_type": "code",
   "execution_count": 4,
   "id": "a1131867-8477-478f-ac8d-0023026270a5",
   "metadata": {},
   "outputs": [],
   "source": [
    "pat = '2'\n",
    "mem_samp = ['pat2_t1_mc', 'pat2_t2_mc', 'pat2_t3_mc']\n",
    "pb_samp = ['', 'pat2_t2_pc', 'pat2_t3_pc']\n",
    "sp_counts, pars = mp.import_data(mem_samp, pb_samp)\n",
    "dtimes, dts = [6, 1/6], [0.1, 0.01]\n",
    "file_name = 'pat2_3_nmin1_exe'\n",
    "gbm_pars = dtu.read_pars('inference/gbm/' + file_name + '.txt')\n",
    "result_fr = pd.read_csv('inference/memplasm/result_pat'+pat+'.csv', index_col=0)\n",
    "m_der_f=0.5\n",
    "p_to_m=0.05\n",
    "best_pars = result_fr[np.logical_and(result_fr.m_der_f==m_der_f, result_fr.p_to_m==p_to_m)].iloc[0]\n",
    "tau_p = 10**best_pars['log10_tau_p']\n",
    "theta_p = 10**best_pars['log10_theta_p']\n",
    "\n",
    "mp_pars = mp.mp_infer_pars(\n",
    "    dtimes=dtimes, sample_indexes=[pars['m_ids'], pars['p_ids']],\n",
    "    tau_m=gbm_pars['tau'], theta_m=gbm_pars['theta'], Mm_tot=gbm_pars['M_tot'], n0=gbm_pars['n0'],\n",
    "    m_der_f=m_der_f, p_to_m=p_to_m, \n",
    "    n_eval=int(1*10**6), prior_pars=[5,4], dts=dts, n1_min=0\n",
    ")"
   ]
  },
  {
   "cell_type": "code",
   "execution_count": 5,
   "id": "4e629b0a-8e5c-4702-bfea-3a6afa32f7f1",
   "metadata": {},
   "outputs": [],
   "source": [
    "count_labels = ['m2', 'm3', 'p2', 'p3']\n",
    "log_zero_val = -1\n",
    "for lab in count_labels:\n",
    "    cs = sp_counts['counts_'+lab]\n",
    "    sp_counts['logc_'+lab] = np.where(cs>0, np.log(cs, where=cs>0), log_zero_val)\n",
    "    \n",
    "sp_counts['delta_logc_p'] = sp_counts['logc_p3'] - sp_counts['logc_p2']\n",
    "sp_counts['delta_p'] = sp_counts['counts_p3'] - sp_counts['counts_p2']"
   ]
  },
  {
   "cell_type": "markdown",
   "id": "020f1c8d-bb5b-4067-b098-25bd84d5f568",
   "metadata": {},
   "source": [
    "### Marginal of number of counts at time 2 (may 2020) of patient 2\n",
    "To reach large values of p2 we just generate two time points"
   ]
  },
  {
   "cell_type": "code",
   "execution_count": 6,
   "id": "7b40f6f5-843b-4379-bc66-106ce71a4dc3",
   "metadata": {},
   "outputs": [
    {
     "name": "stdout",
     "output_type": "stream",
     "text": [
      "CPU times: user 13.8 s, sys: 112 ms, total: 13.9 s\n",
      "Wall time: 13.9 s\n"
     ]
    }
   ],
   "source": [
    "def compute_p_marg(sp_counts, tau_p, theta_p, mp_pars, label, max_n):\n",
    "    \n",
    "    auxp1, m_mus, p_mus, xs_bins, ys_bins, xs, ys  = sample_and_bin(sp_counts, tau_p, theta_p, mp_pars)\n",
    "    probs = build_pair_frame(sp_counts, ['m1', label], max_n)\n",
    "    sp_index = label_to_index[label] - 3\n",
    "    \n",
    "    for _id, row in probs.iterrows():\n",
    "        poiss_m1 = (mp.poisson(m_mus[0]).pmf(row.m1) * auxp1)[xs_bins[0][:mp_pars.n_eval]]\n",
    "        poiss_p = mp.poisson(p_mus[sp_index]).pmf(row[label])[ys_bins[sp_index+1][:mp_pars.n_eval]]\n",
    "        weight = np.sum(poiss_m1 * poiss_p)\n",
    "        if row.m1 == 0:\n",
    "            poiss_p_new = mp.poisson(p_mus[sp_index]).pmf(row[label])[ys_bins[sp_index+1][mp_pars.n_eval:]]\n",
    "            weight_new = np.sum(poiss_p_new)\n",
    "        else:\n",
    "            weight_new = 0\n",
    "\n",
    "        probs.loc[_id, 'p'] = (weight + weight_new) / len(xs_bins[0])\n",
    "    return probs\n",
    "\n",
    "%time probs_p2 = compute_p_marg(sp_counts, tau_p, theta_p, mp_pars, 'p2', 30)"
   ]
  },
  {
   "cell_type": "code",
   "execution_count": 7,
   "id": "227e6b19-170a-4af6-ba07-cdb02808775f",
   "metadata": {},
   "outputs": [
    {
     "data": {
      "text/plain": [
       "<matplotlib.legend.Legend at 0x747389e318b0>"
      ]
     },
     "execution_count": 7,
     "metadata": {},
     "output_type": "execute_result"
    },
    {
     "data": {
      "image/png": "[encoded data removed]",
      "text/plain": [
       "<Figure size 230.4x194.4 with 1 Axes>"
      ]
     },
     "metadata": {
      "needs_background": "light"
     },
     "output_type": "display_data"
    }
   ],
   "source": [
    "mask = sp_counts.counts_m1 > 0\n",
    "ks2, p_k2 = marginalize(sp_counts[mask], 'counts_p2', 'occ')\n",
    "k2s_th, p_k2_th = marginalize(probs_p2[probs_p2.m1 > 0], 'p2', 'p')\n",
    "\n",
    "\n",
    "plt.figure(figsize=(3.2, 2.7))\n",
    "plt.yscale('log')\n",
    "plt.ylabel(r\"$P(k_2 | n_1 > 0)$\", fontsize=12)\n",
    "plt.xlabel(r\"$k_2$\", fontsize=12)\n",
    "plt.xlim(np.min(ks2)*0.9, 25)\n",
    "plt.ylim(np.min(p_k2)*0.5, np.max(p_k2)*1.5)\n",
    "\n",
    "plt.scatter(ks2, p_k2, c='k', label='data')\n",
    "plt.plot(k2s_th, p_k2_th, c='r', lw=3, ls='--', label='model')\n",
    "plt.legend(fontsize=12)\n",
    "\n",
    "#plt.savefig('plots/memplasm_infer/marginals/p_k2_pat'+pat+'.svg', facecolor='w')"
   ]
  },
  {
   "cell_type": "markdown",
   "id": "54f461ac-69b6-46a0-bee3-c851e176422c",
   "metadata": {},
   "source": [
    "### Marginal of number of counts at time 3 (July 2020) of patient 2"
   ]
  },
  {
   "cell_type": "code",
   "execution_count": 8,
   "id": "93eb95f1-9947-4329-bb31-478814ce481c",
   "metadata": {},
   "outputs": [
    {
     "name": "stdout",
     "output_type": "stream",
     "text": [
      "CPU times: user 13.7 s, sys: 94 ms, total: 13.8 s\n",
      "Wall time: 13.8 s\n"
     ]
    }
   ],
   "source": [
    "%time probs_p3 = compute_p_marg(sp_counts, tau_p, theta_p, mp_pars, 'p3', 30)"
   ]
  },
  {
   "cell_type": "code",
   "execution_count": 9,
   "id": "17432bcd-f135-4810-b42a-790915d9f609",
   "metadata": {},
   "outputs": [
    {
     "data": {
      "text/plain": [
       "<matplotlib.legend.Legend at 0x74738a2ed310>"
      ]
     },
     "execution_count": 9,
     "metadata": {},
     "output_type": "execute_result"
    },
    {
     "data": {
      "image/png": "[encoded data removed]",
      "text/plain": [
       "<Figure size 230.4x194.4 with 1 Axes>"
      ]
     },
     "metadata": {
      "needs_background": "light"
     },
     "output_type": "display_data"
    }
   ],
   "source": [
    "mask = sp_counts.counts_m1 > 0\n",
    "ks3, p_k3 = marginalize(sp_counts[mask], 'counts_p3', 'occ')\n",
    "k3s_th, p_k3_th = marginalize(probs_p3[probs_p3.m1 > 0], 'p3', 'p')\n",
    "\n",
    "\n",
    "plt.figure(figsize=(3.2, 2.7))\n",
    "plt.yscale('log')\n",
    "plt.ylabel(r\"$P(k_3 | n_1 > 0)$\", fontsize=12)\n",
    "plt.xlabel(r\"$k_3$\", fontsize=12)\n",
    "plt.xlim(np.min(ks3)*0.9, 25)\n",
    "plt.ylim(np.min(p_k3)*0.5, np.max(p_k3)*1.5)\n",
    "\n",
    "plt.scatter(ks3, p_k3, c='k', label='data')\n",
    "plt.plot(k3s_th, p_k3_th, c='r', lw=3, ls='--', label='model')\n",
    "plt.legend(fontsize=12)\n",
    "\n",
    "#plt.savefig('plots/memplasm_infer/marginals/p_k3_pat'+pat+'.svg', facecolor='w')"
   ]
  },
  {
   "cell_type": "markdown",
   "id": "3adad6ae-2619-47b8-8fe2-8d5607c6e346",
   "metadata": {},
   "source": [
    "### Delta counts between time 3 and two of plasmablast clones"
   ]
  },
  {
   "cell_type": "code",
   "execution_count": 10,
   "id": "ad962c66-3788-44f0-b686-180d84e2ef05",
   "metadata": {},
   "outputs": [
    {
     "name": "stdout",
     "output_type": "stream",
     "text": [
      "CPU times: user 1min 34s, sys: 140 ms, total: 1min 34s\n",
      "Wall time: 1min 34s\n"
     ]
    }
   ],
   "source": [
    "def compute_p_marg(sp_counts, tau_p, theta_p, mp_pars, max_n):\n",
    "    \n",
    "    auxp1, m_mus, p_mus, xs_bins, ys_bins, xs, ys = sample_and_bin(sp_counts, tau_p, theta_p, mp_pars)\n",
    "    probs = build_pair_frame(sp_counts, ['m1', 'p2', 'p3'], max_n)\n",
    "    \n",
    "    for _id, row in probs.iterrows():\n",
    "        poiss_m1 = (mp.poisson(m_mus[0]).pmf(row.m1) * auxp1)[xs_bins[0][:mp_pars.n_eval]]\n",
    "        poiss_p2 = mp.poisson(p_mus[0]).pmf(row.p2)[ys_bins[1][:mp_pars.n_eval]]\n",
    "        poiss_p3 = mp.poisson(p_mus[1]).pmf(row.p3)[ys_bins[2][:mp_pars.n_eval]]\n",
    "        weight = np.sum(poiss_m1 * poiss_p2 * poiss_p3)\n",
    "        if row.m1 == 0:\n",
    "            poiss_p2_new = mp.poisson(p_mus[0]).pmf(row.p2)[ys_bins[1][mp_pars.n_eval:]]\n",
    "            poiss_p3_new = mp.poisson(p_mus[1]).pmf(row.p3)[ys_bins[2][mp_pars.n_eval:]]\n",
    "            weight_new = np.sum(poiss_p2_new * poiss_p3_new)\n",
    "        else:\n",
    "            weight_new = 0\n",
    "\n",
    "        probs.loc[_id, 'p'] = (weight + weight_new) / len(xs_bins[0])\n",
    "    return probs\n",
    "\n",
    "%time probs_deltap = compute_p_marg(sp_counts, 0.4, 0.06, mp_pars, 20)"
   ]
  },
  {
   "cell_type": "code",
   "execution_count": 11,
   "id": "cd813d83-82cc-4806-8b74-c212b9710922",
   "metadata": {},
   "outputs": [],
   "source": [
    "count_labels = ['p2', 'p3']\n",
    "log_zero_val = -1\n",
    "for lab in count_labels:\n",
    "    cs = probs_deltap[lab]\n",
    "    probs_deltap['logc_'+lab] = np.where(cs>0, np.log(cs, where=cs>0), log_zero_val)"
   ]
  },
  {
   "cell_type": "code",
   "execution_count": 12,
   "id": "528895d7-fa07-49dc-acad-727babcd3061",
   "metadata": {},
   "outputs": [
    {
     "data": {
      "text/plain": [
       "[<matplotlib.lines.Line2D at 0x74738b4df040>]"
      ]
     },
     "execution_count": 12,
     "metadata": {},
     "output_type": "execute_result"
    },
    {
     "data": {
      "image/png": "[encoded data removed]",
      "text/plain": [
       "<Figure size 230.4x194.4 with 1 Axes>"
      ]
     },
     "metadata": {
      "needs_background": "light"
     },
     "output_type": "display_data"
    }
   ],
   "source": [
    "mask = sp_counts.counts_m1 > 0\n",
    "gp = sp_counts[mask].groupby('delta_p').agg({'occ' : sum})\n",
    "\n",
    "mask = probs_deltap.m1 > 0\n",
    "probs_deltap['delta_p'] = probs_deltap['p3'] - probs_deltap['p2']\n",
    "gp_th = probs_deltap[mask].groupby('delta_p').agg({'p' : sum})\n",
    "\n",
    "plt.figure(figsize=(3.2, 2.7))\n",
    "plt.yscale('log')\n",
    "plt.ylabel(r\"$P(\\Delta k | n_1 > 0)$\", fontsize=12)\n",
    "plt.xlabel(r\"$\\Delta k = k_3 - k_2$\", fontsize=12)\n",
    "plt.xlim(-12,12)\n",
    "plt.ylim(2*10**(-5), 1.5)\n",
    "\n",
    "plt.scatter(gp.index.values, gp.occ.values / gp.occ.sum(), c='k')\n",
    "plt.plot(gp.index.values, gp.occ.values / gp.occ.sum(),  c='k', lw=2)\n",
    "\n",
    "#plt.scatter(gp_th.index.values, gp_th.p.values / gp_th.p.sum())\n",
    "plt.plot(gp_th.index.values, gp_th.p.values / gp_th.p.sum(), c='r', ls='--', lw=3)\n",
    "\n",
    "#plt.savefig('plots/memplasm_infer/marginals/p_dk_pat'+pat+'.svg', facecolor='w')"
   ]
  },
  {
   "cell_type": "markdown",
   "id": "ff636f49-4b7b-4cc7-ba2f-6d7065bd42b8",
   "metadata": {},
   "source": [
    "### Marginals conditioned on memory-cell counts and plasmablast counts\n",
    "We also study how the probability of observing a $\\Delta k$ changes dependening on the sign of $\\Delta n$."
   ]
  },
  {
   "cell_type": "code",
   "execution_count": 14,
   "id": "c273cc61-a0dc-4f5e-8ff9-7a0f4a9d7785",
   "metadata": {},
   "outputs": [
    {
     "name": "stdout",
     "output_type": "stream",
     "text": [
      "CPU times: user 49min 45s, sys: 2.32 s, total: 49min 48s\n",
      "Wall time: 49min 50s\n"
     ]
    }
   ],
   "source": [
    "def compute_p_marg(sp_counts, tau_p, theta_p, mp_pars, max_n):\n",
    "    \n",
    "    auxp1, m_mus, p_mus, xs_bins, ys_bins, xs, ys = sample_and_bin(sp_counts, tau_p, theta_p, mp_pars)\n",
    "    probs = build_pair_frame(sp_counts, ['m1', 'm2', 'm3', 'p2', 'p3'], max_n)\n",
    "    \n",
    "    poiss_m1s = {m1 : mp.poisson(m_mus[0]).pmf(m1) * auxp1 for m1 in np.unique(probs['m1'])}\n",
    "    poiss_m2s = {m2 : mp.poisson(m_mus[1]).pmf(m2) for m2 in np.unique(probs['m2'])}\n",
    "    poiss_m3s = {m3 : mp.poisson(m_mus[2]).pmf(m3) for m3 in np.unique(probs['m3'])}\n",
    "    poiss_p2s = {p2 : mp.poisson(p_mus[0]).pmf(p2) for p2 in np.unique(probs['p2'])}\n",
    "    poiss_p3s = {p3 : mp.poisson(p_mus[1]).pmf(p3) for p3 in np.unique(probs['p3'])}\n",
    "        \n",
    "    for _id, row in probs.iterrows():\n",
    "        \n",
    "        if row.p2 + row.p3 == 0: continue\n",
    "        if row.m2 + row.m3 == 0: continue\n",
    "            \n",
    "        poiss_m1 = poiss_m1s[row.m1][xs_bins[0][:mp_pars.n_eval]]\n",
    "        poiss_m2 = poiss_m2s[row.m2][xs_bins[1][:mp_pars.n_eval]]\n",
    "        poiss_m3 = poiss_m3s[row.m3][xs_bins[2][:mp_pars.n_eval]]\n",
    "        poiss_p2 = poiss_p2s[row.p2][ys_bins[1][:mp_pars.n_eval]]\n",
    "        poiss_p3 = poiss_p3s[row.p3][ys_bins[2][:mp_pars.n_eval]]\n",
    "        weight = np.sum(poiss_m1 * poiss_m2 * poiss_m3 * poiss_p2 * poiss_p3)\n",
    "        if row.m1 == 0:\n",
    "            poiss_m2_new = poiss_m2s[row.m2][ys_bins[1][mp_pars.n_eval:]]\n",
    "            poiss_m3_new = poiss_m3s[row.m3][ys_bins[2][mp_pars.n_eval:]]\n",
    "            poiss_p2_new = poiss_p2s[row.p2][ys_bins[1][mp_pars.n_eval:]]\n",
    "            poiss_p3_new = poiss_p3s[row.p3][ys_bins[2][mp_pars.n_eval:]]\n",
    "            weight_new = np.sum(poiss_m2_new * poiss_m3_new * poiss_p2_new * poiss_p3_new)\n",
    "        else:\n",
    "            weight_new = 0\n",
    "\n",
    "        probs.loc[_id, 'p'] = (weight + weight_new) / len(xs[0])\n",
    "    return probs\n",
    "\n",
    "%time probs = compute_p_marg(sp_counts, tau_p, theta_p, mp_pars, 11)"
   ]
  },
  {
   "cell_type": "code",
   "execution_count": 19,
   "id": "eccc5b2f-7ff3-4b3c-9a9d-9c9bdd766b0e",
   "metadata": {},
   "outputs": [
    {
     "data": {
      "text/plain": [
       "<matplotlib.legend.Legend at 0x74738a2ef7c0>"
      ]
     },
     "execution_count": 19,
     "metadata": {},
     "output_type": "execute_result"
    },
    {
     "data": {
      "image/png": "[encoded data removed]",
      "text/plain": [
       "<Figure size 230.4x194.4 with 1 Axes>"
      ]
     },
     "metadata": {
      "needs_background": "light"
     },
     "output_type": "display_data"
    }
   ],
   "source": [
    "mask = np.logical_and(sp_counts.counts_m2 > 1,  sp_counts.counts_m3 > 1)\n",
    "mask = np.logical_and(mask,  sp_counts.counts_p2 > 1)\n",
    "ns1, p_ns1 = marginalize(sp_counts[mask], 'counts_p3', 'occ')\n",
    "mask = np.logical_and(sp_counts.counts_m2 < 2,  sp_counts.counts_m3 < 2)\n",
    "mask = np.logical_and(sp_counts.counts_m2 + sp_counts.counts_m3 > 0, mask)\n",
    "mask = np.logical_and(mask,  sp_counts.counts_p2 < 2)\n",
    "mask = np.logical_and(mask,  sp_counts.counts_p2 + sp_counts.counts_p3 > 0)\n",
    "ns2, p_ns2 = marginalize(sp_counts[mask], 'counts_p3', 'occ')\n",
    "\n",
    "mask = np.logical_and(probs.m2 > 1, probs.m3 > 1)\n",
    "mask = np.logical_and(mask,  probs.p2 > 1)\n",
    "ns1_th, p_ns1_th = marginalize(probs[mask], 'p3', 'p')\n",
    "mask = np.logical_and(probs.m2 < 2,  probs.m3 < 2)\n",
    "mask = np.logical_and(probs.m2 + probs.m3 > 0, mask)\n",
    "mask = np.logical_and(mask,  probs.p2 < 2)\n",
    "ns2_th, p_ns2_th = marginalize(probs[mask], 'p3', 'p')\n",
    "\n",
    "plt.figure(figsize=(3.2, 2.7))\n",
    "plt.ylabel(r\"$P(k_3 | condition)$\", fontsize=12)\n",
    "plt.xlabel(r\"$k_3$\", fontsize=12)\n",
    "plt.yscale('log')\n",
    "plt.ylim(10**(-3), 1)\n",
    "plt.xlim(-0.2, 9)\n",
    "plt.scatter(ns1, p_ns1, c='grey')\n",
    "plt.scatter(ns2, p_ns2, c='k')\n",
    "plt.plot(ns1, p_ns1, c='grey')\n",
    "plt.plot(ns2, p_ns2, c='k')\n",
    "plt.plot(ns1_th, p_ns1_th, c='r', ls=':', lw=3, label=r'$n_2,n_3,k_2 > 1$')\n",
    "plt.plot(ns2_th, p_ns2_th, c='r', ls='--', lw=3, label=r'$n_2,n_3,k_2 < 2$')\n",
    "plt.legend()\n",
    "\n",
    "#plt.savefig('plots/memplasm_infer/marginals/p_k3_cond_pat'+pat+'.svg', facecolor='w')"
   ]
  },
  {
   "cell_type": "code",
   "execution_count": 20,
   "id": "95af1976-c01b-4e23-a9bc-1326155d7ae3",
   "metadata": {},
   "outputs": [],
   "source": [
    "probs['delta_p'] = probs['p3'] - probs['p2']\n",
    "mask = np.logical_and(sp_counts.counts_m3 > sp_counts.counts_m2, sp_counts.counts_p2 + sp_counts.counts_p3 > 0)\n",
    "gp_pos = sp_counts[mask].groupby('delta_p').agg({'occ' : sum})\n",
    "nosparse_data_pos = np.repeat(gp_pos.index.values, np.array(gp_pos.occ.values, dtype=int), axis=0)\n",
    "gp_pos.occ = gp_pos.occ / np.sum(gp_pos.occ)\n",
    "ns_pos, p_ns_pos = gp_pos.index.values, gp_pos.occ.values\n",
    "mask = np.logical_and(sp_counts.counts_m3 < sp_counts.counts_m2, sp_counts.counts_p2 + sp_counts.counts_p3 > 0)\n",
    "gp_neg = sp_counts[mask].groupby('delta_p').agg({'occ' : sum})\n",
    "nosparse_data_neg = np.repeat(gp_neg.index.values, np.array(gp_neg.occ.values, dtype=int), axis=0)\n",
    "gp_neg.occ = gp_neg.occ / np.sum(gp_neg.occ)\n",
    "ns_neg, p_ns_neg = gp_neg.index.values, gp_pos.occ.values\n",
    "common_ns = list(set(ns_pos).intersection(ns_neg))\n",
    "common_ns = np.array(common_ns, dtype=int)[np.argsort(common_ns)]\n",
    "\n",
    "mask_pos = np.logical_and(probs.m3 > probs.m2, probs.p2 + probs.p3 > 0)\n",
    "gp_pos_th = probs[mask_pos].groupby('delta_p').agg({'p' : sum})\n",
    "gp_pos_th.p = gp_pos_th.p / np.sum(gp_pos_th.p)\n",
    "ns_pos_th, p_ns_pos_th = gp_pos_th.index.values, gp_pos_th.p.values\n",
    "mask_neg = np.logical_and(probs.m3 < probs.m2, probs.p2 + probs.p3 > 0)\n",
    "gp_neg_th = probs[mask_neg].groupby('delta_p').agg({'p' : sum})\n",
    "gp_neg_th.p = gp_neg_th.p / np.sum(gp_neg_th.p)\n",
    "ns_neg_th, p_ns_neg_th = gp_neg_th.index.values, gp_neg_th.p.values\n",
    "common_ns_th = list(set(ns_pos_th).intersection(ns_neg_th))\n",
    "common_ns_th = np.array(common_ns_th, dtype=int)[np.argsort(common_ns_th)]"
   ]
  },
  {
   "cell_type": "code",
   "execution_count": 21,
   "id": "66aff0a6-b7b6-4e06-9179-e238f89f4268",
   "metadata": {},
   "outputs": [
    {
     "data": {
      "text/plain": [
       "[<matplotlib.lines.Line2D at 0x74738ac87040>]"
      ]
     },
     "execution_count": 21,
     "metadata": {},
     "output_type": "execute_result"
    },
    {
     "data": {
      "image/png": "[encoded data removed]",
      "text/plain": [
       "<Figure size 230.4x194.4 with 1 Axes>"
      ]
     },
     "metadata": {
      "needs_background": "light"
     },
     "output_type": "display_data"
    }
   ],
   "source": [
    "plt.figure(figsize=(3.2, 2.7))\n",
    "plt.ylabel(r\"$P(\\Delta k | \\Delta n > 0) / P(\\Delta k | \\Delta n < 0)$\", fontsize=12)\n",
    "plt.xlabel(r\"$\\Delta k$\", fontsize=12)\n",
    "\n",
    "plt.xlim(-5.2,5.2)\n",
    "plt.ylim(0.6, 1.8)\n",
    "\n",
    "y = gp_pos.loc[common_ns].occ.values / gp_neg.loc[common_ns].occ.values\n",
    "plt.scatter(common_ns, y, c='k')\n",
    "#plt.plot(common_ns, y, c='k')\n",
    "y_th = gp_pos_th.loc[common_ns_th].p.values / gp_neg_th.loc[common_ns_th].p.values\n",
    "plt.plot(common_ns_th, y_th, c='r', ls='--', lw=3)\n",
    "\n",
    "plt.plot(common_ns, np.ones(len(common_ns)), c='k', ls=':', lw=2)\n",
    "\n",
    "#plt.savefig('plots/memplasm_infer/marginals/p_delta_k_ratio_pat'+pat+'.svg', facecolor='w')"
   ]
  },
  {
   "cell_type": "code",
   "execution_count": 23,
   "id": "9250d51e-596a-4e0f-bf9c-89a4349d48aa",
   "metadata": {},
   "outputs": [
    {
     "name": "stdout",
     "output_type": "stream",
     "text": [
      "MannwhitneyuResult(statistic=785497.0, pvalue=3.5585539147640236e-09)\n"
     ]
    }
   ],
   "source": [
    "# statistical test to check if clones with increasing memory conunts also grow more in plasmablasts\n",
    "from scipy.stats import mannwhitneyu\n",
    "print(mannwhitneyu(nosparse_data_pos, nosparse_data_neg))"
   ]
  },
  {
   "cell_type": "code",
   "execution_count": null,
   "id": "a979c734-a8a6-4d8c-a747-24c438fbd162",
   "metadata": {},
   "outputs": [],
   "source": []
  }
 ],
 "metadata": {
  "kernelspec": {
   "display_name": "Python 3",
   "language": "python",
   "name": "python3"
  },
  "language_info": {
   "codemirror_mode": {
    "name": "ipython",
    "version": 3
   },
   "file_extension": ".py",
   "mimetype": "text/x-python",
   "name": "python",
   "nbconvert_exporter": "python",
   "pygments_lexer": "ipython3",
   "version": "3.8.8"
  }
 },
 "nbformat": 4,
 "nbformat_minor": 5
}
