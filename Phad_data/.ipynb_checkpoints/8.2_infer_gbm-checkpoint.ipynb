{
 "cells": [
  {
   "cell_type": "code",
   "execution_count": 9,
   "id": "22d9b440-7a2d-4dd1-9c9e-0e73c3f47ca8",
   "metadata": {},
   "outputs": [],
   "source": [
    "import numpy as np\n",
    "import matplotlib.pyplot as plt\n",
    "import pandas as pd\n",
    "from tqdm.notebook import tqdm\n",
    "\n",
    "import sys\n",
    "sys.path.insert(0, \"../func_py/\")\n",
    "import infer_gbm as gbm\n",
    "import data_utils as dtu\n",
    "\n",
    "import warnings\n",
    "warnings.filterwarnings(\"ignore\")"
   ]
  },
  {
   "cell_type": "code",
   "execution_count": 2,
   "id": "5d67735f-f596-4b74-a387-a1a419c53aac",
   "metadata": {},
   "outputs": [],
   "source": [
    "metadata = pd.read_csv('metadata/metadata.tsv', sep='\\t', index_col=0)\n",
    "\n",
    "# List containing the 3 inference settings. Each element is composed by:\n",
    "# - setting label patinet-ntimepoints\n",
    "# - list of samples used in the inference\n",
    "# - delta times that separate the samples in years\n",
    "# - parameters of the gamma import function\n",
    "pairs_and_dts = [\n",
    "    ('1', ('pat1_t1_mc', 'pat1_t2_mc'), [10], [4,4]),\n",
    "    ('2_2', ('pat2_t1_mc', 'pat2_t2_mc'), [6], [4,4]),\n",
    "    ('2_3', ('pat2_t1_mc', 'pat2_t2_mc', 'pat2_t3_mc'), [6, 1/6], [4,4])\n",
    "]"
   ]
  },
  {
   "cell_type": "markdown",
   "id": "27039293-67a2-471a-aefa-6899083035c6",
   "metadata": {},
   "source": [
    "### Choosing the sample"
   ]
  },
  {
   "cell_type": "code",
   "execution_count": null,
   "id": "eb7ee55b-fc86-4edb-98c5-5df984d39b95",
   "metadata": {},
   "outputs": [],
   "source": [
    "# Inference for sequences\n",
    "label, samples, dtimes, priors = pairs_and_dts[2]\n",
    "label += '_seq'\n",
    "sp_counts = dtu.import_and_build_sparse_counts(samples, fam_label='sequence')"
   ]
  },
  {
   "cell_type": "code",
   "execution_count": 3,
   "id": "ef637bb2-9134-41e7-841b-cbce70d675e7",
   "metadata": {},
   "outputs": [],
   "source": [
    "# Inference for clones\n",
    "label, samples, dtimes, priors = pairs_and_dts[2]\n",
    "sp_counts = dtu.import_and_build_sparse_counts(samples)"
   ]
  },
  {
   "cell_type": "markdown",
   "id": "9e18ea45-38d0-4976-9374-116f622c691d",
   "metadata": {},
   "source": [
    "### Scanning the likelihood at fixed M_tot and n0"
   ]
  },
  {
   "cell_type": "code",
   "execution_count": 5,
   "id": "af52e2f5-688e-4faf-bd5f-14da4801f548",
   "metadata": {},
   "outputs": [
    {
     "data": {
      "application/vnd.jupyter.widget-view+json": {
       "model_id": "925c51701a214f7ea4e5ac998f44a275",
       "version_major": 2,
       "version_minor": 0
      },
      "text/plain": [
       "  0%|          | 0/144 [00:00<?, ?it/s]"
      ]
     },
     "metadata": {},
     "output_type": "display_data"
    }
   ],
   "source": [
    "infer_pars = gbm.gbm_infer_pars(dtimes, 10**7, 20, 1, n_eval=2 * 10**5, prior_pars=[4,4])\n",
    "max_n1 = max(sp_counts.n1.values)\n",
    "M1 = np.sum(sp_counts.n1 * sp_counts.occ)\n",
    "import_f = gbm.get_gamma_prior(max_n1, M1, infer_pars.M_tot, 4, 4)\n",
    "\n",
    "taus = np.linspace(5, 40, 12)\n",
    "alphas = np.linspace(0.8, 1.8, 12)\n",
    "lls = np.zeros((len(taus), len(alphas)))\n",
    "progress = tqdm(total=len(taus)*len(alphas))\n",
    "for i, t in enumerate(taus):\n",
    "    for j, a in enumerate(alphas):\n",
    "        lls[i,j] = gbm.MC_gbm_full_ll(sp_counts, t, a*t/2.0, infer_pars, import_f)\n",
    "        progress.update(1)"
   ]
  },
  {
   "cell_type": "code",
   "execution_count": 6,
   "id": "d0e91099-e481-41d2-8f36-0186fe470078",
   "metadata": {},
   "outputs": [
    {
     "data": {
      "text/plain": [
       "(<AxesSubplot:xlabel='alpha', ylabel='tau'>,\n",
       " <matplotlib.colorbar.Colorbar at 0x786561004d60>)"
      ]
     },
     "execution_count": 6,
     "metadata": {},
     "output_type": "execute_result"
    },
    {
     "data": {
      "image/png": "[encoded data removed]",
      "text/plain": [
       "<Figure size 288x252 with 2 Axes>"
      ]
     },
     "metadata": {
      "needs_background": "light"
     },
     "output_type": "display_data"
    }
   ],
   "source": [
    "fig, ax1 = plt.subplots(1, 1, figsize=(4,3.5))\n",
    "\n",
    "gbm.plot_heatmap(ax1, lls, alphas, taus, np.max(lls) - 0.075, np.max(lls), laby='tau', labx='alpha')\n",
    "#plt.savefig('plots/gbm/ll_heatmap_pat' + label + '.svg')"
   ]
  },
  {
   "cell_type": "markdown",
   "id": "5a5cfada-c815-42a6-85c3-62e0e618ab6e",
   "metadata": {},
   "source": [
    "### Computing the best likelihood at best tau and theta for different M_tot and n0s\n",
    "\n",
    "The execturion of the following cells are quite time consuming, of the order of one day or more"
   ]
  },
  {
   "cell_type": "code",
   "execution_count": 36,
   "id": "a7bae39f-67b0-4bda-af2f-6b117fa43207",
   "metadata": {},
   "outputs": [],
   "source": [
    "# Parameters of the optimization algorithm\n",
    "pars = {\n",
    "    'n_eval' : 3 * 10**5,\n",
    "    'bounds00' : 7.0,\n",
    "    'bounds01' : 30.0,\n",
    "    'bounds10' : 1.0,\n",
    "    'bounds11' : 2.0,\n",
    "    'gamma_priors0' : priors[0],\n",
    "    'gamma_priors1' : priors[1],\n",
    "    'noise' : 1e-2,\n",
    "    'lenght_scales0' : 50.,\n",
    "    'lenght_scales1' : 1.,\n",
    "    'xi' : 2e-4,\n",
    "    'n_calls' : 50,\n",
    "    'n_jobs' : 2\n",
    "}\n",
    "pd.Series(pars).to_csv('inference/gbm/pars_pat'+label+'_nmin1.tsv', sep='\\t')\n",
    "pref = 'inference/gbm/results_'\n",
    "post = '_pat'+label+'_nmin1_1.tsv'\n",
    "\n",
    "# Values of M and n0\n",
    "n0s = np.logspace(np.log10(2), 3, 12)\n",
    "M_tots = np.logspace(5.5, 9, 12, dtype=int)\n",
    "R = 1\n",
    "lls = np.zeros((len(n0s), len(M_tots), R)) \n",
    "taus = np.zeros((len(n0s), len(M_tots), R))\n",
    "thetas = np.zeros((len(n0s), len(M_tots), R))"
   ]
  },
  {
   "cell_type": "code",
   "execution_count": 17,
   "id": "b759d874-528e-4a18-993f-dc6e188a9511",
   "metadata": {},
   "outputs": [
    {
     "data": {
      "application/vnd.jupyter.widget-view+json": {
       "model_id": "4ea3e011143e4dda8ce89e0d9f010c29",
       "version_major": 2,
       "version_minor": 0
      },
      "text/plain": [
       "  0%|          | 0/4 [00:00<?, ?it/s]"
      ]
     },
     "metadata": {},
     "output_type": "display_data"
    }
   ],
   "source": [
    "progress = tqdm(total=len(n0s)*len(M_tots)*R)\n",
    "for i, n0 in enumerate(n0s):\n",
    "    for j, M_tot in enumerate(M_tots):\n",
    "        for k in range(R):\n",
    "            prs = [pars['gamma_priors0'], pars['gamma_priors1']]\n",
    "            infer_pars = gbm.gbm_infer_pars(dtimes, M_tot, n0, 1, pars['n_eval'], prs)\n",
    "            bounds = [(pars['bounds00'], pars['bounds01']), (pars['bounds10'], pars['bounds11'])]\n",
    "            ls = [pars['lenght_scales0'], pars['lenght_scales1']]\n",
    "            res = gbm.learn_gbm_gp(sp_counts, infer_pars, bounds=bounds, n_calls=pars['n_calls'], \\\n",
    "                                   noise=pars['noise'], lenght_scales=ls, xi=pars['xi'], n_jobs=pars['n_jobs'])\n",
    "            lls[i,j,k] = -res.fun\n",
    "            taus[i,j,k] = res.x[0]\n",
    "            thetas[i,j,k] = res.x[1]*res.x[0] / 2.0\n",
    "            progress.update(1)\n",
    "            \n",
    "# Saving the results\n",
    "frame_ll = dtu.update_result_frame(pd.DataFrame(), np.log10(n0s), np.log10(M_tots), lls)\n",
    "frame_tau = dtu.update_result_frame(pd.DataFrame(), np.log10(n0s), np.log10(M_tots), taus)\n",
    "frame_theta = dtu.update_result_frame(pd.DataFrame(), np.log10(n0s), np.log10(M_tots), thetas)\n",
    "frame_ll.to_csv(pref + 'll' + post, sep='\\t')\n",
    "frame_tau.to_csv(pref + 'tau' + post, sep='\\t')\n",
    "frame_theta.to_csv(pref + 'theta' + post, sep='\\t')"
   ]
  },
  {
   "cell_type": "code",
   "execution_count": 18,
   "id": "846aeeac-b44a-4143-87a2-cc06f3a1557a",
   "metadata": {},
   "outputs": [],
   "source": [
    "# Reading the results and parameters\n",
    "frame_ll = pd.read_csv(pref + 'll' + post, sep='\\t', index_col=0)\n",
    "frame_tau = pd.read_csv(pref + 'tau' + post, sep='\\t', index_col=0)\n",
    "frame_theta = pd.read_csv(pref + 'theta' + post, sep='\\t', index_col=0)\n",
    "pars = pd.read_csv('inference/gbm/pars_pat'+label+'_nmin1.tsv', sep='\\t', index_col=0).to_dict()['0']"
   ]
  },
  {
   "cell_type": "code",
   "execution_count": 19,
   "id": "b576eab0-64d8-446f-bf0e-476f1fe50459",
   "metadata": {},
   "outputs": [],
   "source": [
    "count_ll, mean_ll, std_ll, x, y = dtu.read_result_frame(frame_ll)\n",
    "count_tau, mean_tau, std_tau, x, y = dtu.read_result_frame(frame_tau)\n",
    "count_theta, mean_theta, std_theta, x, y = dtu.read_result_frame(frame_theta)\n",
    "mean_ll = mean_ll[1:]\n",
    "mean_tau = mean_tau[1:]\n",
    "mean_theta = mean_theta[1:]\n",
    "y = y[1:]"
   ]
  },
  {
   "cell_type": "code",
   "execution_count": 29,
   "id": "ce811dec-b6aa-49ec-858a-6d6097dad59d",
   "metadata": {},
   "outputs": [
    {
     "data": {
      "image/png": "[encoded data removed]",
      "text/plain": [
       "<Figure size 936x252 with 6 Axes>"
      ]
     },
     "metadata": {
      "needs_background": "light"
     },
     "output_type": "display_data"
    }
   ],
   "source": [
    "fig, (ax1, ax2, ax3) = plt.subplots(1, 3, figsize=(13,3.5))\n",
    "\n",
    "ax1.set_title('Loglike', fontsize=12)\n",
    "gbm.plot_heatmap(ax1, mean_ll, x, y, np.max(mean_ll) - 0.1, np.max(mean_ll), laby='log10 n0', labx='log10 N tot')\n",
    "\n",
    "ax2.set_title('Tau', fontsize=12)\n",
    "gbm.plot_heatmap(ax2, mean_tau, x, y, 7, 25, laby='', labx='log10 N tot')\n",
    "\n",
    "ax3.set_title('Theta', fontsize=12)\n",
    "gbm.plot_heatmap(ax3, mean_theta, x, y, 7, 15, laby='', labx='log10 N tot')\n",
    "\n",
    "plt.tight_layout()\n",
    "#plt.savefig('plots/gbm/ll_at_Mtot_n0_pat'+label+'_nmin1.svg')"
   ]
  },
  {
   "cell_type": "markdown",
   "id": "666ed6c0-b317-47cb-8ab0-a2fa439dc404",
   "metadata": {},
   "source": [
    "### Choosing the parameters and errors by looking at the best ranked log-likelihood"
   ]
  },
  {
   "cell_type": "code",
   "execution_count": 30,
   "id": "a9d8ddfc-c5d2-4143-8e1b-af49525d1808",
   "metadata": {},
   "outputs": [],
   "source": [
    "std_taus_at_ll_rank, av_taus_at_ll_rank = [], []\n",
    "std_alpha_at_ll_rank, av_alpha_at_ll_rank = [], []\n",
    "std_theta_at_ll_rank, av_theta_at_ll_rank = [], []\n",
    "lls_at_rank = []\n",
    "for ll_rank in range(2, 40):\n",
    "    iranks = np.argsort(mean_ll.flatten())[::-1]\n",
    "    lls_at_rank.append(mean_ll.flatten()[iranks[ll_rank]])\n",
    "    taus = mean_tau.flatten()[iranks[:ll_rank]]\n",
    "    thetas = mean_theta.flatten()[iranks[:ll_rank]]\n",
    "    alphas = thetas * 2 / taus\n",
    "    av_taus_at_ll_rank.append(np.mean(taus))\n",
    "    std_taus_at_ll_rank.append(np.std(taus))\n",
    "    av_theta_at_ll_rank.append(np.mean(thetas))\n",
    "    std_theta_at_ll_rank.append(np.std(thetas))\n",
    "    av_alpha_at_ll_rank.append(np.mean(alphas))\n",
    "    std_alpha_at_ll_rank.append(np.std(alphas))"
   ]
  },
  {
   "cell_type": "code",
   "execution_count": 32,
   "id": "ba18bec8-2a2d-4e02-b370-428d607805d9",
   "metadata": {},
   "outputs": [
    {
     "data": {
      "image/png": "[encoded data removed]",
      "text/plain": [
       "<Figure size 432x360 with 6 Axes>"
      ]
     },
     "metadata": {
      "needs_background": "light"
     },
     "output_type": "display_data"
    }
   ],
   "source": [
    "fig, axs = plt.subplots(3,2,figsize=(6,5))\n",
    "\n",
    "axs[0][0].plot(av_taus_at_ll_rank)\n",
    "axs[0][0].set_ylabel('Average tau')\n",
    "axs[1][0].plot(std_taus_at_ll_rank)\n",
    "axs[1][0].set_ylabel('Std tau')\n",
    "axs[2][0].set_xlabel('log-like rank')\n",
    "\n",
    "axs[0][1].plot(av_alpha_at_ll_rank)\n",
    "axs[0][1].set_ylabel('Average alpha')\n",
    "axs[1][1].plot(std_alpha_at_ll_rank)\n",
    "axs[1][1].set_ylabel('Std alpha')\n",
    "axs[2][1].set_xlabel('log-like rank')\n",
    "\n",
    "axs[2][0].plot(lls_at_rank)\n",
    "\n",
    "plt.tight_layout()\n",
    "#plt.savefig('plots/gbm/params_at_llrank_pat'+label+'_nmin1.svg')"
   ]
  },
  {
   "cell_type": "code",
   "execution_count": 33,
   "id": "1bf651e4-8c3e-4b93-b752-a794a0f2fb43",
   "metadata": {},
   "outputs": [
    {
     "name": "stdout",
     "output_type": "stream",
     "text": [
      "tau 14.536089794964683 +- 1.3136014290093263\n",
      "alpha 1.2032948049422345 +- 0.038244680026591885\n"
     ]
    }
   ],
   "source": [
    "rank_plateau = 10\n",
    "print('tau', av_taus_at_ll_rank[rank_plateau], '+-', std_taus_at_ll_rank[rank_plateau])\n",
    "print('alpha', av_alpha_at_ll_rank[rank_plateau], '+-', std_alpha_at_ll_rank[rank_plateau])"
   ]
  },
  {
   "cell_type": "markdown",
   "id": "29cbcce2-44b2-42a8-8d6a-af4312a50941",
   "metadata": {},
   "source": [
    "### Fitting the ridge of maximum lileihood"
   ]
  },
  {
   "cell_type": "code",
   "execution_count": 35,
   "id": "dee68e23-e1ad-4451-9efa-e0faed7721ad",
   "metadata": {},
   "outputs": [
    {
     "name": "stdout",
     "output_type": "stream",
     "text": [
      "[ 1.13237825 -6.91158447] [-5.89636364]\n",
      "787705.0620177357 3.956373025842359 126951.06940641755 1544955.713501258\n"
     ]
    },
    {
     "data": {
      "text/plain": [
       "<matplotlib.legend.Legend at 0x7fc9714d1250>"
      ]
     },
     "execution_count": 35,
     "metadata": {},
     "output_type": "execute_result"
    },
    {
     "data": {
      "image/png": "[encoded data removed]",
      "text/plain": [
       "<Figure size 432x288 with 1 Axes>"
      ]
     },
     "metadata": {
      "needs_background": "light"
     },
     "output_type": "display_data"
    }
   ],
   "source": [
    "from scipy.optimize import curve_fit\n",
    "\n",
    "def lin(x, a, b):\n",
    "    return a * x + b\n",
    "\n",
    "def lin_1(x, b):\n",
    "    return x + b\n",
    "\n",
    "M_tot_max = x[np.argmax(mean_ll, axis=1)]\n",
    "max_n0_i = len(y) - 0\n",
    "par_fit, cov = curve_fit(lin, M_tot_max[:max_n0_i], y[:max_n0_i])\n",
    "par_fit_1, cov1 = curve_fit(lin_1, M_tot_max[:max_n0_i], y[:max_n0_i])\n",
    "print(par_fit, par_fit_1)\n",
    "\n",
    "plt.xlabel('log10 Mtot')\n",
    "plt.ylabel('log10 n0')\n",
    "plt.plot(M_tot_max[:max_n0_i], y[:max_n0_i], label='inference')\n",
    "y_fit = lin(M_tot_max, par_fit[0], par_fit[1])\n",
    "plt.plot(M_tot_max, y_fit, label='fit lin')\n",
    "y_fit = lin_1(M_tot_max, par_fit_1[0])\n",
    "\n",
    "ratio = 10**(-par_fit_1[0])\n",
    "birth_rate = gbm.birth_rate(ratio, av_taus_at_ll_rank[rank_plateau], av_theta_at_ll_rank[rank_plateau])\n",
    "n0 = 10**(11 + par_fit_1[0])\n",
    "alpha = 2 * av_theta_at_ll_rank[rank_plateau] / av_taus_at_ll_rank[rank_plateau]\n",
    "N = (alpha - 1) / alpha * ratio * np.log(n0)\n",
    "print(ratio, np.log10(birth_rate), n0, N)\n",
    "plt.plot(M_tot_max, y_fit, label='fit lin coef1')\n",
    "plt.legend()"
   ]
  },
  {
   "cell_type": "code",
   "execution_count": 12,
   "id": "4f313315-a869-4be8-be23-14d70b4e877b",
   "metadata": {},
   "outputs": [],
   "source": [
    "def write_on_file(path):\n",
    "    f = open(path, 'w')\n",
    "    f.write('n_points:\\t' + str(pars['n_eval']) + str('\\n'))\n",
    "    f.write('logM_logn0_slope:\\t' + str(par_fit[0]) + str('\\n'))\n",
    "    f.write('logM_logn0_offset:\\t' + str(par_fit[1]) + str('\\n'))\n",
    "    f.write('logM_logn0_offset_slope1:\\t' + str(par_fit_1[0]) + str('\\n'))\n",
    "    f.write('plateau_rank:\\t' + str(rank_plateau) + str('\\n'))\n",
    "    m_ll = mean_ll.flatten()[np.argsort(mean_ll.flatten())[::-1][:rank_plateau]].mean()\n",
    "    f.write('mean_ll:\\t' + str(m_ll) + str('\\n'))\n",
    "    f.write('tau:\\t' + str(av_taus_at_ll_rank[rank_plateau]) + str('\\n'))\n",
    "    f.write('theta:\\t' + str(av_theta_at_ll_rank[rank_plateau]) + str('\\n'))\n",
    "    f.write('alpha:\\t' + str(av_alpha_at_ll_rank[rank_plateau]) + str('\\n'))\n",
    "    f.write('tau_err:\\t' + str(std_taus_at_ll_rank[rank_plateau]) + str('\\n'))\n",
    "    f.write('theta_err:\\t' + str(std_theta_at_ll_rank[rank_plateau]) + str('\\n'))\n",
    "    f.write('alpha_err:\\t' + str(std_alpha_at_ll_rank[rank_plateau]) + str('\\n'))\n",
    "    f.write('birth_rate:\\t' + str(birth_rate) + str('\\n'))\n",
    "    f.write('n0:\\t' + str(n0) + str('\\n'))\n",
    "    f.write('N:\\t' + str(N) + str('\\n'))\n",
    "    f.close()\n",
    "    \n",
    "write_on_file('inference/gbm/pat'+label+'_nmin1.txt')"
   ]
  },
  {
   "cell_type": "markdown",
   "id": "17966fd1-4d7f-4f14-8cee-0b09e55a0bfb",
   "metadata": {},
   "source": [
    "### Example at given M_tot, n0"
   ]
  },
  {
   "cell_type": "code",
   "execution_count": 17,
   "id": "4585d52d-6bc3-40b1-8665-528bcbc8e01e",
   "metadata": {},
   "outputs": [
    {
     "name": "stdout",
     "output_type": "stream",
     "text": [
      "42037.44998607096\n"
     ]
    }
   ],
   "source": [
    "M_tot = 10**10\n",
    "n0 = 10**(lin(np.log10(M_tot), 1, par_fit_1[0]))\n",
    "print(n0)"
   ]
  },
  {
   "cell_type": "code",
   "execution_count": 19,
   "id": "d59525e9-0574-497c-8285-24dc7cd2213b",
   "metadata": {},
   "outputs": [
    {
     "name": "stdout",
     "output_type": "stream",
     "text": [
      "CPU times: user 8min 34s, sys: 12min 37s, total: 21min 12s\n",
      "Wall time: 6min 34s\n"
     ]
    },
    {
     "data": {
      "text/plain": [
       "(15.897767854515152, 1.4469249542611928)"
      ]
     },
     "execution_count": 19,
     "metadata": {},
     "output_type": "execute_result"
    }
   ],
   "source": [
    "infer_pars = gbm.gbm_infer_pars(dtimes, M_tot, n0, 1, int(pars['n_eval']), priors)\n",
    "bounds = [(pars['bounds00'], pars['bounds01']), (pars['bounds10'], pars['bounds11'])]\n",
    "ls = [pars['lenght_scales0'], pars['lenght_scales1']]\n",
    "%time res = gbm.learn_gbm_gp(sp_counts, infer_pars, bounds=bounds, n_calls=150, \\\n",
    "                             noise=pars['noise'], lenght_scales=ls, xi=pars['xi'], n_jobs=2)\n",
    "res.x[0], res.fun"
   ]
  },
  {
   "cell_type": "code",
   "execution_count": 15,
   "id": "2ba187d5-0e5e-40e7-ab42-d4b71c1fde18",
   "metadata": {},
   "outputs": [],
   "source": [
    "def write_on_file_exe(path):\n",
    "    f = open(path, 'w')\n",
    "    f.write('n_points:\\t' + str(infer_pars.n_eval) + str('\\n'))\n",
    "    f.write('M_tot:\\t' + str(M_tot) + str('\\n'))\n",
    "    f.write('n0:\\t' + str(n0) + str('\\n'))\n",
    "    f.write('ll:\\t' + str(-res.fun) + str('\\n'))\n",
    "    f.write('tau:\\t' + str(res.x[0]) + str('\\n'))\n",
    "    f.write('theta:\\t' + str(res.x[0] * res.x[1] / 2.0) + str('\\n'))\n",
    "    f.close()\n",
    "    \n",
    "write_on_file_exe('inference/gbm/pat'+label+'_nmin1_exe.txt')"
   ]
  },
  {
   "cell_type": "code",
   "execution_count": null,
   "id": "5ced48b6-1c86-489c-b3c3-91e88eaa2f7b",
   "metadata": {},
   "outputs": [],
   "source": []
  }
 ],
 "metadata": {
  "kernelspec": {
   "display_name": "Python 3",
   "language": "python",
   "name": "python3"
  },
  "language_info": {
   "codemirror_mode": {
    "name": "ipython",
    "version": 3
   },
   "file_extension": ".py",
   "mimetype": "text/x-python",
   "name": "python",
   "nbconvert_exporter": "python",
   "pygments_lexer": "ipython3",
   "version": "3.8.8"
  }
 },
 "nbformat": 4,
 "nbformat_minor": 5
}
