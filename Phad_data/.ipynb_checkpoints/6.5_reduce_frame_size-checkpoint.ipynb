{
 "cells": [
  {
   "cell_type": "code",
   "execution_count": 1,
   "id": "a5f14886-94c7-44c5-b234-e252a05c1372",
   "metadata": {},
   "outputs": [],
   "source": [
    "import numpy as np\n",
    "import pandas as pd\n",
    "from os import listdir"
   ]
  },
  {
   "cell_type": "markdown",
   "id": "10266d86-be8a-4a5a-a296-e89d7a02e696",
   "metadata": {},
   "source": [
    "### Data processing to obtain smaller sizes for the datasets in order to upload them on git\n",
    "Information about the sequence and the cell pairing will be lost"
   ]
  },
  {
   "cell_type": "code",
   "execution_count": 5,
   "id": "7d3d8df9-bef3-48c7-95b1-defe203d3d32",
   "metadata": {},
   "outputs": [],
   "source": [
    "fields = ['v_call', 'j_call', 'c_call', 'junction', 'chain', 'familiy_heavy', 'familiy_pairs', 'pair_count']"
   ]
  },
  {
   "cell_type": "code",
   "execution_count": 7,
   "id": "6e897b8f-4cf3-4f55-afe8-c536418040b1",
   "metadata": {},
   "outputs": [
    {
     "name": "stdout",
     "output_type": "stream",
     "text": [
      "pat1_t2_pc.tsv\n",
      "pat1_t1_pc.tsv\n",
      "pat1_t2_mc.tsv\n",
      "pat2_t2_mc.tsv\n",
      "pat1_t4_pc.tsv\n",
      "pat2_t2_pc.tsv\n",
      "pat1_t1_mc.tsv\n",
      "pat1_t3_pc.tsv\n",
      "pat2_t4_pc.tsv\n",
      "pat2_t1_mc.tsv\n",
      "pat2_t3_mc.tsv\n",
      "pat2_t1_pc.tsv\n",
      "pat2_t3_pc.tsv\n"
     ]
    }
   ],
   "source": [
    "for f_name in listdir('sequences/'):\n",
    "    if f_name[-4:] == '.tsv':\n",
    "        print(f_name)\n",
    "        fr = pd.read_csv('sequences/' + f_name, sep='\\t', index_col='sequence_id', low_memory=False)\n",
    "        fr.index = np.arange(len(fr))\n",
    "        fr[fields].to_csv('sequences/' + f_name, sep='\\t')"
   ]
  },
  {
   "cell_type": "code",
   "execution_count": 10,
   "id": "90d77940-7de5-41ae-ab13-38ae481a047c",
   "metadata": {},
   "outputs": [
    {
     "name": "stdout",
     "output_type": "stream",
     "text": [
      "pat1_t1_mc_r1.tsv\n",
      "pat2_t2_pc_r3.tsv\n",
      "pat1_t4_pc_r3.tsv\n",
      "pat2_t3_pc_r1.tsv\n",
      "pat1_t3_pc_r2.tsv\n",
      "pat1_t3_pc_r6.tsv\n",
      "pat1_t2_mc_r5.tsv\n",
      "pat2_t2_pc_r2.tsv\n",
      "pat1_t1_pc_r1.tsv\n",
      "pat2_t3_mc_r3.tsv\n",
      "pat2_t2_pc_r1.tsv\n",
      "pat1_t2_mc_r2.tsv\n",
      "pat2_t4_pc_r1.tsv\n",
      "pat2_t2_mc_r2.tsv\n",
      "pat2_t1_pc_r1.tsv\n",
      "pat2_t1_mc_r1.tsv\n",
      "pat2_t1_mc_r3.tsv\n",
      "pat1_t4_pc_r4.tsv\n",
      "pat1_t3_pc_r7.tsv\n",
      "pat1_t3_pc_r5.tsv\n",
      "pat1_t1_mc_r3.tsv\n",
      "pat2_t1_mc_r4.tsv\n",
      "pat1_t2_mc_r4.tsv\n",
      "pat2_t4_pc_r2.tsv\n",
      "pat1_t3_pc_r3.tsv\n",
      "pat2_t2_mc_r5.tsv\n",
      "pat2_t3_mc_r2.tsv\n",
      "pat1_t1_mc_r2.tsv\n",
      "pat2_t2_mc_r3.tsv\n",
      "pat2_t1_mc_r5.tsv\n",
      "pat2_t3_pc_r2.tsv\n",
      "pat1_t4_pc_r6.tsv\n",
      "pat1_t3_pc_r4.tsv\n",
      "pat1_t1_mc_r5.tsv\n",
      "pat1_t4_pc_r1.tsv\n",
      "pat1_t2_pc_r2.tsv\n",
      "pat1_t4_pc_r5.tsv\n",
      "pat2_t2_mc_r4.tsv\n",
      "pat2_t3_mc_r1.tsv\n",
      "pat2_t3_mc_r4.tsv\n",
      "pat2_t3_mc_r5.tsv\n",
      "pat1_t3_pc_r1.tsv\n",
      "pat1_t2_pc_r1.tsv\n",
      "pat1_t1_mc_r4.tsv\n",
      "pat2_t2_mc_r1.tsv\n",
      "pat2_t1_mc_r2.tsv\n",
      "pat1_t4_pc_r2.tsv\n",
      "pat1_t4_pc_r7.tsv\n",
      "pat1_t1_pc_r2.tsv\n",
      "pat1_t2_mc_r3.tsv\n",
      "pat1_t2_mc_r1.tsv\n"
     ]
    }
   ],
   "source": [
    "for f_name in listdir('sequences/replicates/'):\n",
    "    if f_name[-4:] == '.tsv':\n",
    "        print(f_name)\n",
    "        fr = pd.read_csv('sequences/replicates/' + f_name, sep='\\t', index_col='sequence_id', low_memory=False)\n",
    "        fr.index = np.arange(len(fr))\n",
    "        #if 'family' not in fr.columns:\n",
    "        #    fr[fields[:-1]].to_csv('sequences/replicates/' + f_name, sep='\\t')\n",
    "        #else:\n",
    "        fr[fields].to_csv('sequences/replicates/' + f_name, sep='\\t')"
   ]
  },
  {
   "cell_type": "code",
   "execution_count": 4,
   "id": "2a187d27-ab91-45d4-88b6-9c9345c94e27",
   "metadata": {},
   "outputs": [
    {
     "data": {
      "text/plain": [
       "Index(['sequence', 'v_call', 'chain', 'j_call', 'sequence_alignment',\n",
       "       'germline_alignment', 'junction', 'junction_aa', 'locus', 'c_call',\n",
       "       'junction_length', 'v_sequence_start', 'v_sequence_end',\n",
       "       'v_germline_start', 'v_germline_end', 'j_sequence_start',\n",
       "       'j_sequence_end', 'j_germline_start', 'j_germline_end', 'cell_id',\n",
       "       'n_seqs_in_cell', 'paired_seq', 'pair_count', 'pat_heavy_id',\n",
       "       'pat_pairs_id', 'familiy_heavy', 'familiy_pairs'],\n",
       "      dtype='object')"
      ]
     },
     "execution_count": 4,
     "metadata": {},
     "output_type": "execute_result"
    }
   ],
   "source": [
    "fr = pd.read_csv('sequences/replicates/' + f_name, sep='\\t', index_col='sequence_id', low_memory=False)"
   ]
  },
  {
   "cell_type": "code",
   "execution_count": null,
   "id": "85b171ed-0933-4f77-9b45-5a78407fb8b1",
   "metadata": {},
   "outputs": [],
   "source": []
  }
 ],
 "metadata": {
  "kernelspec": {
   "display_name": "Python 3",
   "language": "python",
   "name": "python3"
  },
  "language_info": {
   "codemirror_mode": {
    "name": "ipython",
    "version": 3
   },
   "file_extension": ".py",
   "mimetype": "text/x-python",
   "name": "python",
   "nbconvert_exporter": "python",
   "pygments_lexer": "ipython3",
   "version": "3.8.8"
  }
 },
 "nbformat": 4,
 "nbformat_minor": 5
}
