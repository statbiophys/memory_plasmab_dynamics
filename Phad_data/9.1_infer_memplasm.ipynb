{
 "cells": [
  {
   "cell_type": "code",
   "execution_count": 12,
   "id": "de90c2a2-d844-452c-8d06-4360e6a0edc0",
   "metadata": {},
   "outputs": [],
   "source": [
    "import numpy as np\n",
    "import matplotlib.pyplot as plt\n",
    "import pandas as pd\n",
    "from tqdm.notebook import tqdm\n",
    "from skopt.plots import expected_minimum\n",
    "from skopt import gp_minimize\n",
    "\n",
    "import sys\n",
    "sys.path.insert(0, \"../func_py/\")\n",
    "import data_utils as dt\n",
    "import my_utils as mut\n",
    "import infer_memplasm as mp"
   ]
  },
  {
   "cell_type": "code",
   "execution_count": 2,
   "id": "53ce42f5-bdfa-46bd-84b0-1e012b1e945d",
   "metadata": {},
   "outputs": [],
   "source": [
    "metadata = pd.read_csv('metadata/metadata.tsv', sep='\\t', index_col=0)"
   ]
  },
  {
   "cell_type": "markdown",
   "id": "f4b7486d-3a81-4553-8d2f-a5234e573ebc",
   "metadata": {},
   "source": [
    "### Importing the data\n",
    "Each of the two cells below imports one of the two pateients"
   ]
  },
  {
   "cell_type": "code",
   "execution_count": null,
   "id": "7dbb724c-8e6e-4a77-b10a-6dfc9f949e86",
   "metadata": {},
   "outputs": [],
   "source": [
    "pat = '1'\n",
    "mem_samp = ['pat1_t1_mc', '', 'pat1_t2_mc']\n",
    "pb_samp = ['', 'pat1_t2_pc', 'pat1_t3_pc']\n",
    "sp_counts, pars = mp.import_data(mem_samp, pb_samp)\n",
    "dtimes, dts = [49/6, 11/6], [0.1, 0.01]\n",
    "file_name = 'pat1_nmin1_exe'\n",
    "gbm_pars = dt.read_pars('inference/gbm/' + file_name + '.txt')"
   ]
  },
  {
   "cell_type": "code",
   "execution_count": 3,
   "id": "3c97d3c2-d238-4772-8f18-11e2af8bfee4",
   "metadata": {},
   "outputs": [],
   "source": [
    "pat = '2'\n",
    "mem_samp = ['pat2_t1_mc', 'pat2_t2_mc', 'pat2_t3_mc', '']\n",
    "pb_samp = ['', 'pat2_t2_pc', 'pat2_t3_pc', 'pat2_t4_pc']\n",
    "sp_counts, pars = mp.import_data(mem_samp, pb_samp)\n",
    "dtimes, dts = [6, 1/6, 1/3], [0.1, 0.01, 0.01]\n",
    "file_name = 'pat2_3_nmin1_exe'\n",
    "gbm_pars = dt.read_pars('inference/gbm/' + file_name + '.txt')"
   ]
  },
  {
   "cell_type": "markdown",
   "id": "82c01796-9c47-40df-8e9f-bafe8bbcb0cb",
   "metadata": {},
   "source": [
    "### Finding best priors\n",
    "\n",
    "The exploration is the same of the Geometric Brownian Motion: we vary two parameters of the gamma distribution used as a prior importance function for the first time point of memory cells."
   ]
  },
  {
   "cell_type": "code",
   "execution_count": null,
   "id": "b606468a-28c0-4e19-9a08-036c814978df",
   "metadata": {},
   "outputs": [],
   "source": [
    "mp_pars = mp.mp_infer_pars(\n",
    "    dtimes=dtimes, sample_indexes=[pars['m_ids'], pars['p_ids']],\n",
    "    tau_m=gbm_pars['tau'], theta_m=gbm_pars['theta'], Mm_tot=gbm_pars['M_tot'], n0=gbm_pars['n0'],\n",
    "    m_der_f=0.5, p_to_m=0.1, # Parameters f and r of the paper\n",
    "    n_eval=20000, \n",
    "    prior_pars=[0,0], dts=dts\n",
    ")\n",
    "\n",
    "\n",
    "gamma_as = [2, 4, 8]\n",
    "std_factors = np.logspace(-0.25, 1, 10)\n",
    "R = 30\n",
    "\n",
    "stds = np.zeros((len(gamma_as), len(std_factors)))\n",
    "avs = np.zeros((len(gamma_as), len(std_factors)))\n",
    "for i, a in enumerate(gamma_as):\n",
    "    for j, f in enumerate(std_factors):\n",
    "        mp_pars.prior_pars = [a, f]\n",
    "        vals = [mp.log_like_MC(sp_counts, 1, 0.1, mp_pars)[0] for _ in range(R)]\n",
    "        stds[i,j] = np.std(vals) / np.mean(vals)\n",
    "        avs[i,j] = np.mean(vals)\n",
    "        print(i, j)"
   ]
  },
  {
   "cell_type": "code",
   "execution_count": 30,
   "id": "6e738ca0-10ab-414d-959a-acc23ec11886",
   "metadata": {},
   "outputs": [
    {
     "data": {
      "image/png": "[encoded data removed]",
      "text/plain": [
       "<Figure size 432x288 with 1 Axes>"
      ]
     },
     "metadata": {
      "needs_background": "light"
     },
     "output_type": "display_data"
    }
   ],
   "source": [
    "plt.xscale('log')\n",
    "plt.yscale('log')\n",
    "plt.xlabel('gamma std_factor import sampling')\n",
    "plt.ylabel('rel error log-like')\n",
    "for i, a in enumerate(gamma_as):\n",
    "    plt.plot(std_factors, np.abs(stds[i]/avs[i]), label='gamma a:%3.2f'%a)\n",
    "plt.legend()\n",
    "plt.tight_layout()\n",
    "#plt.savefig('plots/memplasm_infer/rel_error_pat'+pat+'_nmin_'+str(mp_pars.n1_min)+'.svg', dpi=200, facecolor='w')"
   ]
  },
  {
   "cell_type": "markdown",
   "id": "4bb6a6fa-91cc-4ed5-9e81-f8cfa7533116",
   "metadata": {},
   "source": [
    "### Visualizing the likelihood"
   ]
  },
  {
   "cell_type": "code",
   "execution_count": 6,
   "id": "f74e27d6-bc9b-4b45-974b-ae7d8d9e511c",
   "metadata": {},
   "outputs": [],
   "source": [
    "mp_pars.m_der_f = 0.5\n",
    "mp_pars.p_to_m = 0.01\n",
    "mp_pars.n_eval = 1 * 10**5\n",
    "name = 'll_scan_pat'+pat+'_mder'+str(mp_pars.m_der_f)+'_ptom'+str(mp_pars.p_to_m)+'.svg'"
   ]
  },
  {
   "cell_type": "code",
   "execution_count": null,
   "id": "c02d5294-699d-4284-a037-87c189151ea3",
   "metadata": {},
   "outputs": [],
   "source": [
    "taus = np.logspace(np.log10(0.01), np.log10(10), 15)\n",
    "alphas = np.logspace(np.log10(0.1), np.log10(1), 15)\n",
    "lls = np.zeros((len(taus), len(alphas)))\n",
    "progress = tqdm(total=len(taus)*len(alphas))\n",
    "for i, t in enumerate(taus):\n",
    "    for j, a in enumerate(alphas):\n",
    "        th = a * t / 2\n",
    "        for k in range(len(mp_pars.dts)-1):\n",
    "            mp_pars.dts[k+1] = min(0.01, min(t, th) / 5)\n",
    "        ll, fr = mp.log_like_MC(sp_counts, t, th, mp_pars)\n",
    "        lls[i,j] = ll\n",
    "        progress.update(1)\n",
    "        lts = \"%3.2f\"%np.log10(t)\n",
    "        astr = \"%3.2f\"%a\n",
    "        print(lts, astr, lls[i,j])"
   ]
  },
  {
   "cell_type": "code",
   "execution_count": null,
   "id": "1bdda13f-b040-4f20-aafc-fa0f8c1acec2",
   "metadata": {},
   "outputs": [],
   "source": [
    "fig, ax = plt.subplots(1, 1, figsize=(6,5))\n",
    "\n",
    "vmax = np.max(lls)\n",
    "ax = mp.plot_heatmap(ax, lls, alphas, np.log10(taus), vmax-0.1, vmax, labx='alpha', laby='log10 tau', cb=True)\n",
    "    \n",
    "plt.tight_layout()\n",
    "name = 'pat'+pat+'_mder'+str(mp_pars.m_der_f)+'_ptom'+str(mp_pars.p_to_m)\n",
    "#plt.savefig('plots/memplasm_infer/ll_scan_'+name+'.svg', facecolor='w')"
   ]
  },
  {
   "cell_type": "markdown",
   "id": "78f35840-6d56-4ad6-b857-6996254187ad",
   "metadata": {},
   "source": [
    "### Finding maximum with GP"
   ]
  },
  {
   "cell_type": "code",
   "execution_count": 32,
   "id": "37649638-0f40-4af9-bec5-bb4c75f7a135",
   "metadata": {},
   "outputs": [],
   "source": [
    "mp_pars.m_der_f = 0.3\n",
    "mp_pars.p_to_m = 0.02\n",
    "mp_pars.n_eval = 3 * 10**5\n",
    "name = 'll_scan_pat'+pat+'_mder'+str(mp_pars.m_der_f)+'_ptom'+str(mp_pars.p_to_m)+'.svg'"
   ]
  },
  {
   "cell_type": "code",
   "execution_count": 33,
   "id": "9bfa02e6-65a1-4f79-9f93-7e13164e268c",
   "metadata": {},
   "outputs": [
    {
     "name": "stdout",
     "output_type": "stream",
     "text": [
      "CPU times: user 11min 28s, sys: 2min 6s, total: 13min 35s\n",
      "Wall time: 11min 11s\n"
     ]
    }
   ],
   "source": [
    "def ll_func(x):\n",
    "    tau, alpha = 10**x[0], 10**x[1]\n",
    "    theta = alpha*tau / 2.0\n",
    "    for k in range(len(mp_pars.dts)-1):\n",
    "        mp_pars.dts[k+1] = min(0.01, min(tau, theta) / 5)\n",
    "    return -mp.log_like_MC(sp_counts, tau, theta, mp_pars)[0]\n",
    "\n",
    "def cb(res):\n",
    "    if len(res.models) > 0:\n",
    "        print(len(res.x_iters), expected_minimum(res)[0], flush=True, end='\\r')\n",
    "    else:\n",
    "        print(len(res.x_iters), flush=True, end='\\r')\n",
    "    \n",
    "n_calls = 50\n",
    "bounds = [(-1.6, 1), (-1., 0)]\n",
    "%time res = gp_minimize(ll_func, dimensions=bounds, callback=cb, n_calls=n_calls)"
   ]
  },
  {
   "cell_type": "code",
   "execution_count": 35,
   "id": "acd1443a-2e7e-481f-9aee-469fe08836cd",
   "metadata": {},
   "outputs": [],
   "source": [
    "x_min = expected_minimum(res)[0]\n",
    "x = np.linspace(bounds[1][0], bounds[1][1], 100)\n",
    "y = np.linspace(bounds[0][0], bounds[0][1], 100)\n",
    "z = np.zeros((len(y), len(x)))\n",
    "for i in range(len(y)):\n",
    "    for j in range(len(x)):\n",
    "        z[i,j] = mut.gp_mean(np.array([y[j], x[i]]), res)\n",
    "        \n",
    "N = len(sp_counts[sp_counts['counts_m1'] >= mp_pars.n1_min])\n",
    "H = mut.hess(lambda x : N*mut.gp_mean(x, res), np.array(x_min), 0.01)\n",
    "H_inv = np.linalg.inv(H)\n",
    "errs = np.sqrt([H_inv[0,0], H_inv[1,1]])"
   ]
  },
  {
   "cell_type": "code",
   "execution_count": 36,
   "id": "3741185f-e148-4165-928f-fd329ce037d3",
   "metadata": {},
   "outputs": [
    {
     "data": {
      "image/png": "[encoded data removed]",
      "text/plain": [
       "<Figure size 432x288 with 1 Axes>"
      ]
     },
     "metadata": {
      "needs_background": "light"
     },
     "output_type": "display_data"
    }
   ],
   "source": [
    "plt.xlabel('log10 alpha', fontsize=12)\n",
    "plt.ylabel('log10 tau_p', fontsize=12)\n",
    "\n",
    "plt.contourf(x, y, -z.T, levels=25)\n",
    "plt.errorbar([x_min[1]],[x_min[0]], xerr=[errs[1]], yerr=[errs[0]])\n",
    "plt.scatter([x_min[1]],[x_min[0]], c='r', s=75)\n",
    "plt.savefig('plots/memplasm_infer/gp_'+name+'.svg', facecolor='w')"
   ]
  },
  {
   "cell_type": "code",
   "execution_count": 26,
   "id": "be8112ac-4ac9-4132-b893-881a0d17493d",
   "metadata": {},
   "outputs": [],
   "source": [
    "theta = 10**x_min[0] * 10**x_min[1] / 2.0\n",
    "err_theta = mut.error_prod(np.log10(theta), x_min[0], x_min[1], errs[0], errs[1], H_inv[0,1])\n",
    "\n",
    "f = open('inference/memplasm/result_'+name+'.txt', 'w')\n",
    "f.write('log10_tau_p:\\t'+str(x_min[0])+'\\n')\n",
    "f.write('log10_alpha:\\t'+str(x_min[1])+'\\n')\n",
    "f.write('log10_theta:\\t'+str(np.log10(theta))+'\\n')\n",
    "f.write('tau_p:\\t'+str(10**x_min[0])+'\\n')\n",
    "f.write('alpha:\\t'+str(10**x_min[1])+'\\n')\n",
    "f.write('theta:\\t'+str(theta)+'\\n')\n",
    "f.write('log10_tau_p_err:\\t'+str(errs[0])+'\\n')\n",
    "f.write('log10_alpha_err:\\t'+str(errs[1])+'\\n')\n",
    "f.write('log10_theta_err:\\t'+str(err_theta)+'\\n')\n",
    "\n",
    "f.close()"
   ]
  },
  {
   "cell_type": "markdown",
   "id": "ced11f01-dded-4215-b9aa-11b1fbec675b",
   "metadata": {},
   "source": [
    "### Parameter scan"
   ]
  },
  {
   "cell_type": "code",
   "execution_count": 10,
   "id": "3cf4b0bb-3680-4b6e-bdd7-d86413ddfd8c",
   "metadata": {},
   "outputs": [],
   "source": [
    "def ll_func(x, mp_pars):\n",
    "    tau, alpha = 10**x[0], 10**x[1]\n",
    "    theta = alpha*tau / 2.0\n",
    "    for k in range(len(mp_pars.dts)-1):\n",
    "        mp_pars.dts[k+1] = min(0.01, min(tau, theta) / 5)\n",
    "    return -mp.log_like_MC(sp_counts, tau, theta, mp_pars)[0]\n",
    "\n",
    "\n",
    "def find_max_ll(mp_pars, bounds, n_calls):\n",
    "    res = gp_minimize(lambda x : ll_func(x, mp_pars), dimensions=bounds, n_calls=n_calls)\n",
    "    x_min, ll = expected_minimum(res)[0], -expected_minimum(res)[1]\n",
    "    N = len(sp_counts[sp_counts['counts_m1'] >= mp_pars.n1_min])\n",
    "    H = mut.hess(lambda x : N*mut.gp_mean(x, res), np.array(x_min), 0.01)\n",
    "    H_inv = np.linalg.inv(H)\n",
    "    errs = np.sqrt([H_inv[0,0], H_inv[1,1]])\n",
    "    return x_min, ll, errs, H_inv[0,1]"
   ]
  },
  {
   "cell_type": "code",
   "execution_count": null,
   "id": "e68585e8-d176-42e5-aa4f-3fe271deee05",
   "metadata": {},
   "outputs": [],
   "source": [
    "m_der_fs = [0.3, 0.5, 0.8]\n",
    "p_to_ms = [0.01, 0.02, 0.05, 0.1]\n",
    "result_fr = pd.DataFrame(columns=['m_der_f', 'p_to_m', 'll', 'log10_tau_p', 'log10_theta_p', 'err_tau_p', 'err_theta_p'])\n",
    "n_calls = 50\n",
    "mp_pars.n_eval = 3 * 10**5\n",
    "\n",
    "for m_der_f in m_der_fs:\n",
    "    for p_to_m in p_to_ms:\n",
    "        aux_d = {'m_der_f' : m_der_f, 'p_to_m' : p_to_m}\n",
    "        mp_pars.m_der_f = m_der_f\n",
    "        mp_pars.p_to_m = p_to_m\n",
    "        x_min, ll, errs, cov = find_max_ll(mp_pars, [(-1.6, 1), (-1.3, 0)], n_calls)\n",
    "        theta = 10**x_min[0] * 10**x_min[1] / 2.0\n",
    "        err_theta = mut.error_prod(np.abs(np.log10(theta)), x_min[0], x_min[1], errs[0], errs[1], cov)\n",
    "        aux_d['ll'] = ll\n",
    "        aux_d['log10_tau_p'] = x_min[0]\n",
    "        aux_d['theta_p'] = theta\n",
    "        aux_d['err_tau_p'] = errs[0]\n",
    "        aux_d['err_theta_p'] = err_theta\n",
    "        result_fr.loc[len(result_fr)] = aux_d\n",
    "        print(aux_d)"
   ]
  },
  {
   "cell_type": "code",
   "execution_count": 80,
   "id": "f47ef4b4-8500-47b5-841b-3484035243b2",
   "metadata": {},
   "outputs": [],
   "source": [
    "result_fr.to_csv('inference/memplasm/result_pat'+pat+'.csv')"
   ]
  },
  {
   "cell_type": "code",
   "execution_count": 14,
   "id": "c1d7b6e6-a902-4e23-a775-59c16e1e36cd",
   "metadata": {},
   "outputs": [
    {
     "data": {
      "text/html": [
       "<div>\n",
       "<style scoped>\n",
       "    .dataframe tbody tr th:only-of-type {\n",
       "        vertical-align: middle;\n",
       "    }\n",
       "\n",
       "    .dataframe tbody tr th {\n",
       "        vertical-align: top;\n",
       "    }\n",
       "\n",
       "    .dataframe thead th {\n",
       "        text-align: right;\n",
       "    }\n",
       "</style>\n",
       "<table border=\"1\" class=\"dataframe\">\n",
       "  <thead>\n",
       "    <tr style=\"text-align: right;\">\n",
       "      <th></th>\n",
       "      <th>m_der_f</th>\n",
       "      <th>p_to_m</th>\n",
       "      <th>ll</th>\n",
       "      <th>log10_tau_p</th>\n",
       "      <th>log10_theta_p</th>\n",
       "      <th>err_tau_p</th>\n",
       "      <th>err_theta_p</th>\n",
       "    </tr>\n",
       "  </thead>\n",
       "  <tbody>\n",
       "    <tr>\n",
       "      <th>0</th>\n",
       "      <td>0.3</td>\n",
       "      <td>0.01</td>\n",
       "      <td>-5.913516</td>\n",
       "      <td>-0.495998</td>\n",
       "      <td>-1.237769</td>\n",
       "      <td>0.082355</td>\n",
       "      <td>0.199099</td>\n",
       "    </tr>\n",
       "    <tr>\n",
       "      <th>1</th>\n",
       "      <td>0.3</td>\n",
       "      <td>0.02</td>\n",
       "      <td>-5.912957</td>\n",
       "      <td>-0.536449</td>\n",
       "      <td>-1.245090</td>\n",
       "      <td>0.079944</td>\n",
       "      <td>0.189431</td>\n",
       "    </tr>\n",
       "    <tr>\n",
       "      <th>2</th>\n",
       "      <td>0.3</td>\n",
       "      <td>0.05</td>\n",
       "      <td>-5.913016</td>\n",
       "      <td>-0.439581</td>\n",
       "      <td>-1.243255</td>\n",
       "      <td>0.081958</td>\n",
       "      <td>0.208931</td>\n",
       "    </tr>\n",
       "    <tr>\n",
       "      <th>3</th>\n",
       "      <td>0.3</td>\n",
       "      <td>0.10</td>\n",
       "      <td>-5.912621</td>\n",
       "      <td>-0.498726</td>\n",
       "      <td>-1.247324</td>\n",
       "      <td>0.070664</td>\n",
       "      <td>0.164341</td>\n",
       "    </tr>\n",
       "    <tr>\n",
       "      <th>4</th>\n",
       "      <td>0.5</td>\n",
       "      <td>0.01</td>\n",
       "      <td>-5.905580</td>\n",
       "      <td>-0.244725</td>\n",
       "      <td>-1.116889</td>\n",
       "      <td>0.085568</td>\n",
       "      <td>0.329883</td>\n",
       "    </tr>\n",
       "    <tr>\n",
       "      <th>5</th>\n",
       "      <td>0.5</td>\n",
       "      <td>0.02</td>\n",
       "      <td>-5.904683</td>\n",
       "      <td>-0.406995</td>\n",
       "      <td>-1.221276</td>\n",
       "      <td>0.113801</td>\n",
       "      <td>0.242999</td>\n",
       "    </tr>\n",
       "    <tr>\n",
       "      <th>6</th>\n",
       "      <td>0.5</td>\n",
       "      <td>0.05</td>\n",
       "      <td>-5.904610</td>\n",
       "      <td>-0.311993</td>\n",
       "      <td>-1.141605</td>\n",
       "      <td>0.096469</td>\n",
       "      <td>0.277429</td>\n",
       "    </tr>\n",
       "    <tr>\n",
       "      <th>7</th>\n",
       "      <td>0.5</td>\n",
       "      <td>0.10</td>\n",
       "      <td>-5.904750</td>\n",
       "      <td>-0.488055</td>\n",
       "      <td>-1.197668</td>\n",
       "      <td>0.088668</td>\n",
       "      <td>0.208270</td>\n",
       "    </tr>\n",
       "    <tr>\n",
       "      <th>8</th>\n",
       "      <td>0.8</td>\n",
       "      <td>0.01</td>\n",
       "      <td>-5.902083</td>\n",
       "      <td>-0.057252</td>\n",
       "      <td>-1.076459</td>\n",
       "      <td>0.101160</td>\n",
       "      <td>1.838300</td>\n",
       "    </tr>\n",
       "    <tr>\n",
       "      <th>9</th>\n",
       "      <td>0.8</td>\n",
       "      <td>0.02</td>\n",
       "      <td>-5.902396</td>\n",
       "      <td>-0.060933</td>\n",
       "      <td>-1.138373</td>\n",
       "      <td>0.097890</td>\n",
       "      <td>1.775809</td>\n",
       "    </tr>\n",
       "    <tr>\n",
       "      <th>10</th>\n",
       "      <td>0.8</td>\n",
       "      <td>0.05</td>\n",
       "      <td>-5.901802</td>\n",
       "      <td>-0.151328</td>\n",
       "      <td>-1.074905</td>\n",
       "      <td>0.081256</td>\n",
       "      <td>0.540305</td>\n",
       "    </tr>\n",
       "    <tr>\n",
       "      <th>11</th>\n",
       "      <td>0.8</td>\n",
       "      <td>0.10</td>\n",
       "      <td>-5.902111</td>\n",
       "      <td>-0.084768</td>\n",
       "      <td>-1.083852</td>\n",
       "      <td>0.092212</td>\n",
       "      <td>1.101852</td>\n",
       "    </tr>\n",
       "  </tbody>\n",
       "</table>\n",
       "</div>"
      ],
      "text/plain": [
       "    m_der_f  p_to_m        ll  log10_tau_p  log10_theta_p  err_tau_p  \\\n",
       "0       0.3    0.01 -5.913516    -0.495998      -1.237769   0.082355   \n",
       "1       0.3    0.02 -5.912957    -0.536449      -1.245090   0.079944   \n",
       "2       0.3    0.05 -5.913016    -0.439581      -1.243255   0.081958   \n",
       "3       0.3    0.10 -5.912621    -0.498726      -1.247324   0.070664   \n",
       "4       0.5    0.01 -5.905580    -0.244725      -1.116889   0.085568   \n",
       "5       0.5    0.02 -5.904683    -0.406995      -1.221276   0.113801   \n",
       "6       0.5    0.05 -5.904610    -0.311993      -1.141605   0.096469   \n",
       "7       0.5    0.10 -5.904750    -0.488055      -1.197668   0.088668   \n",
       "8       0.8    0.01 -5.902083    -0.057252      -1.076459   0.101160   \n",
       "9       0.8    0.02 -5.902396    -0.060933      -1.138373   0.097890   \n",
       "10      0.8    0.05 -5.901802    -0.151328      -1.074905   0.081256   \n",
       "11      0.8    0.10 -5.902111    -0.084768      -1.083852   0.092212   \n",
       "\n",
       "    err_theta_p  \n",
       "0      0.199099  \n",
       "1      0.189431  \n",
       "2      0.208931  \n",
       "3      0.164341  \n",
       "4      0.329883  \n",
       "5      0.242999  \n",
       "6      0.277429  \n",
       "7      0.208270  \n",
       "8      1.838300  \n",
       "9      1.775809  \n",
       "10     0.540305  \n",
       "11     1.101852  "
      ]
     },
     "execution_count": 14,
     "metadata": {},
     "output_type": "execute_result"
    }
   ],
   "source": [
    "pat = '2'\n",
    "result_fr = pd.read_csv('inference/memplasm/result_pat'+pat+'.csv', index_col=0)\n",
    "result_fr"
   ]
  },
  {
   "cell_type": "code",
   "execution_count": 15,
   "id": "d4a76c75-47ac-4d6f-9fa1-d7c5b14786ad",
   "metadata": {},
   "outputs": [
    {
     "data": {
      "image/png": "[encoded data removed]",
      "text/plain": [
       "<Figure size 720x216 with 3 Axes>"
      ]
     },
     "metadata": {
      "needs_background": "light"
     },
     "output_type": "display_data"
    }
   ],
   "source": [
    "fig, axs = plt.subplots(1,3,figsize=(10,3))\n",
    "axs[0].set_xlabel('pb-to-mem ratio', fontsize=12)\n",
    "for ax in axs:\n",
    "    ax.set_xscale('log')\n",
    "axs[0].set_ylabel(r'$\\log_{10} \\tau_p$', fontsize=12)\n",
    "axs[1].set_ylabel(r'$\\log_{10} \\theta_p$', fontsize=12)\n",
    "axs[2].set_ylabel(r'$\\log_{10} \\rho$', fontsize=12)\n",
    "\n",
    "m_der_fs = np.unique(result_fr['m_der_f'])\n",
    "for i, m_der_f in enumerate(m_der_fs):\n",
    "    sub_fr = result_fr[result_fr.m_der_f == m_der_f]\n",
    "    axs[0].errorbar(sub_fr.p_to_m, sub_fr.log10_tau_p, yerr=sub_fr.err_tau_p, marker='o',  label='mem-der frac='+str(m_der_f))\n",
    "    axs[1].errorbar(sub_fr.p_to_m, sub_fr.log10_theta_p, yerr=sub_fr.err_tau_p, marker='o')\n",
    "    rhos = np.log10(sub_fr.p_to_m * sub_fr.m_der_f) - sub_fr.log10_tau_p\n",
    "    axs[2].errorbar(sub_fr.p_to_m, rhos, yerr=sub_fr.err_tau_p, marker='o')\n",
    "    \n",
    "axs[0].legend()\n",
    "plt.tight_layout()\n",
    "#plt.savefig('plots/memplasm_infer/params_pat'+pat+'.svg')"
   ]
  },
  {
   "cell_type": "code",
   "execution_count": null,
   "id": "48256cb5-6ada-4f78-b617-d682e1c33c5b",
   "metadata": {},
   "outputs": [],
   "source": []
  }
 ],
 "metadata": {
  "kernelspec": {
   "display_name": "Python 3",
   "language": "python",
   "name": "python3"
  },
  "language_info": {
   "codemirror_mode": {
    "name": "ipython",
    "version": 3
   },
   "file_extension": ".py",
   "mimetype": "text/x-python",
   "name": "python",
   "nbconvert_exporter": "python",
   "pygments_lexer": "ipython3",
   "version": "3.8.8"
  }
 },
 "nbformat": 4,
 "nbformat_minor": 5
}
