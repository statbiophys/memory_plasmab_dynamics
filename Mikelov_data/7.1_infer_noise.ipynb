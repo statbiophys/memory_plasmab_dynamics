{
 "cells": [
  {
   "cell_type": "code",
   "execution_count": 4,
   "id": "9468d1e6-fa19-4adf-b547-804ea43128db",
   "metadata": {},
   "outputs": [],
   "source": [
    "import numpy as np\n",
    "import matplotlib.pyplot as plt\n",
    "import pandas as pd\n",
    "\n",
    "import sys\n",
    "sys.path.insert(0, \"../func_py/\")\n",
    "import infer_noise as infn\n",
    "import data_utils as dt"
   ]
  },
  {
   "cell_type": "code",
   "execution_count": 5,
   "id": "e2bc0b6f-4684-4d13-ac28-6f0a826ba028",
   "metadata": {},
   "outputs": [],
   "source": [
    "metadata = pd.read_csv('metadata/metadata.tsv', sep='\\t', index_col=0)"
   ]
  },
  {
   "cell_type": "markdown",
   "id": "3ec919bd-55ec-4837-a313-0d181dd9dbc1",
   "metadata": {},
   "source": [
    "### Learning the three noise models for each memory sample\n",
    "\n",
    "The learned parameters are saved in the `inference/noise` folder"
   ]
  },
  {
   "cell_type": "code",
   "execution_count": null,
   "id": "f4f46363-0d2f-46b1-b5ed-428a6c9aadfa",
   "metadata": {},
   "outputs": [],
   "source": [
    "aux = metadata[metadata.cell == 'mem']\n",
    "samples = aux[aux.n_repls > 1].index\n",
    "for sample in samples:\n",
    "    \n",
    "    print(sample)\n",
    "    n_uniq, n_counts = dt.import_sample_counts(sample, metadata.loc[sample].n_repls, 'family', 'count')\n",
    "    \n",
    "    # Poisson\n",
    "    infer = infn.infer_noise_poiss(n_uniq, n_counts, False, n_points=20000)\n",
    "    infer.run(x0=(2.5, -7), bounds=((2, 3), (-8, -3)))\n",
    "    infer.compute_errors()\n",
    "    infer.write_on_file('inference/noise/', sample+'_'+infer.name+'.txt')\n",
    "    print(infer.result.x, infer.errors[0])\n",
    "    \n",
    "    # Neg bin beta = 1\n",
    "    infer = infn.infer_noise_negbin(n_uniq, n_counts, False, False, n_points=20000, n_threads=3)\n",
    "    infer.run(x0=(2.5, -7, 0.2), bounds=((2, 3), (-8, -1), (0.001, 2)))\n",
    "    infer.compute_errors()\n",
    "    infer.write_on_file('inference/noise/', sample+'_'+infer.name+'.txt')\n",
    "    print(infer.result.x, infer.errors[0])\n",
    "    \n",
    "    # Neg bin free beta\n",
    "    infer = infn.infer_noise_negbin(n_uniq, n_counts, True, False, n_points=20000, n_threads=8)\n",
    "    infer.ftol = 5 * 10**(-6)\n",
    "    infer.run(x0=(2.5, -6, 0.1, 1), bounds=((2, 3), (-7, -4), (0.001, 2), (0.2, 3)))\n",
    "    infer.compute_errors()\n",
    "    infer.write_on_file('inference/noise/', sample+'_'+infer.name+'.txt')\n",
    "    print(infer.result.x, infer.errors[0])"
   ]
  },
  {
   "cell_type": "markdown",
   "id": "cfad0053-4d7e-4e27-bb95-fab1d840c261",
   "metadata": {},
   "source": [
    "### Learning the three noise models for each plasmablast sample"
   ]
  },
  {
   "cell_type": "code",
   "execution_count": null,
   "id": "6f6bb909-e7c6-4d05-bcbc-aaf4f758e310",
   "metadata": {},
   "outputs": [],
   "source": [
    "aux = metadata[metadata.cell == 'pb']\n",
    "samples = aux[aux.n_repls > 1].index\n",
    "for sample in samples:\n",
    "    \n",
    "    print(sample)\n",
    "    n_uniq, n_counts = dt.import_sample_counts(sample, metadata.loc[sample].n_repls, 'family', 'count')\n",
    "    \n",
    "    # Poisson\n",
    "    infer = infn.infer_noise_poiss(n_uniq, n_counts, False, n_points=20000)\n",
    "    infer.run(x0=(2, -4), bounds=((2, 3), (-8, -2)))\n",
    "    infer.compute_errors()\n",
    "    infer.write_on_file('inference/noise/', sample+'_'+infer.name+'.txt')\n",
    "    print(infer.result.x)\n",
    "    \n",
    "    # Neg bin beta = 1\n",
    "    infer = infn.infer_noise_negbin(n_uniq, n_counts, False, False, n_points=20000)\n",
    "    infer.run(x0=(2.3, -4, 6), bounds=((2, 3), (-7, -3), (0.5, 15)))\n",
    "    infer.compute_errors()\n",
    "    infer.write_on_file('inference/noise/', sample+'_'+infer.name+'.txt')\n",
    "    print(infer.result.x)\n",
    "    \n",
    "    # Neg bin free beta\n",
    "    infer = infn.infer_noise_negbin(n_uniq, n_counts, True, False, n_points=20000)\n",
    "    infer.run(x0=(4, -4, 12, 3), bounds=((2, 10), (-7, -2), (5, 20), (0.2, 6)))\n",
    "    infer.compute_errors()\n",
    "    infer.write_on_file('inference/noise/', sample+'_'+infer.name+'.txt')\n",
    "    print(infer.result.x,  infer.errors[0])"
   ]
  },
  {
   "cell_type": "code",
   "execution_count": null,
   "id": "2681175c-dca5-41de-a733-09500648a3f2",
   "metadata": {},
   "outputs": [],
   "source": []
  }
 ],
 "metadata": {
  "kernelspec": {
   "display_name": "Python 3",
   "language": "python",
   "name": "python3"
  },
  "language_info": {
   "codemirror_mode": {
    "name": "ipython",
    "version": 3
   },
   "file_extension": ".py",
   "mimetype": "text/x-python",
   "name": "python",
   "nbconvert_exporter": "python",
   "pygments_lexer": "ipython3",
   "version": "3.8.8"
  }
 },
 "nbformat": 4,
 "nbformat_minor": 5
}
