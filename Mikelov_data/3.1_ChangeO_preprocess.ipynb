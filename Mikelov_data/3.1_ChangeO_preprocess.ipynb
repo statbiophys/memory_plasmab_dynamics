{
 "cells": [
  {
   "cell_type": "code",
   "execution_count": 2,
   "id": "cf3c5d11-ef79-4399-9fba-968188e571c8",
   "metadata": {},
   "outputs": [],
   "source": [
    "import numpy as np\n",
    "import pandas as pd\n",
    "import matplotlib.pyplot as plt\n",
    "import sys\n",
    "import os\n",
    "sys.path.insert(0, \"../func_py/\")\n",
    "import data_utils as ut"
   ]
  },
  {
   "cell_type": "code",
   "execution_count": 3,
   "id": "4d132901-d901-4a28-aa5d-9f0f69940356",
   "metadata": {},
   "outputs": [],
   "source": [
    "min_n_reads = 3"
   ]
  },
  {
   "cell_type": "markdown",
   "id": "d7988534-dd45-4d70-bb34-8f21e53591c3",
   "metadata": {},
   "source": [
    "To run Hilary it's faster to have the alignemnt output of change O. Here we filter the mixcr output by selecting a minimum number of reads per sequence and we create a fasta to feed the aligner of change O. \n",
    "We keep the information on the C alignment, that will be lost on the trimmed sequence."
   ]
  },
  {
   "cell_type": "markdown",
   "id": "a2a73c47-73ac-49ab-b0a6-44a19eebc6d5",
   "metadata": {},
   "source": [
    "## Visualizing one sample"
   ]
  },
  {
   "cell_type": "code",
   "execution_count": null,
   "id": "c31acced-df02-40f9-905b-c1f980f53680",
   "metadata": {},
   "outputs": [],
   "source": [
    "sample_name = \"1.clones_IGH.tsv\"\n",
    "fr = pd.read_csv('mixcr_out/'+sample_name, sep='\\t')\n",
    "len(fr)"
   ]
  },
  {
   "cell_type": "code",
   "execution_count": 60,
   "id": "31c3ddb7-98d5-495b-b191-f94a42de115b",
   "metadata": {},
   "outputs": [
    {
     "data": {
      "text/plain": [
       "<matplotlib.collections.PathCollection at 0x774dd082a910>"
      ]
     },
     "execution_count": 60,
     "metadata": {},
     "output_type": "execute_result"
    },
    {
     "data": {
      "image/png": "[encoded data removed]",
      "text/plain": [
       "<Figure size 432x288 with 1 Axes>"
      ]
     },
     "metadata": {
      "needs_background": "light"
     },
     "output_type": "display_data"
    }
   ],
   "source": [
    "uni_n, count_n = np.unique(fr.readCount, return_counts=True)\n",
    "plt.loglog()\n",
    "plt.scatter(uni_n, count_n)"
   ]
  },
  {
   "cell_type": "code",
   "execution_count": 61,
   "id": "018e0af0-063e-4e44-9775-df75861e74a7",
   "metadata": {},
   "outputs": [
    {
     "data": {
      "text/plain": [
       "<matplotlib.collections.PathCollection at 0x774dd07e89d0>"
      ]
     },
     "execution_count": 61,
     "metadata": {},
     "output_type": "execute_result"
    },
    {
     "data": {
      "image/png": "[encoded data removed]",
      "text/plain": [
       "<Figure size 432x288 with 1 Axes>"
      ]
     },
     "metadata": {
      "needs_background": "light"
     },
     "output_type": "display_data"
    }
   ],
   "source": [
    "ns = fr.uniqueMoleculeCount[fr.readCount > 1]\n",
    "uni_n, count_n = np.unique(ns, return_counts=True)\n",
    "plt.loglog()\n",
    "plt.scatter(uni_n, count_n)"
   ]
  },
  {
   "cell_type": "markdown",
   "id": "a34152c3-733e-43cd-9ec9-d34df467f7cd",
   "metadata": {},
   "source": [
    "## Processing and exporting the fasta for every sample"
   ]
  },
  {
   "cell_type": "code",
   "execution_count": 62,
   "id": "7730f0a4-7973-4cf0-aecf-57dd170d241b",
   "metadata": {},
   "outputs": [
    {
     "data": {
      "text/plain": [
       "array(['', 'IGHA1', 'IGHD', 'IGHG1', 'IGHG3', 'IGHM'], dtype=object)"
      ]
     },
     "execution_count": 62,
     "metadata": {},
     "output_type": "execute_result"
    }
   ],
   "source": [
    "c_call = fr.allCHitsWithScore.str.split('*').str[0]\n",
    "c_call = c_call.fillna(\"\")\n",
    "np.unique(np.array(c_call.values))"
   ]
  },
  {
   "cell_type": "code",
   "execution_count": 63,
   "id": "6e1e6dc0-3e81-4c89-8558-a4f313a44634",
   "metadata": {},
   "outputs": [],
   "source": [
    "def process(fr):\n",
    "    fr = fr[fr.readCount >= min_n_reads]\n",
    "    fr.loc[:,'cloneId'] = np.array(fr.cloneId, dtype=str)\n",
    "    fr.loc[:,'uniqueMoleculeCount'] = np.array(fr.uniqueMoleculeCount, dtype=str)\n",
    "    c_call = fr.allCHitsWithScore.str.split('*').str[0].fillna(\"\")\n",
    "    new_id = fr.cloneId + \"|DUPCOUNT=\" + fr.uniqueMoleculeCount + \"|c_call=\" + c_call\n",
    "    fr.index = new_id\n",
    "    return fr\n",
    "\n",
    "def write_fasta(dictionary, path):\n",
    "    file = open(path, 'w')\n",
    "    for k, v in dictionary.items():\n",
    "        file.write(\">\" + str(k) + \"\\n\")\n",
    "        file.write(str(v) + \"\\n\")\n",
    "    file.close()"
   ]
  },
  {
   "cell_type": "code",
   "execution_count": 64,
   "id": "449ad2c5-7506-4c00-8b6f-90645174fb4e",
   "metadata": {},
   "outputs": [
    {
     "name": "stdout",
     "output_type": "stream",
     "text": [
      "25.clones_IGH.tsv\n",
      "40.clones_IGH.tsv\n",
      "61.clones_IGH.tsv\n",
      "42.clones_IGH.tsv\n",
      "65.clones_IGH.tsv\n",
      "16.clones_IGH.tsv\n",
      "6.clones_IGH.tsv\n",
      "55.clones_IGH.tsv\n",
      "71.clones_IGH.tsv\n",
      "46.clones_IGH.tsv\n",
      "64.clones_IGH.tsv\n",
      "5.clones_IGH.tsv\n",
      "49.clones_IGH.tsv\n",
      "54.clones_IGH.tsv\n",
      "10.clones_IGH.tsv\n",
      "23.clones_IGH.tsv\n",
      "78.clones_IGH.tsv\n",
      "72.clones_IGH.tsv\n",
      "56.clones_IGH.tsv\n",
      "36.clones_IGH.tsv\n",
      "32.clones_IGH.tsv\n",
      "8.clones_IGH.tsv\n",
      "2.clones_IGH.tsv\n",
      "35.clones_IGH.tsv\n",
      "57.clones_IGH.tsv\n",
      "51.clones_IGH.tsv\n",
      "37.clones_IGH.tsv\n",
      "18.clones_IGH.tsv\n",
      "26.clones_IGH.tsv\n",
      "17.clones_IGH.tsv\n",
      "77.clones_IGH.tsv\n",
      "79.clones_IGH.tsv\n",
      "50.clones_IGH.tsv\n",
      "1.clones_IGH.tsv\n",
      "11.clones_IGH.tsv\n",
      "74.clones_IGH.tsv\n",
      "34.clones_IGH.tsv\n",
      "41.clones_IGH.tsv\n",
      "80.clones_IGH.tsv\n",
      "31.clones_IGH.tsv\n",
      "48.clones_IGH.tsv\n",
      "45.clones_IGH.tsv\n",
      "39.clones_IGH.tsv\n",
      "66.clones_IGH.tsv\n",
      "67.clones_IGH.tsv\n",
      "19.clones_IGH.tsv\n",
      "24.clones_IGH.tsv\n",
      "22.clones_IGH.tsv\n",
      "72_chunk_1.clones_IGH.tsv\n",
      "63.clones_IGH.tsv\n",
      "4.clones_IGH.tsv\n",
      "73.clones_IGH.tsv\n",
      "60.clones_IGH.tsv\n",
      "9.clones_IGH.tsv\n"
     ]
    }
   ],
   "source": [
    "for f_name in os.listdir('mixcr_out/'):\n",
    "    if f_name[-4:] != '.tsv':\n",
    "        continue\n",
    "    if f_name[-7:-4] != 'IGH':\n",
    "        continue\n",
    "    print(f_name)\n",
    "    \n",
    "    fr = pd.read_csv('mixcr_out/'+f_name, sep='\\t')\n",
    "    fr = process(fr)\n",
    "    _id = f_name.split('.')[0]\n",
    "    write_fasta(fr.targetSequences, 'mixcr_out/' + _id + '_seqs.fasta')"
   ]
  }
 ],
 "metadata": {
  "kernelspec": {
   "display_name": "Python 3",
   "language": "python",
   "name": "python3"
  },
  "language_info": {
   "codemirror_mode": {
    "name": "ipython",
    "version": 3
   },
   "file_extension": ".py",
   "mimetype": "text/x-python",
   "name": "python",
   "nbconvert_exporter": "python",
   "pygments_lexer": "ipython3",
   "version": "3.8.8"
  }
 },
 "nbformat": 4,
 "nbformat_minor": 5
}
