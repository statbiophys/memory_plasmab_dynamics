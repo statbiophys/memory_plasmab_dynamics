{
 "cells": [
  {
   "cell_type": "code",
   "execution_count": 1,
   "id": "00060751-0e0f-4cd2-9530-2e62b800f32f",
   "metadata": {},
   "outputs": [],
   "source": [
    "import numpy as np\n",
    "import matplotlib.pyplot as plt\n",
    "import pandas as pd\n",
    "from tqdm.notebook import tqdm\n",
    "\n",
    "import sys\n",
    "sys.path.insert(0, \"../func_py/\")\n",
    "import infer_gbm as gbm\n",
    "import data_utils as dtu\n",
    "\n",
    "import warnings\n",
    "warnings.filterwarnings(\"ignore\")"
   ]
  },
  {
   "cell_type": "code",
   "execution_count": 2,
   "id": "b3ec006d-58fd-4a19-a7cc-9c2ed185b1ab",
   "metadata": {},
   "outputs": [],
   "source": [
    "metadata = pd.read_csv('metadata/metadata.tsv', sep='\\t', index_col=0)\n",
    "\n",
    "# List containing the 3 inference settings. Each element is composed by:\n",
    "# - setting label patinet-ntimepoints\n",
    "# - list of samples used in the inference\n",
    "# - delta times that separate the samples in years\n",
    "# - parameters of the gamma import function\n",
    "pairs_and_dts = [\n",
    "    ('AT', ('AT_t1_mem', 'AT_t2_mem', 'AT_t3_mem'), [1/12, 11/12], [5,4]),\n",
    "    ('IM', ('IM_t1_mem', 'IM_t2_mem', 'IM_t3_mem'), [1/12, 11/12], [5,4]),\n",
    "    ('IZ', ('IZ_t1_mem', 'IZ_t2_mem', 'IZ_t3_mem'), [1/12, 11/12], [5,4]),\n",
    "]"
   ]
  },
  {
   "cell_type": "code",
   "execution_count": 3,
   "id": "85071ae2-612e-45b7-920e-b3c81cd7a57d",
   "metadata": {},
   "outputs": [
    {
     "name": "stdout",
     "output_type": "stream",
     "text": [
      "count label not found, setting the counts to 1\n",
      "count label not found, setting the counts to 1\n",
      "count label not found, setting the counts to 1\n",
      "one or more samples do not have a lerned model, the parameter is set as the average of the others\n"
     ]
    },
    {
     "data": {
      "text/plain": [
       "array([0.16749305, 0.17910576, 0.15588035])"
      ]
     },
     "execution_count": 3,
     "metadata": {},
     "output_type": "execute_result"
    }
   ],
   "source": [
    "label, samples, dtimes, priors = pairs_and_dts[2]\n",
    "\n",
    "sp_counts = dtu.import_and_build_sparse_counts(samples, 'family', 'count')\n",
    "\n",
    "# Importing also the noise parameters of the negative binomial\n",
    "a_negbin = dtu.read_noise_negbin_a('inference/noise/', samples)\n",
    "a_negbin"
   ]
  },
  {
   "cell_type": "markdown",
   "id": "3379f411-0368-4278-b3bb-aad5137fffae",
   "metadata": {},
   "source": [
    "### Scanning the best likelihood at best tau and theta for different M_tot and n0s"
   ]
  },
  {
   "cell_type": "markdown",
   "id": "cdc2348f-d4b8-42bb-a4d3-dc4860975db1",
   "metadata": {},
   "source": [
    "It scans the best tau-alpha LL varying the boundary parameters n_0, M to check where we have a minimum valley. It is likely that we cannot really find the minimum because for large tau the LL is flat, but this gives me the right region of n0-M"
   ]
  },
  {
   "cell_type": "code",
   "execution_count": 10,
   "id": "cd211866-548f-485d-b1d5-a5437017aa9c",
   "metadata": {},
   "outputs": [],
   "source": [
    "pars = {\n",
    "    'n_eval' : 3 * 10**5,\n",
    "    'bounds00' : 0.8,\n",
    "    'bounds01' : 80.0,\n",
    "    'bounds10' : 1.0,\n",
    "    'bounds11' : 2.0,\n",
    "    'gamma_priors0' : priors[0],\n",
    "    'gamma_priors1' : priors[1],\n",
    "    'noise' : 1e-2,\n",
    "    'lenght_scales0' : 10.,\n",
    "    'lenght_scales1' : 1.,\n",
    "    'xi' : 2e-4,\n",
    "    'n_calls' : 10,\n",
    "    'n_jobs' : 3,\n",
    "    'log' : True\n",
    "}\n",
    "pd.Series(pars).to_csv('inference/gbm/pars_pat'+label+'_nmin1.tsv', sep='\\t')\n",
    "pref = 'inference/gbm/results_'\n",
    "post = '_pat'+label+'_nmin1_1.tsv'\n",
    "\n",
    "# Values of M and n0\n",
    "n0s = np.logspace(np.log10(5), 3, 10)\n",
    "M_tots = np.logspace(5.5, 9, 12, dtype=int)\n",
    "R = 1\n",
    "lls = np.zeros((len(n0s), len(M_tots), R)) \n",
    "taus = np.zeros((len(n0s), len(M_tots), R))\n",
    "thetas = np.zeros((len(n0s), len(M_tots), R))"
   ]
  },
  {
   "cell_type": "code",
   "execution_count": 9,
   "id": "ce82b871-be7d-462e-9541-e9f917b0335a",
   "metadata": {},
   "outputs": [
    {
     "data": {
      "application/vnd.jupyter.widget-view+json": {
       "model_id": "8e4c52d49b234709af77fa7d7ce1a9bc",
       "version_major": 2,
       "version_minor": 0
      },
      "text/plain": [
       "  0%|          | 0/4 [00:00<?, ?it/s]"
      ]
     },
     "metadata": {},
     "output_type": "display_data"
    }
   ],
   "source": [
    "progress = tqdm(total=len(n0s)*len(M_tots)*R)\n",
    "for i, n0 in enumerate(n0s):\n",
    "    for j, M_tot in enumerate(M_tots):\n",
    "        for k in range(R):\n",
    "            prs = [pars['gamma_priors0'], pars['gamma_priors1']]\n",
    "            infer_pars = gbm.gbm_infer_pars(dtimes, M_tot, n0, 1, pars['n_eval'], prs)\n",
    "            bounds = [(pars['bounds00'], pars['bounds01']), (pars['bounds10'], pars['bounds11'])]\n",
    "            ls = [pars['lenght_scales0'], pars['lenght_scales1']]\n",
    "            res = gbm.learn_gbm_gp(sp_counts, infer_pars, bounds=bounds, n_calls=pars['n_calls'], \\\n",
    "                                   noise=pars['noise'], lenght_scales=ls, xi=pars['xi'], n_jobs=pars['n_jobs'])\n",
    "            lls[i,j,k] = -res.fun\n",
    "            taus[i,j,k] = res.x[0]\n",
    "            thetas[i,j,k] = res.x[1]*res.x[0] / 2.0\n",
    "            progress.update(1)\n",
    "            \n",
    "# Saving the results\n",
    "frame_ll = dtu.update_result_frame(pd.DataFrame(), np.log10(n0s), np.log10(M_tots), lls)\n",
    "frame_tau = dtu.update_result_frame(pd.DataFrame(), np.log10(n0s), np.log10(M_tots), taus)\n",
    "frame_theta = dtu.update_result_frame(pd.DataFrame(), np.log10(n0s), np.log10(M_tots), thetas)\n",
    "frame_ll.to_csv(pref + 'll' + post, sep='\\t')\n",
    "frame_tau.to_csv(pref + 'tau' + post, sep='\\t')\n",
    "frame_theta.to_csv(pref + 'theta' + post, sep='\\t')"
   ]
  },
  {
   "cell_type": "code",
   "execution_count": 11,
   "id": "8e7f80d1-64cf-47e0-98b2-8a69afca162f",
   "metadata": {},
   "outputs": [],
   "source": [
    "# Reading the results and parameters\n",
    "frame_ll = pd.read_csv(pref + 'll' + post, sep='\\t', index_col=0)\n",
    "frame_tau = pd.read_csv(pref + 'tau' + post, sep='\\t', index_col=0)\n",
    "frame_theta = pd.read_csv(pref + 'theta' + post, sep='\\t', index_col=0)\n",
    "pars = pd.read_csv('inference/gbm/pars_pat'+label+'_nmin1.tsv', sep='\\t', index_col=0).to_dict()['0']"
   ]
  },
  {
   "cell_type": "code",
   "execution_count": 12,
   "id": "f6c68f34-a82a-4e22-824d-8bd13f3c9ad0",
   "metadata": {},
   "outputs": [],
   "source": [
    "count_ll, mean_ll, std_ll, x, y = dtu.read_result_frame(frame_ll)\n",
    "count_tau, mean_tau, std_tau, x, y = dtu.read_result_frame(frame_tau)\n",
    "count_theta, mean_theta, std_theta, x, y = dtu.read_result_frame(frame_theta)"
   ]
  },
  {
   "cell_type": "code",
   "execution_count": 13,
   "id": "d87f162f-985d-4af5-8ed5-830affcfa888",
   "metadata": {},
   "outputs": [
    {
     "data": {
      "image/png": "[encoded data removed]",
      "text/plain": [
       "<Figure size 936x252 with 6 Axes>"
      ]
     },
     "metadata": {
      "needs_background": "light"
     },
     "output_type": "display_data"
    }
   ],
   "source": [
    "fig, (ax1, ax2, ax3) = plt.subplots(1, 3, figsize=(13,3.5))\n",
    "\n",
    "ax1.set_title('Loglike', fontsize=12)\n",
    "gbm.plot_heatmap(ax1, mean_ll, x, y, np.max(mean_ll) - 0.05, np.max(mean_ll), laby='log10 n0', labx='log10 N tot')\n",
    "\n",
    "ax2.set_title('Tau', fontsize=12)\n",
    "gbm.plot_heatmap(ax2, mean_tau, x, y, 1, 30, laby='', labx='log10 N tot')\n",
    "\n",
    "ax3.set_title('Theta', fontsize=12)\n",
    "gbm.plot_heatmap(ax3, mean_theta, x, y, 1, 20, laby='', labx='log10 N tot')\n",
    "\n",
    "plt.tight_layout()\n",
    "#plt.savefig('plots/gbm/ll_at_Mtot_n0_pat'+label+'_nmin1.svg')"
   ]
  },
  {
   "cell_type": "markdown",
   "id": "272b1bc0-702a-4e5c-897f-3f23129e0512",
   "metadata": {},
   "source": [
    "### Fitting the ridge of maximum lileihood"
   ]
  },
  {
   "cell_type": "code",
   "execution_count": 14,
   "id": "6bd8a57c-0146-4306-b24e-ea0f13f8c01c",
   "metadata": {},
   "outputs": [
    {
     "name": "stdout",
     "output_type": "stream",
     "text": [
      "[ 1.25825832 -8.67507257] [-6.515]\n"
     ]
    },
    {
     "data": {
      "text/plain": [
       "<matplotlib.legend.Legend at 0x70291d2a2640>"
      ]
     },
     "execution_count": 14,
     "metadata": {},
     "output_type": "execute_result"
    },
    {
     "data": {
      "image/png": "[encoded data removed]",
      "text/plain": [
       "<Figure size 432x288 with 1 Axes>"
      ]
     },
     "metadata": {
      "needs_background": "light"
     },
     "output_type": "display_data"
    }
   ],
   "source": [
    "from scipy.optimize import curve_fit\n",
    "\n",
    "def lin(x, a, b):\n",
    "    return a * x + b\n",
    "\n",
    "def lin_1(x, b):\n",
    "    return x + b\n",
    "\n",
    "M_tot_max = x[np.argmax(mean_ll, axis=1)]\n",
    "max_n0_i = len(y) - 0\n",
    "par_fit, cov = curve_fit(lin, M_tot_max[:max_n0_i], y[:max_n0_i])\n",
    "par_fit_1, cov1 = curve_fit(lin_1, M_tot_max[:max_n0_i], y[:max_n0_i])\n",
    "print(par_fit, par_fit_1)\n",
    "\n",
    "plt.xlabel('log10 Mtot')\n",
    "plt.ylabel('log10 n0')\n",
    "plt.plot(M_tot_max[:max_n0_i], y[:max_n0_i], label='inference')\n",
    "y_fit = lin(M_tot_max, par_fit[0], par_fit[1])\n",
    "plt.plot(M_tot_max, y_fit, label='fit lin')\n",
    "y_fit = lin_1(M_tot_max, par_fit_1[0])\n",
    "\n",
    "ratio = 10**(-par_fit_1[0])\n",
    "plt.plot(M_tot_max, y_fit, label='fit lin coef1')\n",
    "plt.legend()"
   ]
  },
  {
   "cell_type": "markdown",
   "id": "541a9ff0-e395-4bad-ae78-6215ab978a39",
   "metadata": {},
   "source": [
    "### Writing the parameters related to the ridge and not tau and alpha\n",
    "\n",
    "Below we show that tau cannot be learned, but we can only find a lower boundary"
   ]
  },
  {
   "cell_type": "code",
   "execution_count": null,
   "id": "ecae3710-dd55-4e05-ae88-2eb314d337b9",
   "metadata": {},
   "outputs": [],
   "source": [
    "def write_on_file(path):\n",
    "    f = open(path, 'w')\n",
    "    f.write('n_points:\\t' + str(pars['n_eval']) + str('\\n'))\n",
    "    f.write('logM_logn0_slope:\\t' + str(par_fit[0]) + str('\\n'))\n",
    "    f.write('logM_logn0_offset:\\t' + str(par_fit[1]) + str('\\n'))\n",
    "    f.write('logM_logn0_offset_slope1:\\t' + str(par_fit_1[0]) + str('\\n'))\n",
    "    f.write('plateau_rank:\\t' + str(rank_plateau) + str('\\n'))\n",
    "    m_ll = mean_ll.flatten()[np.argsort(mean_ll.flatten())[::-1][:rank_plateau]].mean()\n",
    "    #f.write('mean_ll:\\t' + str(m_ll) + str('\\n'))\n",
    "    #f.write('tau:\\t' + str(av_taus_at_ll_rank[rank_plateau]) + str('\\n'))\n",
    "    #f.write('theta:\\t' + str(av_theta_at_ll_rank[rank_plateau]) + str('\\n'))\n",
    "    #f.write('tau_err:\\t' + str(std_taus_at_ll_rank[rank_plateau]) + str('\\n'))\n",
    "    #f.write('theta_err:\\t' + str(std_theta_at_ll_rank[rank_plateau]) + str('\\n'))\n",
    "    #f.write('birth_rate:\\t' + str(birth_rate) + str('\\n'))\n",
    "    f.write('n0:\\t' + str(10**(11 + par_fit_1[0])) + str('\\n'))\n",
    "    f.close()\n",
    "    \n",
    "write_on_file('inference/gbm/pat'+label+'_nmin1.txt')"
   ]
  },
  {
   "cell_type": "markdown",
   "id": "39ec26aa-2df0-4035-8be8-640dc4a83e1e",
   "metadata": {},
   "source": [
    "### Checking the log-likelihood shape at best alpha varying tau\n",
    "\n",
    "We'll find that after a given value, the likelihood stays flat.\n",
    "This fixes a lower bound for tau but not a single best value.\n",
    "Differently, for all the range of flat tau, alpha is constant, giving us a precise value."
   ]
  },
  {
   "cell_type": "code",
   "execution_count": 15,
   "id": "7951158a-38a7-4dc5-a3c9-83b745a9d031",
   "metadata": {},
   "outputs": [
    {
     "name": "stdout",
     "output_type": "stream",
     "text": [
      "24.60333456043409\n"
     ]
    }
   ],
   "source": [
    "# Finding the value of n0 by assuming M total memory cells\n",
    "pars = dtu.read_pars('inference/gbm/pat'+label+'_nmin1.txt')\n",
    "M_tot = 10**8\n",
    "n0 = 10**(lin(np.log10(M_tot), pars['logM_logn0_slope'], pars['logM_logn0_offset']))\n",
    "print(n0)"
   ]
  },
  {
   "cell_type": "code",
   "execution_count": null,
   "id": "63a4913f-f3b9-44ef-b201-edc222f37350",
   "metadata": {},
   "outputs": [],
   "source": [
    "infer_pars = gbm.gbm_infer_pars(dtimes, M_tot, n0, 1, 3*10**5, priors, a_negbin)\n",
    "taus = np.logspace(0, 2, 40)\n",
    "\n",
    "lls, alphas = np.zeros(len(taus)), np.zeros(len(taus))\n",
    "progress = tqdm(total=len(taus))\n",
    "for i, t in enumerate(taus):\n",
    "    # Inference of the best alpha at fixed tau\n",
    "    res = gbm.learn_gbm_gp_alpha(sp_counts, t, infer_pars, n_calls=50, bounds=[(0.8, 2.0)], n_jobs=4)\n",
    "    lls[i] = -res.fun\n",
    "    alphas[i] = res.x[0]\n",
    "    progress.update(1)\n",
    "    \n",
    "# Writing the results\n",
    "path = 'inference/gbm/ll_vs_tau_pat'+label+'_nmin1.tsv'\n",
    "pd.DataFrame(np.array([taus, lls, alphas]).T, columns=['tau', 'loglike', 'best_alpha']).to_csv(path, sep='\\t')"
   ]
  },
  {
   "cell_type": "code",
   "execution_count": 16,
   "id": "18eaf3d5-f520-46a9-a917-da5913782526",
   "metadata": {},
   "outputs": [],
   "source": [
    "path = 'inference/gbm/ll_vs_tau_pat'+label+'_nmin1.tsv'\n",
    "fr = pd.read_csv(path, sep='\\t', index_col=0)"
   ]
  },
  {
   "cell_type": "code",
   "execution_count": 19,
   "id": "e61a1350-eab6-41c5-9c8a-40c483823da1",
   "metadata": {},
   "outputs": [
    {
     "data": {
      "text/plain": [
       "array([ 0.0427928 ,  0.79045649,  1.40742427, 24.99998786])"
      ]
     },
     "execution_count": 19,
     "metadata": {},
     "output_type": "execute_result"
    }
   ],
   "source": [
    "def piecewise_exp_const_vec(xs, a_exp, b_exp, c_const, x_th):\n",
    "    f_exp = a_exp * (np.exp(-b_exp * xs) - np.exp(-b_exp * x_th)) + c_const\n",
    "    return np.where(xs < x_th, f_exp, c_const)\n",
    "    \n",
    "p_fit, cov = curve_fit(piecewise_exp_const_vec, fr.tau, -fr.loglike, bounds=[(0.005, 0.1, 1.3, 3), (0.05, 2, 1.6, 25)])\n",
    "p_fit"
   ]
  },
  {
   "cell_type": "code",
   "execution_count": 20,
   "id": "efe4b3b0-52d1-451f-ae7f-fa1bc09267f3",
   "metadata": {},
   "outputs": [
    {
     "data": {
      "image/png": "[encoded data removed]",
      "text/plain": [
       "<Figure size 252x432 with 2 Axes>"
      ]
     },
     "metadata": {
      "needs_background": "light"
     },
     "output_type": "display_data"
    }
   ],
   "source": [
    "fig, (ax1, ax2) = plt.subplots(2,1,figsize=(3.5,6))\n",
    "\n",
    "xs, ys = fr.tau.values, -fr.loglike.values\n",
    "std_const = np.std(ys[xs > p_fit[3]])\n",
    "x_bound = - np.log(std_const / p_fit[0] + np.exp(-p_fit[1] * p_fit[3])) / p_fit[1]\n",
    "\n",
    "ax1.set_title('tau bound: %3.2f'%x_bound)\n",
    "ax1.set_xlabel('tau', fontsize=12)\n",
    "ax1.set_ylabel(r'-loglike at best $\\alpha$', fontsize=12)\n",
    "ax1.set_xscale('log')\n",
    "\n",
    "ax1.scatter(xs, -ys)\n",
    "ax1.plot(xs, -piecewise_exp_const_vec(xs, p_fit[0], p_fit[1], p_fit[2], p_fit[3]), c='k', ls='--', lw=2)\n",
    "y_const = np.ones(len(xs))*p_fit[2]\n",
    "ax1.fill_between(xs, -y_const-std_const, -y_const+std_const, color='k', alpha=0.2)\n",
    "ax1.plot([x_bound, x_bound], [-min(ys), -max(ys)], color='k')\n",
    "\n",
    "\n",
    "alphs = fr.best_alpha.values\n",
    "av_alpha = np.mean(alphs[xs > x_bound])\n",
    "std_alpha = np.std(alphs[xs > x_bound])\n",
    "xs_aux = np.array([x_bound, xs[-1]])\n",
    "ys_aux = np.array([av_alpha, av_alpha])\n",
    "\n",
    "ax2.set_title(r'$\\alpha = $ %3.2f $\\pm$ %3.2f'%(av_alpha, std_alpha))\n",
    "ax2.set_xscale('log')\n",
    "ax2.set_xlabel('tau', fontsize=12)\n",
    "ax2.set_ylabel(r'best $\\alpha$', fontsize=12)\n",
    "\n",
    "ax2.scatter(xs, alphs)\n",
    "ax2.plot(xs_aux, ys_aux, c='k', ls='--', lw=2)\n",
    "ax2.fill_between(xs_aux, ys_aux-std_alpha, ys_aux+std_alpha, color='k', alpha=0.2)\n",
    "ax2.plot([x_bound, x_bound], [min(alphs), max(alphs)], color='k')\n",
    "\n",
    "plt.tight_layout()\n",
    "#plt.savefig('plots/gbm/ll_at_best_alpha_pat' + label + '.svg')"
   ]
  },
  {
   "cell_type": "markdown",
   "id": "11440247-4410-419d-b427-7f4d45ae24cd",
   "metadata": {},
   "source": [
    "### Updating the inference parameters with the lower boudare and alpha computed in the new way"
   ]
  },
  {
   "cell_type": "code",
   "execution_count": 31,
   "id": "dd913e24-50d6-4182-8bb0-b5b91aedf5c4",
   "metadata": {},
   "outputs": [],
   "source": [
    "pars['tau_low_bound'] = x_bound\n",
    "pars['average_alpha'] = av_alpha\n",
    "pars['std_alpha'] = std_alpha\n",
    "pars['birth_rate_bound'] = gbm.birth_rate(10**(-par_fit_1[0]), x_bound, av_alpha*x_bound/2.0)\n",
    "pars['N'] = (av_alpha - 1) / av_alpha * ratio * np.log(pars['n0'])\n",
    "pd.Series(pars).to_csv('inference/gbm/pat'+label+'_nmin1_2.txt', sep='\\t', header=None)"
   ]
  },
  {
   "cell_type": "code",
   "execution_count": null,
   "id": "83024a57-1a1b-41f2-8d86-3f0a9e267947",
   "metadata": {},
   "outputs": [],
   "source": []
  }
 ],
 "metadata": {
  "kernelspec": {
   "display_name": "Python 3",
   "language": "python",
   "name": "python3"
  },
  "language_info": {
   "codemirror_mode": {
    "name": "ipython",
    "version": 3
   },
   "file_extension": ".py",
   "mimetype": "text/x-python",
   "name": "python",
   "nbconvert_exporter": "python",
   "pygments_lexer": "ipython3",
   "version": "3.8.8"
  }
 },
 "nbformat": 4,
 "nbformat_minor": 5
}
