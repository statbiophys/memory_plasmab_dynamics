{
 "cells": [
  {
   "cell_type": "code",
   "execution_count": null,
   "id": "2d189529-2a13-41f1-a960-3ae11de80100",
   "metadata": {},
   "outputs": [],
   "source": [
    "import numpy as np\n",
    "import pandas as pd\n",
    "import matplotlib.pyplot as plt"
   ]
  },
  {
   "cell_type": "markdown",
   "id": "08c86c45-02fc-4f52-9638-b755b230dcf6",
   "metadata": {},
   "source": [
    "Map back the families of aggregated sequences for patient to each original sample"
   ]
  },
  {
   "cell_type": "code",
   "execution_count": 2,
   "id": "0700451d-a7fb-456c-9896-75a68f24b4b0",
   "metadata": {},
   "outputs": [],
   "source": [
    "metadata = pd.read_csv('metadata/metadata.tsv', sep='\\t', index_col=0)\n",
    "patients = set(metadata.patient)\n",
    "prefix = 'lineages/hilary_out/inferred_full_method_'"
   ]
  },
  {
   "cell_type": "code",
   "execution_count": 8,
   "id": "e4d085b5-08ba-47f3-9f08-82950da3252d",
   "metadata": {},
   "outputs": [
    {
     "name": "stdout",
     "output_type": "stream",
     "text": [
      "AT_t1_mem\n",
      "AT_t1_pb\n",
      "AT_t2_mem\n",
      "AT_t2_pb\n",
      "AT_t3_mem\n",
      "AT_t3_pb\n",
      "AT\n",
      "MRK_t1_mem\n",
      "MRK_t1_pb\n",
      "MRK_t2_mem\n",
      "MRK_t2_pb\n",
      "MRK_t3_mem\n",
      "MRK_t3_pb\n",
      "MRK\n",
      "D01_t2_mem\n",
      "D01_t2_pb\n",
      "D01_t3_mem\n",
      "D01_t3_pb\n",
      "D01\n",
      "IZ_t1_mem\n",
      "IZ_t1_pb\n",
      "IZ_t2_mem\n",
      "IZ_t2_pb\n",
      "IZ_t3_mem\n",
      "IZ_t3_pb\n",
      "IZ\n",
      "MT_t3_mem\n",
      "MT_t3_pb\n",
      "MT\n",
      "IM_t1_mem\n",
      "IM_t1_pb\n",
      "IM_t2_mem\n",
      "IM_t2_pb\n",
      "IM_t3_mem\n",
      "IM_t3_pb\n",
      "IM\n"
     ]
    }
   ],
   "source": [
    "for pat in patients:\n",
    "    \n",
    "    f_fam = pd.read_csv(prefix+pat+'.tsv', sep='\\t')\n",
    "    f_fam['old_id'] = f_fam['sequence_id'].str.split('_').str[0].astype(int)\n",
    "    \n",
    "    pat_ids = metadata[metadata.patient == pat].index\n",
    "    for _id in pat_ids:\n",
    "        print(_id)\n",
    "        if metadata.loc[_id].n_repls > 1:\n",
    "            samples = [_id + '_r' + str(r) for r in range(1, metadata.loc[_id].n_repls + 1)]\n",
    "            folder = \"sequences/replicates/\"\n",
    "            #folder_out = \"sequences2/replicates/\"\n",
    "        else:\n",
    "            samples = [_id]\n",
    "            folder = \"sequences/\"\n",
    "            #folder_out = \"sequences2/\"\n",
    "            \n",
    "        for sample in samples:\n",
    "            fr = pd.read_csv(folder + sample + '.tsv', sep='\\t')\n",
    "            sub_f_fam = f_fam[f_fam['sample'] == sample]\n",
    "            sub_f_fam.index = sub_f_fam['old_id']\n",
    "            fr['family'] = fr['sequence_id'].map(sub_f_fam['family'].to_dict())\n",
    "            fr.index = fr.sequence_id\n",
    "            to_remove = ['sequence_id']\n",
    "            for c in fr.columns:\n",
    "                if c[0] == 'U':\n",
    "                    to_remove.append(c)\n",
    "            fr = fr.drop(to_remove, axis=1)\n",
    "            fr.to_csv(folder + sample + '.tsv', sep='\\t')\n",
    "\n",
    "    print(pat)"
   ]
  },
  {
   "cell_type": "code",
   "execution_count": 10,
   "id": "c01b2dc0-b452-4266-b242-01a5786d3fe2",
   "metadata": {},
   "outputs": [
    {
     "name": "stdout",
     "output_type": "stream",
     "text": [
      "AT_t2_mem_r1 21327\n",
      "AT_t2_mem_r2 41068\n",
      "AT_t3_mem_r1 16879\n",
      "AT_t3_mem_r2 24555\n",
      "AT_t3_pb_r1 1561\n",
      "AT_t3_pb_r2 5566\n",
      "D01_t2_mem_r1 26214\n",
      "D01_t2_mem_r2 52647\n",
      "D01_t2_pb_r1 3642\n",
      "D01_t2_pb_r2 11577\n",
      "D01_t3_mem_r1 15876\n",
      "D01_t3_mem_r2 35825\n",
      "D01_t3_pb_r1 4118\n",
      "D01_t3_pb_r2 6726\n",
      "D01_t3_pb_r3 9192\n",
      "IM_t2_mem_r1 23768\n",
      "IM_t2_mem_r2 58309\n",
      "IM_t2_pb_r1 6145\n",
      "IM_t2_pb_r2 11367\n",
      "IM_t3_mem_r1 17535\n",
      "IM_t3_mem_r2 34230\n",
      "IM_t3_pb_r1 2722\n",
      "IM_t3_pb_r2 5516\n",
      "IZ_t2_mem_r1 28375\n",
      "IZ_t2_mem_r2 59877\n",
      "IZ_t2_pb_r1 2003\n",
      "IZ_t2_pb_r2 7424\n",
      "IZ_t3_mem_r1 30780\n",
      "IZ_t3_mem_r2 63649\n",
      "IZ_t3_pb_r1 3933\n",
      "IZ_t3_pb_r2 8728\n",
      "MRK_t2_mem_r1 31767\n",
      "MRK_t2_mem_r2 52872\n",
      "MRK_t2_pb_r1 5149\n",
      "MRK_t2_pb_r2 8116\n",
      "MRK_t2_pb_r3 13118\n",
      "MRK_t3_mem_r1 1405\n",
      "MRK_t3_mem_r2 3547\n",
      "MRK_t3_pb_r1 157\n",
      "MRK_t3_pb_r2 279\n",
      "MT_t3_mem_r1 17242\n",
      "MT_t3_mem_r2 35236\n",
      "MT_t3_pb_r1 2084\n",
      "MT_t3_pb_r2 4012\n"
     ]
    }
   ],
   "source": [
    "for _id, row in metadata.iterrows():\n",
    "\n",
    "    if row.n_repls > 1:\n",
    "        \n",
    "        merged_fr = pd.DataFrame()\n",
    "        for ir in range(1, metadata.loc[_id].n_repls + 1):\n",
    "            fr = pd.read_csv('sequences/replicates/' + _id + '_r' + str(ir) + '.tsv', sep='\\t', index_col='sequence_id')\n",
    "            merged_fr = pd.concat((merged_fr, fr))\n",
    "            print(_id + '_r' + str(ir), len(merged_fr))\n",
    "\n",
    "        to_remove = []\n",
    "        for c in merged_fr.columns:\n",
    "            if c[0] == 'U':\n",
    "                to_remove.append(c)\n",
    "        merged_fr = merged_fr.drop(to_remove, axis=1)\n",
    "        merged_fr.to_csv('sequences/' + _id + '.tsv', sep='\\t')"
   ]
  },
  {
   "cell_type": "code",
   "execution_count": null,
   "id": "ba689f29-94d0-4a19-9ebc-a56d9c49a2fe",
   "metadata": {},
   "outputs": [],
   "source": []
  }
 ],
 "metadata": {
  "kernelspec": {
   "display_name": "Python 3",
   "language": "python",
   "name": "python3"
  },
  "language_info": {
   "codemirror_mode": {
    "name": "ipython",
    "version": 3
   },
   "file_extension": ".py",
   "mimetype": "text/x-python",
   "name": "python",
   "nbconvert_exporter": "python",
   "pygments_lexer": "ipython3",
   "version": "3.8.8"
  }
 },
 "nbformat": 4,
 "nbformat_minor": 5
}
