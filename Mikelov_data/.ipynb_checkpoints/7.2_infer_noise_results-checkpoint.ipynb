{
 "cells": [
  {
   "cell_type": "code",
   "execution_count": 1,
   "id": "fefa4999-5c81-4ecb-a417-356b16de9f4b",
   "metadata": {},
   "outputs": [],
   "source": [
    "import numpy as np\n",
    "import matplotlib.pyplot as plt\n",
    "import pandas as pd\n",
    "\n",
    "import sys\n",
    "sys.path.insert(0, \"../func_py/\")\n",
    "sys.path.insert(0, \"../func_build/\")\n",
    "import like_func as lf\n",
    "import data_utils as dt"
   ]
  },
  {
   "cell_type": "code",
   "execution_count": 2,
   "id": "63f83eb4-9ff7-4d4e-8c63-0b80b36bd6bc",
   "metadata": {},
   "outputs": [],
   "source": [
    "metadata = pd.read_csv('metadata/metadata.tsv', sep='\\t', index_col=0)\n",
    "metadata['name'] = metadata.index.str.split('_').str[0] + ' time ' + metadata.index.str.split('_').str[1].str[1]\n",
    "models = ['poisson', 'negbin', 'negbin_b']\n",
    "model_labels = ['poisson', 'negbin b=1', 'negbin']\n",
    "n_pars = [2, 3, 4]\n",
    "colors = ['blue', 'red', 'orange']\n",
    "markers = ['x', 'x', 'x']"
   ]
  },
  {
   "cell_type": "code",
   "execution_count": 12,
   "id": "029388a0-de97-4906-b754-8df43fbc365d",
   "metadata": {},
   "outputs": [],
   "source": [
    "cell = 'mem' # 'pb' for plasmablasts\n",
    "samp_to_exclude = {\"MRK_t3_mem\", \"MRK_t3_pb\"}"
   ]
  },
  {
   "cell_type": "code",
   "execution_count": 13,
   "id": "c7358e81-2150-4cea-8353-6d0129501004",
   "metadata": {},
   "outputs": [
    {
     "data": {
      "text/plain": [
       "array(['AT time 2', 'AT time 3', 'D01 time 2', 'D01 time 3', 'IM time 2',\n",
       "       'IM time 3', 'IZ time 2', 'IZ time 3', 'MRK time 2', 'MT time 3'],\n",
       "      dtype=object)"
      ]
     },
     "execution_count": 13,
     "metadata": {},
     "output_type": "execute_result"
    }
   ],
   "source": [
    "results = dict()\n",
    "aux = metadata[metadata.cell == cell]\n",
    "samples = set(aux[aux.n_repls > 1].index)\n",
    "samples = samples.difference(samp_to_exclude)\n",
    "for sample in samples:\n",
    "    result_samp = dict()\n",
    "    for model in models:\n",
    "        path = 'inference/noise/'+sample+'_'+model+'.txt'\n",
    "        result_samp[model] = dt.read_noise_result(path, model)\n",
    "    results[sample] = result_samp\n",
    "samples = sorted(list(samples))\n",
    "names = metadata.loc[samples].name.values\n",
    "names"
   ]
  },
  {
   "cell_type": "markdown",
   "id": "7286b22f-78d5-41ca-ac44-0fc7dbdcd9c4",
   "metadata": {},
   "source": [
    "### Inferred parameters across samples"
   ]
  },
  {
   "cell_type": "code",
   "execution_count": 14,
   "id": "59b185d0-cc5a-43ec-ad3f-3c252ba72ca9",
   "metadata": {},
   "outputs": [],
   "source": [
    "betas, fmins, ass, bss = [], [], [], []\n",
    "err_betas, err_fmins, err_ass, err_bss = [], [], [], []\n",
    "for model in models:\n",
    "    \n",
    "    beta_samp = [results[sample][model]['beta'] for sample in samples]\n",
    "    fmin_samp = [results[sample][model]['fmin'] for sample in samples]\n",
    "    betas.append(beta_samp)\n",
    "    fmins.append(fmin_samp)\n",
    "    err_beta_samp = [results[sample][model]['err_beta'] for sample in samples]\n",
    "    err_fmin_samp = [results[sample][model]['err_fmin'] for sample in samples]\n",
    "    err_betas.append(err_beta_samp)\n",
    "    err_fmins.append(err_fmin_samp)\n",
    "    \n",
    "    if model == 'negbin' or model == 'negbin_b':\n",
    "        ass_samp = [results[sample][model]['a'] for sample in samples]\n",
    "        ass.append(ass_samp)\n",
    "        err_ass_samp = [results[sample][model]['err_a'] for sample in samples]\n",
    "        err_ass.append(err_ass_samp)\n",
    "        \n",
    "    if model == 'negbin_b':\n",
    "        bss_samp = [results[sample][model]['b'] for sample in samples]\n",
    "        bss.append(bss_samp)\n",
    "        err_bss_samp = [results[sample][model]['err_b'] for sample in samples]\n",
    "        err_bss.append(err_bss_samp)"
   ]
  },
  {
   "cell_type": "code",
   "execution_count": 15,
   "id": "c8f8f235-351c-493f-855b-73b3411e7dd8",
   "metadata": {},
   "outputs": [
    {
     "data": {
      "image/png": "[encoded data removed]",
      "text/plain": [
       "<Figure size 360x252 with 4 Axes>"
      ]
     },
     "metadata": {
      "needs_background": "light"
     },
     "output_type": "display_data"
    }
   ],
   "source": [
    "fig, axs = plt.subplots(2,2,figsize=(5, 3.5))\n",
    "\n",
    "axs[1,0].set_xticks(ticks=np.arange(len(samples)))\n",
    "axs[1,1].set_xticks(ticks=np.arange(len(samples)))\n",
    "axs[0,0].set_xticklabels([])\n",
    "axs[0,1].set_xticklabels([])\n",
    "axs[1,0].set_xticklabels(labels=names, rotation='vertical')\n",
    "axs[1,1].set_xticklabels(labels=names, rotation='vertical')\n",
    "\n",
    "axs[0,0].set_ylabel(r'$\\alpha$ + 1', fontsize=12)\n",
    "axs[0,1].set_ylabel(r'$\\log_{10} f_{min}$', fontsize=12)\n",
    "#axs[0,0].set_ylim(0, 10)\n",
    "for i in range(len(betas)):\n",
    "    xs = np.arange(len(betas[0])) + 0.05 * (i - len(betas)/2)\n",
    "    axs[0,0].errorbar(xs, betas[i], yerr=err_betas[i], linestyle='none', c=colors[i])\n",
    "    axs[0,0].scatter(xs, betas[i], s=25, marker=markers[i], c=colors[i], label=model_labels[i])\n",
    "    axs[0,1].errorbar(xs, fmins[i], yerr=err_fmins[i], linestyle='none', c=colors[i])\n",
    "    axs[0,1].scatter(xs, fmins[i], s=25, marker=markers[i], c=colors[i], label=model_labels[i])\n",
    "#axs[0,0].legend()\n",
    "\n",
    "axs[1,0].set_ylabel(r'neg bin $a$', fontsize=12)\n",
    "#axs[1,0].set_ylim(0, 0.25)\n",
    "for i, mi in enumerate([1,2]):\n",
    "    xs = np.arange(len(ass[0])) + 0.05 * (i - len(ass)/2)\n",
    "    axs[1,0].scatter(xs, ass[i], s=25, marker=markers[i], c=colors[mi], label=model_labels[mi])\n",
    "    axs[1,0].errorbar(xs, ass[i], yerr=err_ass[i], linestyle='none', c=colors[mi])\n",
    "    \n",
    "axs[1,1].set_ylabel(r'neg bin $b$', fontsize=12)\n",
    "#axs[1,1].set_ylim(1, 1.15)\n",
    "for i, mi in enumerate([2]):\n",
    "    xs = np.arange(len(bss[0])) + 0.05 * (i - len(bss)/2)\n",
    "    axs[1,1].scatter(xs, bss[i], s=25, marker=markers[i], c=colors[mi], label=model_labels[mi])\n",
    "    axs[1,1].errorbar(xs, bss[i], yerr=err_bss[i], linestyle='none', c=colors[mi])\n",
    "    \n",
    "plt.tight_layout()\n",
    "#plt.savefig('plots/noise/params_'+cell+'.svg')"
   ]
  },
  {
   "cell_type": "markdown",
   "id": "511c599d-8751-4819-87a0-15b37c42720c",
   "metadata": {},
   "source": [
    "### BIC and likelihood"
   ]
  },
  {
   "cell_type": "code",
   "execution_count": 8,
   "id": "efc95dbb-917a-4d4b-9ffe-6ca14aeafdc6",
   "metadata": {},
   "outputs": [],
   "source": [
    "def BIC(n_pars, ll, n_samples):\n",
    "    return n_pars * np.log(n_samples) - 2*ll"
   ]
  },
  {
   "cell_type": "code",
   "execution_count": 9,
   "id": "31248017-1142-4c06-8d8c-e07a8aea7c1d",
   "metadata": {},
   "outputs": [],
   "source": [
    "lls, bics = [], []\n",
    "for i, sample in enumerate(samples):\n",
    "    R = metadata.loc[sample].n_repls\n",
    "    n_uni, n_count = dt.import_sample_counts(sample, R, 'family', 'count')\n",
    "    n_samples = np.sum(n_count)\n",
    "    ll_aux, bic_aux = [], []\n",
    "    for j, model  in enumerate(models):\n",
    "        ll_aux.append(results[sample][model]['ll'])\n",
    "        bic_aux.append(BIC(n_pars[j], ll_aux[-1] * n_samples, n_samples) / n_samples)\n",
    "    lls.append(ll_aux)\n",
    "    bics.append(bic_aux)"
   ]
  },
  {
   "cell_type": "code",
   "execution_count": 10,
   "id": "22cefd58-afdf-48d9-9fc4-828407e567f1",
   "metadata": {},
   "outputs": [
    {
     "data": {
      "image/png": "[encoded data removed]",
      "text/plain": [
       "<Figure size 453.6x324 with 18 Axes>"
      ]
     },
     "metadata": {
      "needs_background": "light"
     },
     "output_type": "display_data"
    }
   ],
   "source": [
    "fig, axs = plt.subplots(2,len(samples),figsize=(len(samples)*0.7, 4.5))\n",
    "\n",
    "axs[0,0].set_ylabel('log likelihood / N', fontsize=12)\n",
    "axs[1,0].set_ylabel('BIC / N', fontsize=12)\n",
    "\n",
    "spacing = 0.2\n",
    "for i, sample in enumerate(samples):\n",
    "    axs[0,i].set_title(names[i], fontsize=10)\n",
    "    axs[0,i].set_xticklabels([])\n",
    "    axs[0,i].set_xticks([])\n",
    "    axs[0,i].set_xlim(-0.3, 2.3)\n",
    "    axs[0,i].set_ylim(np.min(lls)-spacing, np.max(lls)+spacing)\n",
    "    axs[1,i].set_xticks(ticks=np.arange(len(models)))\n",
    "    axs[1,i].set_xticklabels(labels=model_labels, rotation='vertical')\n",
    "    axs[1,i].set_xlim(-0.3, 2.3)\n",
    "    axs[1,i].set_ylim(np.min(bics)-spacing, np.max(bics)+spacing)\n",
    "    if i > 0:\n",
    "        axs[0,i].set_yticklabels([])\n",
    "        axs[1,i].set_yticklabels([])\n",
    "        \n",
    "    for j in range(len(models)):\n",
    "        axs[0,i].scatter(np.arange(len(models))[j], lls[i][j], color=colors[j])\n",
    "        axs[1,i].scatter(np.arange(len(models))[j], bics[i][j], color=colors[j])\n",
    "    \n",
    "plt.tight_layout()\n",
    "#plt.savefig('plots/noise/BIC_'+cell+'.svg')"
   ]
  },
  {
   "cell_type": "code",
   "execution_count": null,
   "id": "099de1fc-778f-4c0a-9336-3c906e54253f",
   "metadata": {},
   "outputs": [],
   "source": []
  }
 ],
 "metadata": {
  "kernelspec": {
   "display_name": "Python 3",
   "language": "python",
   "name": "python3"
  },
  "language_info": {
   "codemirror_mode": {
    "name": "ipython",
    "version": 3
   },
   "file_extension": ".py",
   "mimetype": "text/x-python",
   "name": "python",
   "nbconvert_exporter": "python",
   "pygments_lexer": "ipython3",
   "version": "3.8.8"
  }
 },
 "nbformat": 4,
 "nbformat_minor": 5
}
