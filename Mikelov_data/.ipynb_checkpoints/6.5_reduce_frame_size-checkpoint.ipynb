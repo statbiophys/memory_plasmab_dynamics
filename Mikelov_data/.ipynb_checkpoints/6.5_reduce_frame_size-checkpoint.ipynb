{
 "cells": [
  {
   "cell_type": "code",
   "execution_count": 5,
   "id": "a5f14886-94c7-44c5-b234-e252a05c1372",
   "metadata": {},
   "outputs": [],
   "source": [
    "import numpy as np\n",
    "import pandas as pd\n",
    "from os import listdir"
   ]
  },
  {
   "cell_type": "markdown",
   "id": "10266d86-be8a-4a5a-a296-e89d7a02e696",
   "metadata": {},
   "source": [
    "### Data processing to obtain smaller sizes for the datasets in order to upload them in git"
   ]
  },
  {
   "cell_type": "code",
   "execution_count": 6,
   "id": "7d3d8df9-bef3-48c7-95b1-defe203d3d32",
   "metadata": {},
   "outputs": [],
   "source": [
    "fields = ['v_call', 'j_call', 'c_call', 'junction', 'family']"
   ]
  },
  {
   "cell_type": "code",
   "execution_count": 7,
   "id": "6e897b8f-4cf3-4f55-afe8-c536418040b1",
   "metadata": {},
   "outputs": [
    {
     "name": "stdout",
     "output_type": "stream",
     "text": [
      "D01_t3_pb.tsv\n",
      "D01_t3_mem.tsv\n",
      "IM_t3_pb.tsv\n",
      "MRK_t3_pb.tsv\n",
      "MT_t3_pb.tsv\n",
      "D01_t2_pb.tsv\n",
      "IM_t3_mem.tsv\n",
      "AT_t1_mem.tsv\n",
      "IZ_t3_pb.tsv\n",
      "IM_t2_mem.tsv\n",
      "D01_t2_mem.tsv\n",
      "IM_t1_mem.tsv\n",
      "IM_t2_pb.tsv\n",
      "AT_t3_pb.tsv\n",
      "IM_t1_pb.tsv\n",
      "MRK_t1_pb.tsv\n",
      "AT_t2_mem.tsv\n",
      "MRK_t2_mem.tsv\n",
      "MRK_t1_mem.tsv\n",
      "IZ_t1_pb.tsv\n",
      "MT_t3_mem.tsv\n",
      "AT_t1_pb.tsv\n",
      "IZ_t2_pb.tsv\n",
      "IZ_t2_mem.tsv\n",
      "IZ_t1_mem.tsv\n",
      "AT_t2_pb.tsv\n",
      "MRK_t2_pb.tsv\n",
      "IZ_t3_mem.tsv\n",
      "AT_t3_mem.tsv\n",
      "MRK_t3_mem.tsv\n"
     ]
    }
   ],
   "source": [
    "for f_name in listdir('sequences/'):\n",
    "    if f_name[-4:] == '.tsv':\n",
    "        print(f_name)\n",
    "        fr = pd.read_csv('sequences/' + f_name, sep='\\t', index_col='sequence_id')\n",
    "        fr[fields].to_csv('sequences/' + f_name, sep='\\t')"
   ]
  },
  {
   "cell_type": "code",
   "execution_count": 8,
   "id": "90d77940-7de5-41ae-ab13-38ae481a047c",
   "metadata": {},
   "outputs": [
    {
     "name": "stdout",
     "output_type": "stream",
     "text": [
      "D01_t3_pb_r1.tsv\n",
      "AT_t3_pb_r2.tsv\n",
      "IZ_t2_mem_r2.tsv\n",
      "MRK_t1_pb_r1.tsv\n",
      "AT_t3_pb_r1.tsv\n",
      "IZ_t2_pb_r1.tsv\n",
      "AT_t3_mem_r1.tsv\n",
      "IZ_t3_mem_r1.tsv\n",
      "D01_t2_pb_r2.tsv\n",
      "MRK_t3_pb_r2.tsv\n",
      "IM_t3_pb_r2.tsv\n",
      "IM_t3_mem_r1.tsv\n",
      "MRK_t1_mem_r1.tsv\n",
      "MRK_t3_mem_r2.tsv\n",
      "D01_t3_pb_r2.tsv\n",
      "D01_t2_mem_r1.tsv\n",
      "D01_t3_mem_r1.tsv\n",
      "MRK_t2_pb_r3.tsv\n",
      "IZ_t1_pb_r1.tsv\n",
      "IZ_t3_pb_r1.tsv\n",
      "D01_t3_pb_r3.tsv\n",
      "MRK_t2_pb_r1.tsv\n",
      "MRK_t2_pb_r2.tsv\n",
      "D01_t2_pb_r1.tsv\n",
      "IZ_t3_pb_r2.tsv\n",
      "MT_t3_pb_r1.tsv\n",
      "IM_t3_pb_r1.tsv\n",
      "IM_t3_mem_r2.tsv\n",
      "MRK_t2_mem_r2.tsv\n",
      "IZ_t3_mem_r2.tsv\n",
      "AT_t3_mem_r2.tsv\n",
      "AT_t2_pb_r1.tsv\n",
      "D01_t2_mem_r2.tsv\n",
      "AT_t2_mem_r1.tsv\n",
      "IM_t1_mem_r1.tsv\n",
      "D01_t3_mem_r2.tsv\n",
      "AT_t2_mem_r2.tsv\n",
      "AT_t1_mem_r1.tsv\n",
      "MRK_t3_mem_r1.tsv\n",
      "IZ_t2_pb_r2.tsv\n",
      "MT_t3_mem_r2.tsv\n",
      "MRK_t2_mem_r1.tsv\n",
      "MT_t3_mem_r1.tsv\n",
      "IM_t1_pb_r1.tsv\n",
      "MRK_t3_pb_r1.tsv\n",
      "IM_t2_pb_r2.tsv\n",
      "IZ_t2_mem_r1.tsv\n",
      "IM_t2_mem_r1.tsv\n",
      "IM_t2_pb_r1.tsv\n",
      "MT_t3_pb_r2.tsv\n",
      "IM_t2_mem_r2.tsv\n",
      "AT_t1_pb_r1.tsv\n",
      "IZ_t1_mem_r1.tsv\n"
     ]
    }
   ],
   "source": [
    "for f_name in listdir('sequences/replicates/'):\n",
    "    if f_name[-4:] == '.tsv':\n",
    "        print(f_name)\n",
    "        fr = pd.read_csv('sequences/replicates/' + f_name, sep='\\t', index_col='sequence_id')\n",
    "        if 'family' not in fr.columns:\n",
    "            fr[fields[:-1]].to_csv('sequences/replicates/' + f_name, sep='\\t')\n",
    "        else:\n",
    "            fr[fields].to_csv('sequences/replicates/' + f_name, sep='\\t')"
   ]
  },
  {
   "cell_type": "code",
   "execution_count": null,
   "id": "85b171ed-0933-4f77-9b45-5a78407fb8b1",
   "metadata": {},
   "outputs": [],
   "source": []
  }
 ],
 "metadata": {
  "kernelspec": {
   "display_name": "Python 3",
   "language": "python",
   "name": "python3"
  },
  "language_info": {
   "codemirror_mode": {
    "name": "ipython",
    "version": 3
   },
   "file_extension": ".py",
   "mimetype": "text/x-python",
   "name": "python",
   "nbconvert_exporter": "python",
   "pygments_lexer": "ipython3",
   "version": "3.8.8"
  }
 },
 "nbformat": 4,
 "nbformat_minor": 5
}
