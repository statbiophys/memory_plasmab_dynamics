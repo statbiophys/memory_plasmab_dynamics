{
 "cells": [
  {
   "cell_type": "code",
   "execution_count": 1,
   "id": "2516c9e1-f5b7-4b20-b78d-110c0040b280",
   "metadata": {},
   "outputs": [],
   "source": [
    "import numpy as np\n",
    "import matplotlib.pyplot as plt\n",
    "import pandas as pd\n",
    "from tqdm.notebook import tqdm\n",
    "\n",
    "import sys\n",
    "sys.path.insert(0, \"../func_py/\")\n",
    "import data_utils as dtu\n",
    "import infer_memplasm as mp"
   ]
  },
  {
   "cell_type": "markdown",
   "id": "667b0354-aa92-4ac5-bda7-e5c4217a3695",
   "metadata": {},
   "source": [
    "### Choose the patient by setting the string in the first line\n",
    "Allowed patients: AT, IM, IZ"
   ]
  },
  {
   "cell_type": "code",
   "execution_count": 2,
   "id": "3c487da9-7c81-4e4b-9692-b3f0c2e6ae88",
   "metadata": {},
   "outputs": [
    {
     "name": "stdout",
     "output_type": "stream",
     "text": [
      "count label not found, setting the counts to 1\n",
      "count label not found, setting the counts to 1\n",
      "count label not found, setting the counts to 1\n",
      "count label not found, setting the counts to 1\n",
      "count label not found, setting the counts to 1\n",
      "count label not found, setting the counts to 1\n",
      "one or more samples do not have a lerned model, the parameter is set as the average of the others\n",
      "one or more samples do not have a lerned model, the parameter is set as the average of the others\n"
     ]
    }
   ],
   "source": [
    "pat = 'AT'\n",
    "mem_samp = [pat+'_t1_mem', pat+'_t2_mem', pat+'_t3_mem']\n",
    "pb_samp = [pat+'_t1_pb', pat+'_t2_pb', pat+'_t3_pb']\n",
    "sp_counts, pars = mp.import_data(mem_samp, pb_samp, fam_type='family')\n",
    "nb_a_mem = dtu.read_noise_negbin_a('inference/noise/', mem_samp)\n",
    "nb_a_pb = dtu.read_noise_negbin_a('inference/noise/', pb_samp)\n",
    "dtimes = [1/12, 11/12]\n",
    "dts = [0.005, 0.005]\n",
    "\n",
    "gbm_pars = dtu.read_pars('inference/gbm/pat'+pat+'_nmin1_2.txt')\n",
    "tau_m = 10\n",
    "theta_m = gbm_pars['average_alpha'] * tau_m / 2.0\n",
    "M_tot = 10**10\n",
    "n0 = 10**(10 + gbm_pars['logM_logn0_offset_slope1'])"
   ]
  },
  {
   "cell_type": "code",
   "execution_count": 4,
   "id": "2583d653-408e-4477-8643-a5e4248df493",
   "metadata": {},
   "outputs": [],
   "source": [
    "mp_pars = mp.mp_infer_pars(\n",
    "    dtimes=dtimes, sample_indexes=[pars['m_ids'], pars['p_ids']],\n",
    "    tau_m=tau_m, theta_m=theta_m, Mm_tot=M_tot, n0=n0,\n",
    "    m_der_f=0.5, p_to_m=0.1, \n",
    "    n_eval=5*10**5, prior_pars=[5,4], dts=dts, n1_min=0\n",
    ")\n",
    "\n",
    "#%time ll, fr = mp.log_like_MC(sp_counts, 0.1, 0.3, mp_pars)\n",
    "#print(ll)"
   ]
  },
  {
   "cell_type": "markdown",
   "id": "825bb956-64df-4396-9891-70334611ace9",
   "metadata": {},
   "source": [
    "### Visualizing the likelihood\n",
    "Which we find very flat for sufficiently small alpha"
   ]
  },
  {
   "cell_type": "code",
   "execution_count": 9,
   "id": "d2b9fdc0-a84c-40b6-a2e2-bede22d22ea2",
   "metadata": {},
   "outputs": [
    {
     "data": {
      "application/vnd.jupyter.widget-view+json": {
       "model_id": "23e62287503c429896d363f49e0a6cdf",
       "version_major": 2,
       "version_minor": 0
      },
      "text/plain": [
       "  0%|          | 0/225 [00:00<?, ?it/s]"
      ]
     },
     "metadata": {},
     "output_type": "display_data"
    }
   ],
   "source": [
    "taus = np.logspace(np.log10(0.01), np.log10(10), 15)\n",
    "alphas = np.logspace(np.log10(0.03), np.log10(0.6), 15)\n",
    "lls = np.zeros((len(taus), len(alphas)))\n",
    "progress = tqdm(total=len(taus)*len(alphas))\n",
    "for i, t in enumerate(taus):\n",
    "    for j, a in enumerate(alphas):\n",
    "        th = a * t / 2\n",
    "        for k in range(len(mp_pars.dts)-1):\n",
    "            mp_pars.dts[k+1] = min(0.01, min(t, th) / 3)\n",
    "        ll, fr = mp.log_like_MC(sp_counts, t, th, mp_pars)\n",
    "        lls[i,j] = ll\n",
    "        progress.update(1)\n",
    "        lts = \"%3.2f\"%np.log10(t)\n",
    "        astr = \"%3.2f\"%a\n",
    "        #print(lts, astr, lls[i,j])"
   ]
  },
  {
   "cell_type": "code",
   "execution_count": 10,
   "id": "783819d8-0a66-47fa-bac8-6cc3fb5c2def",
   "metadata": {},
   "outputs": [
    {
     "data": {
      "image/png": "[encoded data removed]",
      "text/plain": [
       "<Figure size 432x360 with 2 Axes>"
      ]
     },
     "metadata": {
      "needs_background": "light"
     },
     "output_type": "display_data"
    }
   ],
   "source": [
    "fig, ax = plt.subplots(1, 1, figsize=(6,5))\n",
    "\n",
    "vmax = np.max(lls)\n",
    "ax = mp.plot_heatmap(ax, lls, np.log10(alphas), np.log10(taus), vmax-0.13, vmax, labx='log10 alpha', laby='log10 tau', cb=True)\n",
    "    \n",
    "plt.tight_layout()\n",
    "#plt.savefig('plots/memplasm/ll_scan_pat'+pat+'_mder'+str(mp_pars.p_to_m)+'_create.svg', facecolor='w')"
   ]
  },
  {
   "cell_type": "code",
   "execution_count": null,
   "id": "7cb16283-7fac-4c76-8a83-9a27190ac006",
   "metadata": {},
   "outputs": [],
   "source": []
  }
 ],
 "metadata": {
  "kernelspec": {
   "display_name": "Python 3",
   "language": "python",
   "name": "python3"
  },
  "language_info": {
   "codemirror_mode": {
    "name": "ipython",
    "version": 3
   },
   "file_extension": ".py",
   "mimetype": "text/x-python",
   "name": "python",
   "nbconvert_exporter": "python",
   "pygments_lexer": "ipython3",
   "version": "3.8.8"
  }
 },
 "nbformat": 4,
 "nbformat_minor": 5
}
