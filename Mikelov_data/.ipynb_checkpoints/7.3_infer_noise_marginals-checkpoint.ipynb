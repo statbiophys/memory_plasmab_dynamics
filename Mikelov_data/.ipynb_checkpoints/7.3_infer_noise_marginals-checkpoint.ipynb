{
 "cells": [
  {
   "cell_type": "code",
   "execution_count": 1,
   "id": "cedd9ddd-30d4-451d-b60d-7273fb96e529",
   "metadata": {},
   "outputs": [],
   "source": [
    "import numpy as np\n",
    "import matplotlib.pyplot as plt\n",
    "import pandas as pd\n",
    "from scipy.optimize import minimize, curve_fit\n",
    "\n",
    "import sys\n",
    "sys.path.insert(0, \"../func_py/\")\n",
    "sys.path.insert(0, \"../func_build/\")\n",
    "import infer_noise as infn\n",
    "import data_utils as dt\n",
    "import my_utils as ut"
   ]
  },
  {
   "cell_type": "code",
   "execution_count": 21,
   "id": "0384d1f7-d100-430f-8b37-fedd23175db5",
   "metadata": {},
   "outputs": [],
   "source": [
    "def read_params_across_model(sample):\n",
    "    betas, fmins, ass, bss = [], [], [], []\n",
    "    for model in models:\n",
    "        result = dt.read_noise_result('inference/noise/'+sample+'_'+model+'.txt', model)\n",
    "        betas.append(result['beta'])\n",
    "        fmins.append(10**result['fmin'])\n",
    "        if 'a' not in result: result['a'] = 0.0001\n",
    "        if 'b' not in result: result['b'] = 1\n",
    "        ass.append(result['a'])\n",
    "        bss.append(result['b'])\n",
    "    return betas, fmins, ass, bss\n",
    "\n",
    "\n",
    "def import_downsampled_replicates(sample, N_cell_min):\n",
    "    R = metadata.loc[sample].n_repls\n",
    "    merged = pd.DataFrame(columns=['family'])\n",
    "    for r in range(R):\n",
    "        r_fr = dt.read_family_frame(sample+'_r'+str(r+1), True, fam_type='family')\n",
    "        r_fr['count'] = 1\n",
    "        f_aux = dt.downsample_frame(r_fr.groupby('family').agg({'count':sum}), N_cell_min, 'count')\n",
    "        merged = pd.merge(merged, f_aux, on='family', how='outer', suffixes=('', '_'+str(r+1))).fillna(0)\n",
    "    count_mat_down = np.array(merged.drop('family', axis=1).values, dtype=int)\n",
    "    return dt.build_sparse_counts(count_mat_down.T)\n",
    "    \n",
    "\n",
    "def plot_pns(ax, P_nss, n_uniq, n_counts):\n",
    "    ax.set_xscale('log')\n",
    "    ax.set_yscale('log')\n",
    "    ax.set_xlabel(r\"$n' = \\sum_r {n'}^r$\", fontsize=12)\n",
    "    ax.set_ylabel(r\"$P({n'} | {n'}>0)$\", fontsize=12)\n",
    "    ax.scatter(n_uniq, n_counts / np.sum(n_counts), color='grey', label='data')\n",
    "    for i in range(len(models)):\n",
    "        ax.plot(ns, P_nss[i], label=models[i], color=colors[i], ls=style[i], lw=3)\n",
    "    return ax\n",
    "\n",
    "\n",
    "def plot_n_given_m_minus(ax, m_minuss, nis_list, pni_at_ns_list, nis_th, pni_at_ns_th_list):\n",
    "    c_m = ['#000000', '#929591']\n",
    "    ax.set_xlabel(r\"${n'}^r$\", fontsize=12)\n",
    "    ax.set_ylabel(r\"$P({n'}^r | {n'}^{-r})$\", fontsize=12)\n",
    "    ax.set_yscale('log')\n",
    "    ax.set_xscale('log')\n",
    "    #ax.set_xlim(np.min(pni_at_ns_list), 1.2)\n",
    "    aux_ns_th = np.append([0.5], nis_th[1:])\n",
    "    for i, ns in enumerate(m_minuss):\n",
    "        for j in range(len(models)):\n",
    "            ax.plot(aux_ns_th, pni_at_ns_th_list[j][i], c=colors[j], ls=style[j], lw=3)\n",
    "        lab = r\"${n'}^{-r} =$\" + str(m_minuss[i])\n",
    "        ax.scatter(nis_list[i][0], pni_at_ns_list[i][0], alpha=0.7, c=c_m[i], label=lab, s=70)\n",
    "        for r in range(1,len(N_cells)):\n",
    "            aux_ns = np.append([0.5], nis_list[i][r][1:])\n",
    "            ax.scatter(aux_ns, pni_at_ns_list[i][r], alpha=0.8, c=c_m[i], s=70)\n",
    "    ax.legend()\n",
    "    return ax"
   ]
  },
  {
   "cell_type": "code",
   "execution_count": 10,
   "id": "52a7500a-91aa-4551-b238-862539ed2b2f",
   "metadata": {},
   "outputs": [],
   "source": [
    "metadata = pd.read_csv('metadata/metadata.tsv', sep='\\t', index_col=0)\n",
    "models = ['poisson', 'negbin', 'negbin_b']\n",
    "model_labels = ['poisson', 'negbin', 'negbin b=1']\n",
    "n_pars = [2, 3, 4]\n",
    "colors = ['indigo', 'red', 'orange']\n",
    "style = ['-', '--', ':']"
   ]
  },
  {
   "cell_type": "code",
   "execution_count": 23,
   "id": "6ac817a5-b155-41d2-88b1-31d83ba3dd49",
   "metadata": {},
   "outputs": [],
   "source": [
    "sample = 'IZ_t3_mem'\n",
    "#sample = 'MRK_t2_pb'\n",
    "betas, fmins, ass, bss = read_params_across_model(sample)\n",
    "\n",
    "n_uniq_repl, n_counts_repl = dt.import_sample_counts(sample, metadata.loc[sample].n_repls, 'family', 'count')\n",
    "aux = pd.DataFrame([n_uniq_repl.sum(axis=1), n_counts_repl]).T.groupby(0).agg(sum)\n",
    "n_uniq, n_counts = aux.index.values, aux[1].values\n",
    "N_cells = np.sum(n_uniq_repl * n_counts_repl[:,np.newaxis], axis=0)\n",
    "\n",
    "down_fr = import_downsampled_replicates(sample, min(N_cells))"
   ]
  },
  {
   "cell_type": "code",
   "execution_count": 26,
   "id": "11b3d3bc-4941-4292-9893-90659d8dafd1",
   "metadata": {},
   "outputs": [],
   "source": [
    "ns = np.arange(1, 35)\n",
    "P_nss = []\n",
    "for i in range(len(models)):\n",
    "    P_nss.append(infn.compute_pn(ns, betas[i], fmins[i], ass[i], bss[i], N_cells))\n",
    "    \n",
    "# Observed and predicted statistics of single-replicate abundance given abundance other replicates\n",
    "m_minuss = [1, 4]\n",
    "counts_th = np.arange(15)\n",
    "pni_at_ns_th_lists = []\n",
    "nis_list, pni_at_ns_list, pni_at_ns_th_list = [], [], [[] for _ in range(len(models))]\n",
    "for m_minus in m_minuss:\n",
    "    nis_aux, pni_aux = [], []\n",
    "    for r in range(len(N_cells)):\n",
    "        nis, pni_at_ns = ut.get_pn_at_m_minus(r+1, m_minus, len(N_cells), down_fr)\n",
    "        nis_aux.append(nis)\n",
    "        pni_aux.append(pni_at_ns)\n",
    "    nis_list.append(nis_aux)\n",
    "    pni_at_ns_list.append(pni_aux)\n",
    "    \n",
    "    for i in range(len(models)):\n",
    "        pni_at_ns_th_list[i].append(infn.compute_pn_at_m_minus(counts_th, m_minus, len(N_cells), \n",
    "                                                               betas[i], fmins[i], ass[i], bss[i], min(N_cells)))"
   ]
  },
  {
   "cell_type": "code",
   "execution_count": 30,
   "id": "ff9975d5-19e0-4be1-9bf8-86b423ffe6a4",
   "metadata": {},
   "outputs": [
    {
     "data": {
      "image/png": "[encoded data removed]",
      "text/plain": [
       "<Figure size 504x216 with 2 Axes>"
      ]
     },
     "metadata": {
      "needs_background": "light"
     },
     "output_type": "display_data"
    }
   ],
   "source": [
    "fig, (ax1, ax2) = plt.subplots(1, 2, figsize=(7, 3))\n",
    "plot_pns(ax1, P_nss, n_uniq, n_counts)\n",
    "ax1.legend()\n",
    "#ax1.set_xlim(0.8, 200)\n",
    "plot_n_given_m_minus(ax2, m_minuss, nis_list, pni_at_ns_list, counts_th, pni_at_ns_th_list)\n",
    "#ax2.set_xlim(-0.3, 12)\n",
    "ax2.set_ylim(1 * 10**(-5), 1.2)\n",
    "plt.tight_layout()\n",
    "\n",
    "plt.savefig('plots/noise/marginals_'+sample+'.svg')"
   ]
  },
  {
   "cell_type": "code",
   "execution_count": null,
   "id": "3922506b-b8b0-49c4-b937-518c65c4e566",
   "metadata": {},
   "outputs": [],
   "source": []
  }
 ],
 "metadata": {
  "kernelspec": {
   "display_name": "Python 3",
   "language": "python",
   "name": "python3"
  },
  "language_info": {
   "codemirror_mode": {
    "name": "ipython",
    "version": 3
   },
   "file_extension": ".py",
   "mimetype": "text/x-python",
   "name": "python",
   "nbconvert_exporter": "python",
   "pygments_lexer": "ipython3",
   "version": "3.8.8"
  }
 },
 "nbformat": 4,
 "nbformat_minor": 5
}
