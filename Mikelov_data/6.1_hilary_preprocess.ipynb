{
 "cells": [
  {
   "cell_type": "code",
   "execution_count": 1,
   "id": "599a2b94-dcbb-49b1-ba12-f6ef5fdf38e9",
   "metadata": {},
   "outputs": [],
   "source": [
    "import numpy as np\n",
    "import pandas as pd\n",
    "import matplotlib.pyplot as plt\n",
    "from tqdm import tqdm\n",
    "from multiprocessing import Pool, cpu_count"
   ]
  },
  {
   "cell_type": "markdown",
   "id": "14c6fd5e-e7d7-45e1-9ef0-f876a712c22b",
   "metadata": {},
   "source": [
    "Merging together all the samples of a patient and create the input file of hilary"
   ]
  },
  {
   "cell_type": "code",
   "execution_count": null,
   "id": "b0e9854a-8e62-4dbc-bc4a-531233484adb",
   "metadata": {},
   "outputs": [],
   "source": [
    "\n",
    "\n",
    "def applyParallel(frame, func, silent=False, threads=None):\n",
    "    \"\"\"\n",
    "    Parallel computing across rows of a Dataframe\n",
    "    \"\"\"\n",
    "    max_threads = cpu_count()\n",
    "    if threads is None: \n",
    "        threads = max_threads\n",
    "    elif threads > max_threads: \n",
    "        threads = max_threads\n",
    "    \n",
    "    _dfGrouped = frame.groupby(level=0)\n",
    "    with Pool(threads) as p:\n",
    "        ret_list = list(tqdm(p.imap(func, _dfGrouped), total=len(_dfGrouped), disable=silent))\n",
    "        \n",
    "    return pd.concat(ret_list)\n",
    "\n",
    "\n",
    "def hilary_parse(args):\n",
    "    \"\"\"\n",
    "    Parsing a single row of a frame for Hilary formatting\n",
    "    \"\"\"\n",
    "    row = args[1].loc[args[0]]\n",
    "    d = dict()\n",
    "    try:\n",
    "        v_st, v_end = int(row.v_germline_start), int(row.v_germline_end)\n",
    "        j_len = int(row.j_sequence_end - row.j_sequence_start)\n",
    "        j_st = row.germline_alignment.rfind('N')+1\n",
    "        d['v_sequence_alignment'] = row.sequence_alignment[v_st-1 : v_end]\n",
    "        d['j_sequence_alignment'] = row.sequence_alignment[j_st : j_st + j_len]\n",
    "        d['v_germline_alignment'] = row.germline_alignment[v_st-1 : v_end]\n",
    "        d['j_germline_alignment'] = row.germline_alignment[j_st : j_st + j_len]\n",
    "        return pd.DataFrame(d, index=[args[0]])\n",
    "    except:\n",
    "        print(args[0], row)\n",
    "        return pd.DataFrame(index=[args[0]])\n",
    "\n",
    "    \n",
    "def hilary_preprocess(f):\n",
    "    \"\"\"\n",
    "    Formatting the data as hilary wants (parallel computation)\n",
    "    \"\"\"\n",
    "    df = applyParallel(f, hilary_parse)\n",
    "    df['junction'] = df.index.map(f.junction)\n",
    "    df['v_call'] = df.index.map(f.v_call)\n",
    "    df['j_call'] = df.index.map(f.j_call)\n",
    "    return df"
   ]
  },
  {
   "cell_type": "code",
   "execution_count": 3,
   "id": "08cca4f2-e01f-45b7-bd3f-7a992152f463",
   "metadata": {},
   "outputs": [
    {
     "data": {
      "text/plain": [
       "{'AT', 'D01', 'IM', 'IZ', 'MRK', 'MT'}"
      ]
     },
     "execution_count": 3,
     "metadata": {},
     "output_type": "execute_result"
    }
   ],
   "source": [
    "metadata = pd.read_csv('metadata/metadata.tsv', sep='\\t', index_col=0)\n",
    "patients = set(metadata.patient)\n",
    "patients"
   ]
  },
  {
   "cell_type": "code",
   "execution_count": 8,
   "id": "a55412f7-5fb3-4a2c-bbc9-6efa150b8f96",
   "metadata": {},
   "outputs": [
    {
     "name": "stderr",
     "output_type": "stream",
     "text": [
      "100%|██████████| 26205/26205 [00:09<00:00, 2794.78it/s]\n",
      "100%|██████████| 26424/26424 [00:09<00:00, 2837.01it/s]\n",
      "100%|██████████| 3642/3642 [00:01<00:00, 2937.51it/s]\n",
      "100%|██████████| 7935/7935 [00:02<00:00, 2849.68it/s]\n",
      "100%|██████████| 15873/15873 [00:05<00:00, 2793.40it/s]\n",
      "100%|██████████| 19948/19948 [00:07<00:00, 2819.11it/s]\n",
      "100%|██████████| 4116/4116 [00:01<00:00, 2909.62it/s]\n",
      "100%|██████████| 2608/2608 [00:00<00:00, 2790.93it/s]\n",
      "100%|██████████| 2466/2466 [00:00<00:00, 2806.37it/s]\n"
     ]
    },
    {
     "name": "stdout",
     "output_type": "stream",
     "text": [
      "D01\n"
     ]
    },
    {
     "name": "stderr",
     "output_type": "stream",
     "text": [
      "100%|██████████| 29150/29150 [00:10<00:00, 2831.81it/s]\n",
      "100%|██████████| 7356/7356 [00:02<00:00, 2803.17it/s]\n",
      "100%|██████████| 21321/21321 [00:07<00:00, 2784.86it/s]\n",
      "100%|██████████| 19736/19736 [00:06<00:00, 2834.45it/s]\n",
      "100%|██████████| 4530/4530 [00:01<00:00, 2772.54it/s]\n",
      "100%|██████████| 16875/16875 [00:06<00:00, 2798.12it/s]\n",
      "100%|██████████| 7676/7676 [00:02<00:00, 2825.31it/s]\n",
      "100%|██████████| 1561/1561 [00:00<00:00, 2815.26it/s]\n",
      "100%|██████████| 4005/4005 [00:01<00:00, 2898.33it/s]\n"
     ]
    },
    {
     "name": "stdout",
     "output_type": "stream",
     "text": [
      "AT\n"
     ]
    },
    {
     "name": "stderr",
     "output_type": "stream",
     "text": [
      "100%|██████████| 17234/17234 [00:06<00:00, 2725.54it/s]\n",
      "100%|██████████| 17988/17988 [00:06<00:00, 2666.09it/s]\n",
      "100%|██████████| 2084/2084 [00:00<00:00, 3123.98it/s]\n",
      "100%|██████████| 1928/1928 [00:00<00:00, 3100.23it/s]\n"
     ]
    },
    {
     "name": "stdout",
     "output_type": "stream",
     "text": [
      "MT\n"
     ]
    },
    {
     "name": "stderr",
     "output_type": "stream",
     "text": [
      "100%|██████████| 58672/58672 [00:21<00:00, 2739.27it/s]\n",
      "100%|██████████| 431/431 [00:00<00:00, 2841.73it/s]\n",
      "100%|██████████| 23764/23764 [00:07<00:00, 2994.83it/s]\n",
      "100%|██████████| 34528/34528 [00:12<00:00, 2862.85it/s]\n",
      "100%|██████████| 6145/6145 [00:02<00:00, 2776.48it/s]\n",
      "100%|██████████| 5222/5222 [00:01<00:00, 2870.38it/s]\n",
      "100%|██████████| 17528/17528 [00:06<00:00, 2829.39it/s]\n",
      "100%|██████████| 16692/16692 [00:05<00:00, 2878.10it/s]\n",
      "100%|██████████| 2722/2722 [00:00<00:00, 2736.70it/s]\n",
      "100%|██████████| 2794/2794 [00:01<00:00, 2712.29it/s]\n"
     ]
    },
    {
     "name": "stdout",
     "output_type": "stream",
     "text": [
      "IM\n"
     ]
    },
    {
     "name": "stderr",
     "output_type": "stream",
     "text": [
      "100%|██████████| 44143/44143 [00:15<00:00, 2885.11it/s]\n",
      "100%|██████████| 5175/5175 [00:01<00:00, 2964.92it/s]\n",
      "100%|██████████| 28363/28363 [00:09<00:00, 2893.30it/s]\n",
      "100%|██████████| 31490/31490 [00:11<00:00, 2855.37it/s]\n",
      "100%|██████████| 2003/2003 [00:00<00:00, 2690.13it/s]\n",
      "100%|██████████| 5418/5418 [00:01<00:00, 2838.52it/s]\n",
      "100%|██████████| 30771/30771 [00:10<00:00, 2842.73it/s]\n",
      "100%|██████████| 32853/32853 [00:11<00:00, 2824.72it/s]\n",
      "100%|██████████| 3933/3933 [00:01<00:00, 3104.92it/s]\n",
      "100%|██████████| 4795/4795 [00:01<00:00, 3056.62it/s]\n"
     ]
    },
    {
     "name": "stdout",
     "output_type": "stream",
     "text": [
      "IZ\n"
     ]
    },
    {
     "name": "stderr",
     "output_type": "stream",
     "text": [
      "100%|██████████| 49504/49504 [00:16<00:00, 2975.13it/s]\n",
      "100%|██████████| 573/573 [00:00<00:00, 3334.33it/s]\n",
      "100%|██████████| 31750/31750 [00:10<00:00, 2985.15it/s]\n",
      "100%|██████████| 21099/21099 [00:06<00:00, 3054.97it/s]\n",
      "100%|██████████| 5131/5131 [00:01<00:00, 3091.81it/s]\n",
      "100%|██████████| 2964/2964 [00:00<00:00, 3086.46it/s]\n",
      "100%|██████████| 4995/4995 [00:01<00:00, 3050.36it/s]\n",
      "100%|██████████| 2084/2084 [00:00<00:00, 3268.19it/s]\n",
      "100%|██████████| 1928/1928 [00:00<00:00, 3178.64it/s]\n",
      "100%|██████████| 157/157 [00:00<00:00, 3582.16it/s]\n",
      "100%|██████████| 122/122 [00:00<00:00, 5027.81it/s]\n"
     ]
    },
    {
     "name": "stdout",
     "output_type": "stream",
     "text": [
      "MRK\n"
     ]
    }
   ],
   "source": [
    "for pat in patients:\n",
    "    pat_ids = metadata[metadata.patient == pat].index\n",
    "    merged_fr = pd.DataFrame()\n",
    "    for _id in pat_ids:\n",
    "        \n",
    "        if metadata.loc[_id].n_repls > 1:\n",
    "            for r in range(1, metadata.loc[_id].n_repls + 1):\n",
    "                fr = pd.read_csv(\"sequences/replicates/\" + _id + '_r' + str(r) + '.tsv', sep='\\t', index_col=0)\n",
    "                fr = fr[fr.germline_alignment.notna()]\n",
    "                fr = hilary_preprocess(fr)\n",
    "                fr['sample'] = _id + '_r' + str(r)\n",
    "                fr.index = fr.index.astype(str) + '_' + fr['sample']\n",
    "                merged_fr = pd.concat((merged_fr, fr))\n",
    "        else:\n",
    "            fr = pd.read_csv(\"sequences/\" + _id + '.tsv', sep='\\t', index_col=0)\n",
    "            fr = fr[fr.germline_alignment.notna()]\n",
    "            fr = hilary_preprocess(fr)\n",
    "            fr['sample'] = _id\n",
    "            fr.index = fr.index.astype(str) + '_' + fr['sample']\n",
    "            merged_fr = pd.concat((merged_fr, fr))\n",
    "                \n",
    "    print(pat)\n",
    "    merged_fr.index.name = \"sequence_id\"\n",
    "    #merged_fr.index = \"id_\" + merged_fr.index.astype(str)\n",
    "    #merged_fr.index = fr['sequence_id']\n",
    "    merged_fr.to_csv('lineages/seqs_in/' + pat + '.tsv', sep='\\t')"
   ]
  },
  {
   "cell_type": "code",
   "execution_count": null,
   "id": "088aba97-9d58-45e1-9279-9cd4049d9865",
   "metadata": {},
   "outputs": [],
   "source": []
  }
 ],
 "metadata": {
  "kernelspec": {
   "display_name": "Python 3",
   "language": "python",
   "name": "python3"
  },
  "language_info": {
   "codemirror_mode": {
    "name": "ipython",
    "version": 3
   },
   "file_extension": ".py",
   "mimetype": "text/x-python",
   "name": "python",
   "nbconvert_exporter": "python",
   "pygments_lexer": "ipython3",
   "version": "3.8.8"
  }
 },
 "nbformat": 4,
 "nbformat_minor": 5
}
